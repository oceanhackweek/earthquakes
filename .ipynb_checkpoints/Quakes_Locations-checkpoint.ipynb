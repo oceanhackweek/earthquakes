{
 "cells": [
  {
   "cell_type": "code",
   "execution_count": 2,
   "id": "6f6abe7c-f1e2-4543-bcb6-44f2390d3174",
   "metadata": {},
   "outputs": [
    {
     "name": "stdout",
     "output_type": "stream",
     "text": [
      "Defaulting to user installation because normal site-packages is not writeable\n",
      "Requirement already satisfied: cartopy in /opt/conda/lib/python3.9/site-packages (0.20.3)\n",
      "Requirement already satisfied: numpy>=1.18 in /opt/conda/lib/python3.9/site-packages (from cartopy) (1.23.1)\n",
      "Requirement already satisfied: pyproj>=3.0.0 in /opt/conda/lib/python3.9/site-packages (from cartopy) (3.3.1)\n",
      "Requirement already satisfied: pyshp>=2.1 in /opt/conda/lib/python3.9/site-packages (from cartopy) (2.3.1)\n",
      "Requirement already satisfied: shapely>=1.6.4 in /opt/conda/lib/python3.9/site-packages (from cartopy) (1.8.2)\n",
      "Requirement already satisfied: matplotlib>=3.1 in /opt/conda/lib/python3.9/site-packages (from cartopy) (3.5.2)\n",
      "Requirement already satisfied: packaging>=20.0 in /opt/conda/lib/python3.9/site-packages (from matplotlib>=3.1->cartopy) (20.9)\n",
      "Requirement already satisfied: cycler>=0.10 in /opt/conda/lib/python3.9/site-packages (from matplotlib>=3.1->cartopy) (0.11.0)\n",
      "Requirement already satisfied: kiwisolver>=1.0.1 in /opt/conda/lib/python3.9/site-packages (from matplotlib>=3.1->cartopy) (1.4.4)\n",
      "Requirement already satisfied: pyparsing>=2.2.1 in /opt/conda/lib/python3.9/site-packages (from matplotlib>=3.1->cartopy) (3.0.9)\n",
      "Requirement already satisfied: pillow>=6.2.0 in /opt/conda/lib/python3.9/site-packages (from matplotlib>=3.1->cartopy) (9.2.0)\n",
      "Requirement already satisfied: python-dateutil>=2.7 in /opt/conda/lib/python3.9/site-packages (from matplotlib>=3.1->cartopy) (2.8.2)\n",
      "Requirement already satisfied: fonttools>=4.22.0 in /opt/conda/lib/python3.9/site-packages (from matplotlib>=3.1->cartopy) (4.34.4)\n",
      "Requirement already satisfied: certifi in /opt/conda/lib/python3.9/site-packages (from pyproj>=3.0.0->cartopy) (2022.6.15)\n",
      "Requirement already satisfied: six>=1.5 in /opt/conda/lib/python3.9/site-packages (from python-dateutil>=2.7->matplotlib>=3.1->cartopy) (1.16.0)\n"
     ]
    }
   ],
   "source": [
    "#!pip install obspy\n",
    "import sys\n",
    "!{sys.executable} -m pip install cartopy"
   ]
  },
  {
   "cell_type": "code",
   "execution_count": 22,
   "id": "7b31e04d-8d2b-4211-a688-1373f12d1e6b",
   "metadata": {},
   "outputs": [
    {
     "name": "stdout",
     "output_type": "stream",
     "text": [
      "Defaulting to user installation because normal site-packages is not writeable\n",
      "\u001b[31mERROR: Could not find a version that satisfies the requirement mpl_toolkits (from versions: none)\u001b[0m\n",
      "\u001b[31mERROR: No matching distribution found for mpl_toolkits\u001b[0m\n"
     ]
    }
   ],
   "source": [
    "!{sys.executable} -m pip install mpl_toolkits"
   ]
  },
  {
   "cell_type": "code",
   "execution_count": 8,
   "id": "eb68338b-3ad3-44c8-ac32-a1a1703a1c70",
   "metadata": {},
   "outputs": [],
   "source": [
    "#Run this first\n",
    "import obspy\n",
    "import numpy as np\n",
    "from obspy.clients.fdsn.client import Client\n",
    " ##TODOli Can't install cartopy on Noah's local machine\n",
    "import pandas as pd\n",
    "import geopandas as gpd\n",
    "from collections import defaultdict\n",
    "\n",
    "import matplotlib.cm as cm\n",
    "from matplotlib.pyplot import figure, show, rc\n",
    "from matplotlib import pyplot as plt\n",
    "\n",
    "import plotly.express as px\n",
    "import cartopy\n",
    "import cartopy.crs as ccrs                   # import projections\n",
    "import cartopy.feature as cf \n",
    "from cartopy.feature import NaturalEarthFeature\n",
    "# import Basemap\n",
    "# from mpl_toolkits.basemap import Basemap\n"
   ]
  },
  {
   "cell_type": "code",
   "execution_count": 2,
   "id": "36e79ad9-6191-4ca3-8b87-6916fba0b802",
   "metadata": {},
   "outputs": [],
   "source": [
    "#run this cell to define functions\n",
    "\n",
    "def quakeML_Loader(filepath): #Loads quakeML file formats as Catalog\n",
    "    # Make an obspy Catalog object from the QuakeML file.\n",
    "    return obspy.core.event.read_events(filepath)\n",
    "    #Copied from Maleen's code\n",
    "    #Not sure this 1-line function actually needs to exist\n",
    "\n",
    "def generate_summary(cat): #function that generates a summary table of data from a catalog of events for identification of best candidate events\n",
    "    resource_ids = []\n",
    "    magnitudes = []\n",
    "    pick_counts =[]\n",
    "    epi_lats = []\n",
    "    epi_longs = []\n",
    "    times = []\n",
    "    depths = []\n",
    "    for event in cat:\n",
    "        resource_ids.append(event.resource_id)\n",
    "        magnitudes.append(event.magnitudes[0].mag)\n",
    "        pick_counts.append(len(event.picks))\n",
    "        epi_lats.append(event.origins[0].latitude)\n",
    "        epi_longs.append(event.origins[0].longitude)\n",
    "        times.append(event.origins[0].time)\n",
    "        depths.append(event.origins[0].depth)\n",
    "    summary = pd.DataFrame(resource_ids, magnitudes).reset_index()\n",
    "    summary.columns = ['magnitudes','resource_ids']\n",
    "    summary['pick_counts'] = pick_counts #unsure why this needs to be done on its own but it works\n",
    "    summary['epi_lats'] = epi_lats\n",
    "    summary['epi_longs'] = epi_longs\n",
    "    summary['times'] = times\n",
    "    summary['depths'] = depths\n",
    "    #these two lines can be edited for legibility and helpfulness\n",
    "    print('Biggest earthquake was', summary.sort_values(by='magnitudes', ascending = False).get('resource_ids').iloc[0],'with magnitude',str(summary.sort_values(by='magnitudes', ascending = False).get('magnitudes').iloc[0])+'.')\n",
    "    print('Best picked earthquake was', summary.sort_values(by='pick_counts', ascending = False).get('resource_ids').iloc[0],'with',summary.sort_values(by='pick_counts', ascending = False).get('pick_counts').iloc[0],'picks.')\n",
    "    #TODO get index position(s) of most relevant quakes, but for our data set it's i = 170\n",
    "    return summary\n",
    "\n",
    "def quakeML_Reader(event):\n",
    "    epicenter = (event.origins[0].latitude, event.origins[0].longitude) #stores event epicenter lat/lon as tuple\n",
    "    magnitude = event.magnitudes[0].mag #stores event magnitude\n",
    "    birthday = event.origins[0].time #stores time at which event occurs\n",
    "    results = []\n",
    "    for arrival in event.origins[0].arrivals: #goes through arrival data and notes phase, azimuthal angle, distance from epicenter and pick_id in 2D list\n",
    "        phase = arrival.phase\n",
    "        azi = arrival.azimuth\n",
    "        dist = arrival.distance * 111 #there is a note in Maleen's code about this being in degrees\n",
    "        pick_id = arrival.pick_id\n",
    "        result = [phase, azi, dist, pick_id]\n",
    "        results.append(result)\n",
    "    arrivals = pd.DataFrame(results)\n",
    "    arrivals.columns = ['phase','azimuth','distance','pick_id'] #makes DataFrame of arrivals data\n",
    "    results = []\n",
    "    for pick in event.picks: #goes through pick data and notes time of arrival, station data and pick_id in 2D list\n",
    "        pick_id = pick.resource_id\n",
    "        time = pick.time\n",
    "        network_code = pick.waveform_id.network_code\n",
    "        station_code = pick.waveform_id.station_code\n",
    "        channel_code =pick.waveform_id.channel_code\n",
    "        result = [pick_id, time, network_code, station_code, channel_code]\n",
    "        results.append(result)\n",
    "    picks = pd.DataFrame(results)\n",
    "    picks.columns = ['pick_id','time','network_code','station_code','channel_code'] #makes DataFrame of picks data\n",
    "    picks['travel_time'] = picks['time'] - birthday\n",
    "    log = arrivals.merge(picks, left_on='pick_id', right_on='pick_id').sort_values(by='travel_time') #merges arrivals and picks data\n",
    "    log['velocity'] = log['distance'] / log['travel_time']\n",
    "    bonus = (epicenter, magnitude, birthday) #TODO integrate bonus\n",
    "\n",
    "    #adds lat lon to picks\n",
    "    #code borrowed from Zoe's explore_data.ipynb\n",
    "    sta_list = np.unique(log.station_code)\n",
    "\n",
    "    # Get all the info for those stations from IRIS\n",
    "    network = \",\".join((np.unique(log.network_code)).tolist())\n",
    "    channel = \",\".join((np.unique(log.channel_code)).tolist())\n",
    "    station = \",\".join((np.unique(log.station_code)).tolist())\n",
    "\n",
    "    starttime = np.min(log['time'])\n",
    "    endtime = np.max(log['time'])\n",
    "\n",
    "    sta_metadata = Client(\"iris\").get_stations(starttime=starttime,endtime=endtime,network=network,channel=channel,station=station,location='',level='response')\n",
    "\n",
    "    station_locs = defaultdict(dict)\n",
    "    for network in sta_metadata:\n",
    "        for station in network:\n",
    "            for chn in station:\n",
    "                sid = f\"{network.code}.{station.code}.{chn.location_code}.{chn.code[:-1]}\" + chn.start_date.strftime('%Y%j')\n",
    "                if sid in station_locs:\n",
    "                    station_locs[sid][\"component\"] += f\",{chn.code[-1]}\"\n",
    "                    station_locs[sid][\"response\"] += f\",{chn.response.instrument_sensitivity.value:.2f}\"\n",
    "                else:\n",
    "                    component = f\"{chn.code[-1]}\"\n",
    "                    response = f\"{chn.response.instrument_sensitivity.value:.2f}\"\n",
    "                    dtype = chn.response.instrument_sensitivity.input_units.lower()\n",
    "                    tmp_dict = {}\n",
    "                    tmp_dict[\"longitude\"], tmp_dict[\"latitude\"], tmp_dict[\"elevation(m)\"] = (\n",
    "                        chn.longitude,\n",
    "                        chn.latitude,\n",
    "                        chn.elevation,\n",
    "                    )\n",
    "                    tmp_dict[\"component\"], tmp_dict[\"response\"], tmp_dict[\"unit\"] = component, response, dtype\n",
    "                    tmp_dict[\"start_date\"], tmp_dict[\"end_date\"] = chn.start_date,chn.end_date\n",
    "                    tmp_dict[\"network\"], tmp_dict[\"station\"] = network.code, station.code\n",
    "                    station_locs[sid] = tmp_dict\n",
    "\n",
    "    station_locs = pd.DataFrame.from_dict(station_locs,orient='index')\n",
    "    station_locs[\"id\"] = station_locs.index\n",
    "    # Remove the date from ID\n",
    "    station_locs['id']=station_locs['id'].str.slice(stop=-7)\n",
    "    loc_log = log.merge(station_locs, left_on='station_code',right_on='station').drop(columns=['component','response','unit','start_date','end_date','id','network_code','station_code'])\n",
    "    return loc_log"
   ]
  },
  {
   "cell_type": "code",
   "execution_count": 3,
   "id": "0c7bdc52-f9a4-4525-abc8-912e6c1011a1",
   "metadata": {},
   "outputs": [],
   "source": [
    "cat = quakeML_Loader('XO_2019_01.quakeml') #loads quakeML file as events Catalog\n",
    "\n",
    "#Should take about 1 minute to run on Noah's laptop, be patient"
   ]
  },
  {
   "cell_type": "code",
   "execution_count": 6,
   "id": "311b6e73-0a37-4e20-bc08-11900228d023",
   "metadata": {},
   "outputs": [
    {
     "name": "stdout",
     "output_type": "stream",
     "text": [
      "Biggest earthquake was quakeml:earthquake.alaska.edu/event/01910ggmlc with magnitude 5.2.\n",
      "Best picked earthquake was quakeml:earthquake.alaska.edu/event/01910ggmlc with 455 picks.\n"
     ]
    },
    {
     "data": {
      "text/html": [
       "<div>\n",
       "<style scoped>\n",
       "    .dataframe tbody tr th:only-of-type {\n",
       "        vertical-align: middle;\n",
       "    }\n",
       "\n",
       "    .dataframe tbody tr th {\n",
       "        vertical-align: top;\n",
       "    }\n",
       "\n",
       "    .dataframe thead th {\n",
       "        text-align: right;\n",
       "    }\n",
       "</style>\n",
       "<table border=\"1\" class=\"dataframe\">\n",
       "  <thead>\n",
       "    <tr style=\"text-align: right;\">\n",
       "      <th></th>\n",
       "      <th>magnitudes</th>\n",
       "      <th>resource_ids</th>\n",
       "      <th>pick_counts</th>\n",
       "      <th>epi_lats</th>\n",
       "      <th>epi_longs</th>\n",
       "      <th>times</th>\n",
       "      <th>depths</th>\n",
       "    </tr>\n",
       "  </thead>\n",
       "  <tbody>\n",
       "    <tr>\n",
       "      <th>0</th>\n",
       "      <td>2.4</td>\n",
       "      <td>quakeml:earthquake.alaska.edu/event/0191qjphy</td>\n",
       "      <td>35</td>\n",
       "      <td>54.3925</td>\n",
       "      <td>-161.4584</td>\n",
       "      <td>2019-01-01T05:05:56.545000Z</td>\n",
       "      <td>25600.0</td>\n",
       "    </tr>\n",
       "    <tr>\n",
       "      <th>1</th>\n",
       "      <td>2.9</td>\n",
       "      <td>quakeml:earthquake.alaska.edu/event/0191r79en</td>\n",
       "      <td>66</td>\n",
       "      <td>54.2056</td>\n",
       "      <td>-161.5565</td>\n",
       "      <td>2019-01-01T06:15:44.168000Z</td>\n",
       "      <td>62000.0</td>\n",
       "    </tr>\n",
       "    <tr>\n",
       "      <th>2</th>\n",
       "      <td>3.0</td>\n",
       "      <td>quakeml:earthquake.alaska.edu/event/0191r7uq7</td>\n",
       "      <td>161</td>\n",
       "      <td>57.1614</td>\n",
       "      <td>-157.9859</td>\n",
       "      <td>2019-01-01T06:18:21.851000Z</td>\n",
       "      <td>133100.0</td>\n",
       "    </tr>\n",
       "    <tr>\n",
       "      <th>3</th>\n",
       "      <td>3.5</td>\n",
       "      <td>quakeml:earthquake.alaska.edu/event/0191u5who</td>\n",
       "      <td>162</td>\n",
       "      <td>55.7353</td>\n",
       "      <td>-149.1689</td>\n",
       "      <td>2019-01-01T11:12:56.407000Z</td>\n",
       "      <td>18600.0</td>\n",
       "    </tr>\n",
       "    <tr>\n",
       "      <th>4</th>\n",
       "      <td>3.5</td>\n",
       "      <td>quakeml:earthquake.alaska.edu/event/0191uwq6k</td>\n",
       "      <td>91</td>\n",
       "      <td>54.2502</td>\n",
       "      <td>-161.6862</td>\n",
       "      <td>2019-01-01T12:38:14.804000Z</td>\n",
       "      <td>42100.0</td>\n",
       "    </tr>\n",
       "  </tbody>\n",
       "</table>\n",
       "</div>"
      ],
      "text/plain": [
       "   magnitudes                                   resource_ids  pick_counts  \\\n",
       "0         2.4  quakeml:earthquake.alaska.edu/event/0191qjphy           35   \n",
       "1         2.9  quakeml:earthquake.alaska.edu/event/0191r79en           66   \n",
       "2         3.0  quakeml:earthquake.alaska.edu/event/0191r7uq7          161   \n",
       "3         3.5  quakeml:earthquake.alaska.edu/event/0191u5who          162   \n",
       "4         3.5  quakeml:earthquake.alaska.edu/event/0191uwq6k           91   \n",
       "\n",
       "   epi_lats  epi_longs                        times    depths  \n",
       "0   54.3925  -161.4584  2019-01-01T05:05:56.545000Z   25600.0  \n",
       "1   54.2056  -161.5565  2019-01-01T06:15:44.168000Z   62000.0  \n",
       "2   57.1614  -157.9859  2019-01-01T06:18:21.851000Z  133100.0  \n",
       "3   55.7353  -149.1689  2019-01-01T11:12:56.407000Z   18600.0  \n",
       "4   54.2502  -161.6862  2019-01-01T12:38:14.804000Z   42100.0  "
      ]
     },
     "execution_count": 6,
     "metadata": {},
     "output_type": "execute_result"
    }
   ],
   "source": [
    "#generate_summary(cat) #summarizes events and identifies most relevant\n",
    "# generate_summary(cat)\n",
    "df = generate_summary(cat)\n",
    "df.head()"
   ]
  },
  {
   "cell_type": "code",
   "execution_count": 23,
   "id": "0a416fdc-393a-448c-9fe5-5815e7f38717",
   "metadata": {},
   "outputs": [],
   "source": [
    "# df['year'] = pd.DatetimeIndex(df['times']).year # add year as a category to group by\n",
    "df['marker_size'] =np.fix(np.exp(df['magnitudes'])) # add marker size as exp(mag)\n",
    "df['magnitude bin'] = 0.5*np.fix(2*df['magnitudes']) # add marker size as exp(mag)\n",
    "df['location'] = 'Alaskan Coast'"
   ]
  },
  {
   "cell_type": "code",
   "execution_count": 36,
   "id": "50ac06ad-db74-4d47-a911-2b101bb50aec",
   "metadata": {},
   "outputs": [
    {
     "data": {
      "application/vnd.plotly.v1+json": {
       "config": {
        "plotlyServerURL": "https://plot.ly"
       },
       "data": [
        {
         "customdata": [
          [
           2.4,
           25600
          ],
          [
           2.9,
           62000
          ],
          [
           3,
           133100
          ],
          [
           3.5,
           18600
          ],
          [
           3.5,
           42100
          ],
          [
           3.6,
           17500
          ],
          [
           2.6,
           25000
          ],
          [
           5,
           59500
          ],
          [
           3.1,
           8800
          ],
          [
           1.6,
           58700
          ],
          [
           1.8,
           58300
          ],
          [
           3.3,
           12600
          ],
          [
           2.6,
           41600
          ],
          [
           3.1,
           12000
          ],
          [
           4.4,
           88400
          ],
          [
           1.9,
           61700
          ],
          [
           2.8,
           12200
          ],
          [
           2.6,
           9300
          ],
          [
           2.8,
           139100
          ],
          [
           3.5,
           31000
          ],
          [
           1.5,
           69400
          ],
          [
           2,
           71400
          ],
          [
           3.4,
           41600
          ],
          [
           1.7,
           46800
          ],
          [
           1.2,
           60100
          ],
          [
           2,
           34400
          ],
          [
           1.5,
           60400
          ],
          [
           2.7,
           10200
          ],
          [
           2.1,
           7000
          ],
          [
           1.7,
           67900
          ],
          [
           1.7,
           87000
          ],
          [
           3,
           46800
          ],
          [
           1.9,
           8700
          ],
          [
           1.9,
           43600
          ],
          [
           1.5,
           68600
          ],
          [
           2.5,
           11200
          ],
          [
           1.8,
           12700
          ],
          [
           1.8,
           13200
          ],
          [
           1.1,
           700
          ],
          [
           1.4,
           54800
          ],
          [
           2.1,
           25600
          ],
          [
           2.1,
           25700
          ],
          [
           2.8,
           12000
          ],
          [
           1.8,
           123900
          ],
          [
           3.3,
           12300
          ],
          [
           2.9,
           114900
          ],
          [
           1.6,
           78900
          ],
          [
           3,
           12100
          ],
          [
           2.9,
           12100
          ],
          [
           1.9,
           148200
          ],
          [
           2.9,
           15700
          ],
          [
           2.2,
           68400
          ],
          [
           2.7,
           8600
          ],
          [
           1.3,
           50300
          ],
          [
           1.1,
           9500
          ],
          [
           1.7,
           13400
          ],
          [
           2.3,
           52000
          ],
          [
           0.4,
           3900
          ],
          [
           2.5,
           26000
          ],
          [
           3.1,
           68100
          ],
          [
           2.8,
           49800
          ],
          [
           3,
           12400
          ],
          [
           1.9,
           53000
          ],
          [
           3.2,
           42300
          ],
          [
           1.9,
           27000
          ],
          [
           1.5,
           51900
          ],
          [
           2.6,
           12200
          ],
          [
           3.1,
           7800
          ],
          [
           3,
           11900
          ],
          [
           2.1,
           5600
          ],
          [
           2.1,
           126400
          ],
          [
           2.9,
           12800
          ],
          [
           2.9,
           25600
          ],
          [
           2.4,
           25500
          ],
          [
           1.6,
           48200
          ],
          [
           2.5,
           27800
          ],
          [
           2.6,
           9400
          ],
          [
           2,
           116500
          ],
          [
           2.1,
           8900
          ],
          [
           2.6,
           37200
          ],
          [
           2.7,
           49100
          ],
          [
           2.9,
           12500
          ],
          [
           3.1,
           7700
          ],
          [
           2.1,
           68000
          ],
          [
           2.4,
           72300
          ],
          [
           2.7,
           80100
          ],
          [
           2.6,
           66600
          ],
          [
           1.9,
           75200
          ],
          [
           2.7,
           11900
          ],
          [
           1.7,
           58100
          ],
          [
           1.3,
           18100
          ],
          [
           1.7,
           58300
          ],
          [
           1.5,
           93100
          ],
          [
           2.2,
           114300
          ],
          [
           1.5,
           19100
          ],
          [
           1.8,
           30800
          ],
          [
           1.4,
           13700
          ],
          [
           2.4,
           9200
          ],
          [
           1.7,
           126500
          ],
          [
           2.3,
           70600
          ],
          [
           2.6,
           64700
          ],
          [
           1.9,
           50100
          ],
          [
           2.1,
           99100
          ],
          [
           2.1,
           66200
          ],
          [
           2.5,
           52700
          ],
          [
           1.2,
           5700
          ],
          [
           3.4,
           41400
          ],
          [
           2.1,
           115600
          ],
          [
           2,
           81600
          ],
          [
           2.3,
           41100
          ],
          [
           2.4,
           36900
          ],
          [
           3.5,
           81400
          ],
          [
           2.7,
           42200
          ],
          [
           1.1,
           100
          ],
          [
           2.5,
           61600
          ],
          [
           3.2,
           6700
          ],
          [
           2.4,
           11700
          ],
          [
           2.4,
           15500
          ],
          [
           2.1,
           66700
          ],
          [
           2.1,
           63200
          ],
          [
           1.7,
           57900
          ],
          [
           1.3,
           1000
          ],
          [
           2.6,
           49300
          ],
          [
           2.9,
           30000
          ],
          [
           2.9,
           12400
          ],
          [
           2.4,
           123500
          ],
          [
           2.3,
           16800
          ],
          [
           2.2,
           55900
          ],
          [
           2,
           148200
          ],
          [
           2.9,
           83100
          ],
          [
           2.4,
           128400
          ],
          [
           3.2,
           38300
          ],
          [
           2.8,
           46000
          ],
          [
           2.4,
           43800
          ],
          [
           2.9,
           12000
          ],
          [
           2.9,
           12100
          ],
          [
           3.3,
           25000
          ],
          [
           2.1,
           158600
          ],
          [
           1.9,
           30000
          ],
          [
           1.2,
           11200
          ],
          [
           1.5,
           28400
          ],
          [
           3,
           154400
          ],
          [
           3.1,
           13000
          ],
          [
           0.4,
           2500
          ],
          [
           2.6,
           67100
          ],
          [
           2.5,
           25600
          ],
          [
           1.5,
           55200
          ],
          [
           1.5,
           8500
          ],
          [
           2.4,
           21200
          ],
          [
           2.6,
           12300
          ],
          [
           2.3,
           98200
          ],
          [
           2,
           120800
          ],
          [
           2,
           66600
          ],
          [
           1.2,
           41800
          ],
          [
           0.6,
           6100
          ],
          [
           2.6,
           35000
          ],
          [
           1.9,
           8600
          ],
          [
           1.8,
           82300
          ],
          [
           2.1,
           37900
          ],
          [
           3.3,
           36000
          ],
          [
           1.5,
           6800
          ],
          [
           2.9,
           12100
          ],
          [
           2.8,
           38600
          ],
          [
           1.3,
           17600
          ],
          [
           2.9,
           12500
          ],
          [
           2.5,
           35000
          ],
          [
           3,
           11800
          ],
          [
           1.9,
           136200
          ],
          [
           2.3,
           47100
          ],
          [
           1.3,
           40000
          ],
          [
           5.2,
           123700
          ],
          [
           3.4,
           166500
          ],
          [
           2.3,
           93000
          ],
          [
           2.6,
           31200
          ],
          [
           2.8,
           13700
          ],
          [
           2,
           32100
          ],
          [
           2.3,
           25700
          ],
          [
           2.5,
           51500
          ],
          [
           2.1,
           124700
          ],
          [
           2.5,
           18800
          ],
          [
           1.8,
           38300
          ],
          [
           2.7,
           60200
          ],
          [
           2.2,
           119500
          ],
          [
           1.8,
           8100
          ],
          [
           3.2,
           43500
          ],
          [
           2.5,
           120800
          ],
          [
           1.8,
           15000
          ],
          [
           2.8,
           15600
          ],
          [
           3.5,
           52000
          ],
          [
           3.1,
           65000
          ],
          [
           2.8,
           117300
          ],
          [
           1.8,
           14000
          ],
          [
           2.6,
           54100
          ],
          [
           1.9,
           128800
          ],
          [
           2.3,
           96100
          ],
          [
           1.6,
           69500
          ],
          [
           2.7,
           43100
          ],
          [
           3,
           11800
          ],
          [
           2.9,
           11700
          ],
          [
           2.9,
           12600
          ],
          [
           1.9,
           111000
          ],
          [
           2.9,
           13200
          ],
          [
           2,
           66500
          ],
          [
           1.7,
           60100
          ],
          [
           2,
           60300
          ],
          [
           2.6,
           118900
          ],
          [
           1.6,
           51400
          ],
          [
           1.4,
           10900
          ],
          [
           1.8,
           49200
          ],
          [
           1.8,
           12600
          ],
          [
           1.8,
           46300
          ],
          [
           2,
           25800
          ],
          [
           1.7,
           71700
          ],
          [
           3.2,
           45100
          ],
          [
           1.8,
           78500
          ],
          [
           1.5,
           38000
          ],
          [
           2,
           38300
          ],
          [
           2,
           55100
          ],
          [
           2.7,
           12200
          ],
          [
           3,
           12500
          ],
          [
           2.8,
           50200
          ],
          [
           1.4,
           16100
          ],
          [
           1.7,
           68800
          ],
          [
           2,
           4300
          ],
          [
           1.6,
           13300
          ],
          [
           1,
           4100
          ],
          [
           1,
           4500
          ],
          [
           1.3,
           3900
          ],
          [
           1.3,
           44500
          ],
          [
           2,
           32600
          ],
          [
           1.4,
           65900
          ],
          [
           1.1,
           1200
          ],
          [
           1.5,
           85300
          ],
          [
           1.5,
           75500
          ],
          [
           1,
           2800
          ],
          [
           1.8,
           37800
          ],
          [
           4.2,
           12100
          ],
          [
           1.5,
           58100
          ],
          [
           2.4,
           22200
          ],
          [
           1.8,
           59400
          ],
          [
           1.9,
           5100
          ],
          [
           1.5,
           500
          ],
          [
           1.1,
           11000
          ],
          [
           1.5,
           50300
          ],
          [
           2.7,
           2400
          ],
          [
           2.6,
           9200
          ],
          [
           1.4,
           66900
          ],
          [
           1.9,
           10300
          ],
          [
           1.6,
           59700
          ],
          [
           1,
           6500
          ],
          [
           1.8,
           35200
          ],
          [
           2.8,
           1700
          ],
          [
           3.2,
           4000
          ],
          [
           3.3,
           11200
          ],
          [
           3.2,
           10000
          ],
          [
           3.1,
           11100
          ],
          [
           3.4,
           12400
          ],
          [
           1.4,
           32500
          ],
          [
           3.3,
           6800
          ],
          [
           2.6,
           87000
          ],
          [
           1.6,
           60600
          ],
          [
           1.7,
           21300
          ],
          [
           2.8,
           37700
          ],
          [
           2.7,
           32300
          ],
          [
           3,
           11500
          ],
          [
           1.9,
           123000
          ],
          [
           2.6,
           0
          ],
          [
           2.4,
           12000
          ],
          [
           1.4,
           22700
          ],
          [
           1.9,
           156900
          ],
          [
           2.6,
           7900
          ],
          [
           2.6,
           3700
          ],
          [
           2.6,
           1800
          ],
          [
           2.2,
           29400
          ],
          [
           2.7,
           12100
          ],
          [
           2.9,
           3000
          ],
          [
           3,
           42700
          ],
          [
           2.3,
           28400
          ],
          [
           2.6,
           25600
          ],
          [
           2.7,
           25800
          ],
          [
           2.6,
           11800
          ],
          [
           2.6,
           3800
          ],
          [
           2.3,
           32000
          ],
          [
           1.5,
           46500
          ],
          [
           1.8,
           114500
          ],
          [
           2.3,
           14100
          ],
          [
           2.1,
           26000
          ],
          [
           1.6,
           86600
          ],
          [
           2.3,
           300
          ],
          [
           2.3,
           35600
          ],
          [
           1.7,
           98600
          ],
          [
           1.8,
           26100
          ],
          [
           2.6,
           3000
          ],
          [
           3,
           54900
          ],
          [
           1.7,
           71300
          ],
          [
           1.6,
           5000
          ],
          [
           2.7,
           2400
          ],
          [
           2.7,
           7100
          ],
          [
           2.7,
           10300
          ],
          [
           2.6,
           1200
          ],
          [
           2.7,
           20800
          ],
          [
           2.8,
           12300
          ],
          [
           3,
           12300
          ],
          [
           2.8,
           12000
          ],
          [
           1.4,
           37000
          ],
          [
           2.2,
           120400
          ],
          [
           1.8,
           19200
          ],
          [
           1.8,
           21700
          ],
          [
           1.7,
           62700
          ],
          [
           2.4,
           21600
          ],
          [
           2.9,
           1000
          ],
          [
           2.2,
           129800
          ],
          [
           1.4,
           17200
          ],
          [
           2.7,
           12300
          ],
          [
           2.2,
           32700
          ],
          [
           2.6,
           2400
          ],
          [
           1.7,
           7100
          ],
          [
           3.2,
           178000
          ],
          [
           0.8,
           16700
          ],
          [
           2.5,
           41200
          ],
          [
           1.7,
           13400
          ],
          [
           2.7,
           3300
          ],
          [
           2.4,
           15900
          ],
          [
           2,
           38000
          ],
          [
           2.1,
           121600
          ],
          [
           1.8,
           36700
          ],
          [
           3.2,
           12000
          ],
          [
           3,
           24800
          ],
          [
           1.9,
           7100
          ],
          [
           2.6,
           42300
          ],
          [
           2.4,
           50600
          ],
          [
           3.1,
           59900
          ],
          [
           1.3,
           24600
          ],
          [
           2.7,
           12700
          ],
          [
           2.8,
           9700
          ],
          [
           2.7,
           8400
          ],
          [
           2,
           58400
          ],
          [
           2.4,
           7600
          ],
          [
           1.5,
           3200
          ],
          [
           1.6,
           17500
          ],
          [
           1.6,
           74500
          ],
          [
           2.8,
           4900
          ],
          [
           1.4,
           47600
          ],
          [
           1.6,
           1500
          ],
          [
           2.9,
           27000
          ],
          [
           1.5,
           45100
          ],
          [
           2.3,
           40700
          ],
          [
           2.5,
           9400
          ],
          [
           3,
           167500
          ],
          [
           2.6,
           66700
          ],
          [
           1.6,
           2300
          ],
          [
           3.1,
           7100
          ],
          [
           1.3,
           17200
          ],
          [
           2.3,
           155400
          ],
          [
           2.5,
           23400
          ],
          [
           2,
           56500
          ],
          [
           3.7,
           41800
          ],
          [
           2.1,
           106400
          ],
          [
           2.8,
           71100
          ],
          [
           2.6,
           19400
          ],
          [
           3.2,
           29900
          ],
          [
           3,
           14000
          ],
          [
           3,
           12000
          ],
          [
           2.6,
           10600
          ],
          [
           3.1,
           31200
          ],
          [
           2.9,
           13000
          ],
          [
           3.2,
           14900
          ],
          [
           2.9,
           11700
          ],
          [
           2.8,
           7600
          ],
          [
           2.8,
           15000
          ],
          [
           1.5,
           8200
          ],
          [
           2.3,
           90200
          ],
          [
           2.1,
           44500
          ],
          [
           1.9,
           67900
          ],
          [
           1.6,
           2000
          ],
          [
           2,
           41000
          ],
          [
           1.3,
           11300
          ],
          [
           2,
           23300
          ],
          [
           1.9,
           68600
          ],
          [
           2.3,
           6900
          ],
          [
           2.1,
           27900
          ],
          [
           1.4,
           58100
          ],
          [
           2.8,
           7200
          ],
          [
           2.3,
           15400
          ],
          [
           2.4,
           24200
          ],
          [
           2.5,
           43700
          ],
          [
           2.8,
           6400
          ],
          [
           2.3,
           43900
          ],
          [
           2.3,
           95000
          ],
          [
           3.1,
           140900
          ],
          [
           2.7,
           32700
          ],
          [
           2.9,
           54600
          ],
          [
           3.2,
           40400
          ],
          [
           1,
           4900
          ],
          [
           1.7,
           8000
          ],
          [
           2.6,
           16100
          ],
          [
           2.8,
           10000
          ]
         ],
         "geo": "geo",
         "hovertemplate": "<b>%{hovertext}</b><br><br>marker_size=%{marker.size}<br>epi_lats=%{lat}<br>epi_longs=%{lon}<br>magnitudes=%{marker.color}<br>depths=%{customdata[1]}<extra></extra>",
         "hovertext": [
          "Alaskan Coast",
          "Alaskan Coast",
          "Alaskan Coast",
          "Alaskan Coast",
          "Alaskan Coast",
          "Alaskan Coast",
          "Alaskan Coast",
          "Alaskan Coast",
          "Alaskan Coast",
          "Alaskan Coast",
          "Alaskan Coast",
          "Alaskan Coast",
          "Alaskan Coast",
          "Alaskan Coast",
          "Alaskan Coast",
          "Alaskan Coast",
          "Alaskan Coast",
          "Alaskan Coast",
          "Alaskan Coast",
          "Alaskan Coast",
          "Alaskan Coast",
          "Alaskan Coast",
          "Alaskan Coast",
          "Alaskan Coast",
          "Alaskan Coast",
          "Alaskan Coast",
          "Alaskan Coast",
          "Alaskan Coast",
          "Alaskan Coast",
          "Alaskan Coast",
          "Alaskan Coast",
          "Alaskan Coast",
          "Alaskan Coast",
          "Alaskan Coast",
          "Alaskan Coast",
          "Alaskan Coast",
          "Alaskan Coast",
          "Alaskan Coast",
          "Alaskan Coast",
          "Alaskan Coast",
          "Alaskan Coast",
          "Alaskan Coast",
          "Alaskan Coast",
          "Alaskan Coast",
          "Alaskan Coast",
          "Alaskan Coast",
          "Alaskan Coast",
          "Alaskan Coast",
          "Alaskan Coast",
          "Alaskan Coast",
          "Alaskan Coast",
          "Alaskan Coast",
          "Alaskan Coast",
          "Alaskan Coast",
          "Alaskan Coast",
          "Alaskan Coast",
          "Alaskan Coast",
          "Alaskan Coast",
          "Alaskan Coast",
          "Alaskan Coast",
          "Alaskan Coast",
          "Alaskan Coast",
          "Alaskan Coast",
          "Alaskan Coast",
          "Alaskan Coast",
          "Alaskan Coast",
          "Alaskan Coast",
          "Alaskan Coast",
          "Alaskan Coast",
          "Alaskan Coast",
          "Alaskan Coast",
          "Alaskan Coast",
          "Alaskan Coast",
          "Alaskan Coast",
          "Alaskan Coast",
          "Alaskan Coast",
          "Alaskan Coast",
          "Alaskan Coast",
          "Alaskan Coast",
          "Alaskan Coast",
          "Alaskan Coast",
          "Alaskan Coast",
          "Alaskan Coast",
          "Alaskan Coast",
          "Alaskan Coast",
          "Alaskan Coast",
          "Alaskan Coast",
          "Alaskan Coast",
          "Alaskan Coast",
          "Alaskan Coast",
          "Alaskan Coast",
          "Alaskan Coast",
          "Alaskan Coast",
          "Alaskan Coast",
          "Alaskan Coast",
          "Alaskan Coast",
          "Alaskan Coast",
          "Alaskan Coast",
          "Alaskan Coast",
          "Alaskan Coast",
          "Alaskan Coast",
          "Alaskan Coast",
          "Alaskan Coast",
          "Alaskan Coast",
          "Alaskan Coast",
          "Alaskan Coast",
          "Alaskan Coast",
          "Alaskan Coast",
          "Alaskan Coast",
          "Alaskan Coast",
          "Alaskan Coast",
          "Alaskan Coast",
          "Alaskan Coast",
          "Alaskan Coast",
          "Alaskan Coast",
          "Alaskan Coast",
          "Alaskan Coast",
          "Alaskan Coast",
          "Alaskan Coast",
          "Alaskan Coast",
          "Alaskan Coast",
          "Alaskan Coast",
          "Alaskan Coast",
          "Alaskan Coast",
          "Alaskan Coast",
          "Alaskan Coast",
          "Alaskan Coast",
          "Alaskan Coast",
          "Alaskan Coast",
          "Alaskan Coast",
          "Alaskan Coast",
          "Alaskan Coast",
          "Alaskan Coast",
          "Alaskan Coast",
          "Alaskan Coast",
          "Alaskan Coast",
          "Alaskan Coast",
          "Alaskan Coast",
          "Alaskan Coast",
          "Alaskan Coast",
          "Alaskan Coast",
          "Alaskan Coast",
          "Alaskan Coast",
          "Alaskan Coast",
          "Alaskan Coast",
          "Alaskan Coast",
          "Alaskan Coast",
          "Alaskan Coast",
          "Alaskan Coast",
          "Alaskan Coast",
          "Alaskan Coast",
          "Alaskan Coast",
          "Alaskan Coast",
          "Alaskan Coast",
          "Alaskan Coast",
          "Alaskan Coast",
          "Alaskan Coast",
          "Alaskan Coast",
          "Alaskan Coast",
          "Alaskan Coast",
          "Alaskan Coast",
          "Alaskan Coast",
          "Alaskan Coast",
          "Alaskan Coast",
          "Alaskan Coast",
          "Alaskan Coast",
          "Alaskan Coast",
          "Alaskan Coast",
          "Alaskan Coast",
          "Alaskan Coast",
          "Alaskan Coast",
          "Alaskan Coast",
          "Alaskan Coast",
          "Alaskan Coast",
          "Alaskan Coast",
          "Alaskan Coast",
          "Alaskan Coast",
          "Alaskan Coast",
          "Alaskan Coast",
          "Alaskan Coast",
          "Alaskan Coast",
          "Alaskan Coast",
          "Alaskan Coast",
          "Alaskan Coast",
          "Alaskan Coast",
          "Alaskan Coast",
          "Alaskan Coast",
          "Alaskan Coast",
          "Alaskan Coast",
          "Alaskan Coast",
          "Alaskan Coast",
          "Alaskan Coast",
          "Alaskan Coast",
          "Alaskan Coast",
          "Alaskan Coast",
          "Alaskan Coast",
          "Alaskan Coast",
          "Alaskan Coast",
          "Alaskan Coast",
          "Alaskan Coast",
          "Alaskan Coast",
          "Alaskan Coast",
          "Alaskan Coast",
          "Alaskan Coast",
          "Alaskan Coast",
          "Alaskan Coast",
          "Alaskan Coast",
          "Alaskan Coast",
          "Alaskan Coast",
          "Alaskan Coast",
          "Alaskan Coast",
          "Alaskan Coast",
          "Alaskan Coast",
          "Alaskan Coast",
          "Alaskan Coast",
          "Alaskan Coast",
          "Alaskan Coast",
          "Alaskan Coast",
          "Alaskan Coast",
          "Alaskan Coast",
          "Alaskan Coast",
          "Alaskan Coast",
          "Alaskan Coast",
          "Alaskan Coast",
          "Alaskan Coast",
          "Alaskan Coast",
          "Alaskan Coast",
          "Alaskan Coast",
          "Alaskan Coast",
          "Alaskan Coast",
          "Alaskan Coast",
          "Alaskan Coast",
          "Alaskan Coast",
          "Alaskan Coast",
          "Alaskan Coast",
          "Alaskan Coast",
          "Alaskan Coast",
          "Alaskan Coast",
          "Alaskan Coast",
          "Alaskan Coast",
          "Alaskan Coast",
          "Alaskan Coast",
          "Alaskan Coast",
          "Alaskan Coast",
          "Alaskan Coast",
          "Alaskan Coast",
          "Alaskan Coast",
          "Alaskan Coast",
          "Alaskan Coast",
          "Alaskan Coast",
          "Alaskan Coast",
          "Alaskan Coast",
          "Alaskan Coast",
          "Alaskan Coast",
          "Alaskan Coast",
          "Alaskan Coast",
          "Alaskan Coast",
          "Alaskan Coast",
          "Alaskan Coast",
          "Alaskan Coast",
          "Alaskan Coast",
          "Alaskan Coast",
          "Alaskan Coast",
          "Alaskan Coast",
          "Alaskan Coast",
          "Alaskan Coast",
          "Alaskan Coast",
          "Alaskan Coast",
          "Alaskan Coast",
          "Alaskan Coast",
          "Alaskan Coast",
          "Alaskan Coast",
          "Alaskan Coast",
          "Alaskan Coast",
          "Alaskan Coast",
          "Alaskan Coast",
          "Alaskan Coast",
          "Alaskan Coast",
          "Alaskan Coast",
          "Alaskan Coast",
          "Alaskan Coast",
          "Alaskan Coast",
          "Alaskan Coast",
          "Alaskan Coast",
          "Alaskan Coast",
          "Alaskan Coast",
          "Alaskan Coast",
          "Alaskan Coast",
          "Alaskan Coast",
          "Alaskan Coast",
          "Alaskan Coast",
          "Alaskan Coast",
          "Alaskan Coast",
          "Alaskan Coast",
          "Alaskan Coast",
          "Alaskan Coast",
          "Alaskan Coast",
          "Alaskan Coast",
          "Alaskan Coast",
          "Alaskan Coast",
          "Alaskan Coast",
          "Alaskan Coast",
          "Alaskan Coast",
          "Alaskan Coast",
          "Alaskan Coast",
          "Alaskan Coast",
          "Alaskan Coast",
          "Alaskan Coast",
          "Alaskan Coast",
          "Alaskan Coast",
          "Alaskan Coast",
          "Alaskan Coast",
          "Alaskan Coast",
          "Alaskan Coast",
          "Alaskan Coast",
          "Alaskan Coast",
          "Alaskan Coast",
          "Alaskan Coast",
          "Alaskan Coast",
          "Alaskan Coast",
          "Alaskan Coast",
          "Alaskan Coast",
          "Alaskan Coast",
          "Alaskan Coast",
          "Alaskan Coast",
          "Alaskan Coast",
          "Alaskan Coast",
          "Alaskan Coast",
          "Alaskan Coast",
          "Alaskan Coast",
          "Alaskan Coast",
          "Alaskan Coast",
          "Alaskan Coast",
          "Alaskan Coast",
          "Alaskan Coast",
          "Alaskan Coast",
          "Alaskan Coast",
          "Alaskan Coast",
          "Alaskan Coast",
          "Alaskan Coast",
          "Alaskan Coast",
          "Alaskan Coast",
          "Alaskan Coast",
          "Alaskan Coast",
          "Alaskan Coast",
          "Alaskan Coast",
          "Alaskan Coast",
          "Alaskan Coast",
          "Alaskan Coast",
          "Alaskan Coast",
          "Alaskan Coast",
          "Alaskan Coast",
          "Alaskan Coast",
          "Alaskan Coast",
          "Alaskan Coast",
          "Alaskan Coast",
          "Alaskan Coast",
          "Alaskan Coast",
          "Alaskan Coast",
          "Alaskan Coast",
          "Alaskan Coast",
          "Alaskan Coast",
          "Alaskan Coast",
          "Alaskan Coast",
          "Alaskan Coast",
          "Alaskan Coast",
          "Alaskan Coast",
          "Alaskan Coast",
          "Alaskan Coast",
          "Alaskan Coast",
          "Alaskan Coast",
          "Alaskan Coast",
          "Alaskan Coast",
          "Alaskan Coast",
          "Alaskan Coast",
          "Alaskan Coast",
          "Alaskan Coast",
          "Alaskan Coast",
          "Alaskan Coast",
          "Alaskan Coast",
          "Alaskan Coast",
          "Alaskan Coast",
          "Alaskan Coast",
          "Alaskan Coast",
          "Alaskan Coast",
          "Alaskan Coast",
          "Alaskan Coast",
          "Alaskan Coast",
          "Alaskan Coast",
          "Alaskan Coast",
          "Alaskan Coast",
          "Alaskan Coast",
          "Alaskan Coast",
          "Alaskan Coast",
          "Alaskan Coast",
          "Alaskan Coast",
          "Alaskan Coast"
         ],
         "lat": [
          54.3925,
          54.2056,
          57.1614,
          55.7353,
          54.2502,
          56.3329,
          54.2164,
          58.3433,
          56.2085,
          58.339,
          58.386,
          55.6935,
          53.6983,
          56.0425,
          58.5396,
          58.3536,
          52.4151,
          57.3772,
          56.4547,
          55.1964,
          58.8685,
          57.6395,
          54.3198,
          58.7268,
          57.8545,
          54.6559,
          58.3602,
          55.6125,
          58.7347,
          58.7796,
          57.7729,
          56.4294,
          57.0048,
          58.2915,
          57.6118,
          56.7829,
          54.6061,
          54.8448,
          58.6893,
          57.6967,
          54.3593,
          54.3646,
          55.7537,
          58.7689,
          56.1423,
          55.4747,
          58.7222,
          55.8818,
          55.9809,
          58.2787,
          56.1324,
          56.1936,
          56.1356,
          57.8836,
          57.8177,
          54.7427,
          54.8426,
          58.249,
          53.9066,
          56.569,
          54.4594,
          55.9644,
          58.4538,
          54.3194,
          57.5237,
          57.2063,
          55.2045,
          56.0344,
          55.9459,
          58.7404,
          57.9262,
          56.1845,
          52.8865,
          54.3459,
          57.6794,
          58.3194,
          57.175,
          58.8129,
          57.5326,
          54.2681,
          54.9672,
          56.412,
          56.1952,
          58.8371,
          58.8747,
          58.0093,
          56.1082,
          58.6534,
          56.4715,
          58.7828,
          57.7403,
          57.0678,
          57.9202,
          55.1248,
          57.1052,
          58.2569,
          57.5393,
          56.7526,
          58.9857,
          57.0141,
          56.8378,
          58.9465,
          58.2412,
          58.1706,
          58.9762,
          58.4216,
          54.3174,
          58.8513,
          57.8048,
          54.6862,
          54.9044,
          58.6262,
          55.3959,
          58.4192,
          55.1521,
          55.5509,
          55.5095,
          55.5375,
          57.3617,
          57.651,
          58.8928,
          58.1549,
          57.2914,
          56.4381,
          56.1333,
          56.2552,
          54.9243,
          55.2531,
          58.9165,
          55.956,
          57.7354,
          54.5909,
          54.9352,
          57.2128,
          56.4519,
          56.376,
          52.7642,
          58.5026,
          57.5671,
          58.5521,
          57.1163,
          58.3622,
          55.8853,
          58.1992,
          56.6572,
          54.2909,
          58.4214,
          57.1076,
          54.8825,
          55.6799,
          56.687,
          57.8372,
          58.4142,
          57.8486,
          58.2499,
          54.2181,
          57.2726,
          58.6203,
          57.7586,
          54.3049,
          57.2715,
          56.339,
          54.4122,
          58.8022,
          56.0905,
          57.683,
          55.8504,
          58.6541,
          55.9726,
          57.4037,
          58.3198,
          55.9285,
          55.8884,
          54.3339,
          56.4081,
          58.0644,
          54.3926,
          58.2644,
          58.9447,
          55.0969,
          58.3498,
          58.6959,
          58.9514,
          57.8963,
          53.7302,
          55.4286,
          57.5673,
          57.5634,
          57.3029,
          56.8981,
          58.867,
          58.5953,
          55.603,
          58.875,
          57.0615,
          58.9449,
          54.2987,
          56.1778,
          56.2822,
          55.8647,
          58.98,
          55.5735,
          57.7313,
          58.4934,
          58.9724,
          58.3619,
          57.3303,
          57.5325,
          58.824,
          56.613,
          58.828,
          54.0068,
          58.7064,
          57.956,
          54.9317,
          57.9941,
          54.2335,
          56.2097,
          55.9115,
          55.5597,
          54.3389,
          58.7694,
          57.8899,
          57.4027,
          55.0121,
          58.2932,
          58.4306,
          57.2247,
          57.0486,
          56.2021,
          57.6151,
          58.45,
          57.8601,
          57.7651,
          58.3666,
          54.3001,
          56.1584,
          58.9198,
          56.6389,
          54.8257,
          55.0936,
          58.1748,
          57.5403,
          58.9639,
          56.2329,
          56.1484,
          57.8367,
          54.4658,
          58.0354,
          57.84,
          57.6247,
          55.7847,
          55.9345,
          55.8166,
          56.2558,
          55.8592,
          55.7833,
          57.4751,
          53.8547,
          54.6948,
          57.856,
          57.0139,
          53.0682,
          53.1875,
          56.0056,
          57.8673,
          56.2244,
          55.6335,
          57.5949,
          58.3476,
          56.1582,
          53.141,
          55.1097,
          56.4447,
          56.1751,
          53.0742,
          53.3584,
          55.6259,
          53.8061,
          53.7906,
          56.0039,
          55.811,
          54.5757,
          57.7874,
          58.2079,
          55.0997,
          54.2763,
          58.3263,
          53.7708,
          56.1275,
          59.0204,
          58.2727,
          56.3367,
          53.298,
          57.4672,
          58.408,
          56.1021,
          56.1436,
          56.0185,
          54.9852,
          55.9039,
          55.9334,
          55.4077,
          55.875,
          57.7754,
          59.0206,
          56.7613,
          57.0602,
          58.3721,
          55.1643,
          52.4584,
          56.0601,
          57.5295,
          55.51,
          55.0047,
          56.0426,
          56.8932,
          55.6961,
          57.5441,
          54.1244,
          57.5162,
          56.242,
          54.3126,
          58.178,
          58.9418,
          58.1807,
          55.5915,
          54.2121,
          56.781,
          53.9291,
          54.7254,
          53.7384,
          57.5963,
          56.003,
          55.9073,
          55.9957,
          59.0343,
          56.4062,
          56.9425,
          57.5805,
          57.7069,
          56.3043,
          57.8879,
          56.9275,
          53.3812,
          57.7673,
          54.4132,
          54.6854,
          55.7295,
          55.9471,
          57.0858,
          55.5173,
          57.8224,
          58.2536,
          53.4242,
          59.022,
          52.4924,
          58.8239,
          56.4066,
          53.4096,
          53.0106,
          55.7836,
          55.7565,
          55.1573,
          53.2821,
          56.2258,
          56.1743,
          55.9832,
          56.3451,
          56.396,
          57.339,
          55.609,
          54.4995,
          58.1655,
          56.8505,
          54.4839,
          56.9131,
          54.3725,
          56.3036,
          54.8239,
          53.406,
          58.1802,
          56.1533,
          53.1155,
          53.2243,
          54.1819,
          56.1592,
          54.1487,
          55.5915,
          56.3853,
          54.5765,
          56.2054,
          52.4564,
          56.8122,
          56.4864,
          55.7288,
          56.1763
         ],
         "legendgroup": "",
         "lon": [
          -161.4584,
          -161.5565,
          -157.9859,
          -149.1689,
          -161.6862,
          -154.0465,
          -161.6158,
          -153.1855,
          -149.2828,
          -153.1732,
          -153.2021,
          -149.046,
          -160.7682,
          -148.4692,
          -154.0952,
          -153.1745,
          -162.9191,
          -149.0229,
          -159.1874,
          -157.8809,
          -153.4266,
          -154.7452,
          -161.6214,
          -151.4005,
          -153.3157,
          -161.3082,
          -153.1929,
          -149.1689,
          -148.0309,
          -152.7339,
          -155.1574,
          -156.01,
          -157.6069,
          -152.7394,
          -154.1445,
          -149.2342,
          -162.0671,
          -160.4887,
          -153.6952,
          -154.967,
          -161.533,
          -161.4325,
          -149.0967,
          -154.8113,
          -149.2208,
          -161.7164,
          -153.8482,
          -149.7105,
          -148.9357,
          -156.051,
          -149.344,
          -156.3433,
          -149.1663,
          -153.5174,
          -155.3784,
          -162.727,
          -161.2724,
          -155.1124,
          -161.8231,
          -156.4848,
          -160.707,
          -149.0595,
          -153.001,
          -161.4597,
          -152.6164,
          -153.3028,
          -151.7111,
          -149.439,
          -149.4055,
          -152.1914,
          -156.196,
          -148.644,
          -161.7039,
          -161.5252,
          -154.5455,
          -151.0161,
          -150.7032,
          -154.5237,
          -152.7514,
          -161.5413,
          -161.11,
          -148.6171,
          -149.3171,
          -153.0852,
          -153.3812,
          -154.8679,
          -157.959,
          -153.7911,
          -149.0652,
          -153.2056,
          -155.6541,
          -155.4371,
          -155.2452,
          -162.8506,
          -154.2163,
          -151.4413,
          -154.7538,
          -154.4192,
          -154.4226,
          -155.016,
          -154.9441,
          -152.6676,
          -154.8359,
          -153.8569,
          -152.1235,
          -154.8987,
          -161.4348,
          -154.5873,
          -155.0427,
          -161.4592,
          -159.8636,
          -153.9177,
          -158.474,
          -154.8029,
          -160.8056,
          -160.0023,
          -159.9795,
          -159.9235,
          -155.6067,
          -154.6177,
          -152.9323,
          -156.5457,
          -154.1756,
          -148.8665,
          -149.0777,
          -159.4882,
          -159.9352,
          -160.4938,
          -155.1474,
          -159.179,
          -156.3283,
          -161.7445,
          -159.5563,
          -150.4566,
          -148.5814,
          -148.1028,
          -162.7752,
          -156.2032,
          -153.2224,
          -154.2544,
          -154.2179,
          -155.9238,
          -149.2956,
          -155.2671,
          -155.5463,
          -161.5254,
          -153.1722,
          -154.7178,
          -160.2917,
          -149.3761,
          -157.0807,
          -156.2514,
          -153.65,
          -153.6413,
          -154.8932,
          -161.3258,
          -157.3472,
          -153.7941,
          -153.0207,
          -161.4734,
          -154.6644,
          -149.9342,
          -162.6436,
          -156.4086,
          -148.4758,
          -152.654,
          -149.7309,
          -155.1558,
          -156.2833,
          -154.6597,
          -155.2945,
          -161.2838,
          -160.3416,
          -160.8141,
          -148.1411,
          -151.66,
          -161.3292,
          -152.8367,
          -154.4576,
          -159.2717,
          -152.842,
          -152.88,
          -154.4184,
          -155.818,
          -161.758,
          -161.7451,
          -154.7219,
          -151.97,
          -154.5759,
          -155.5754,
          -154.4486,
          -150.5338,
          -158.9973,
          -154.4662,
          -157.1818,
          -152.4677,
          -161.5465,
          -149.0134,
          -148.5628,
          -149.5644,
          -153.9551,
          -148.7522,
          -154.4745,
          -153.4977,
          -152.8303,
          -155.1872,
          -154.6377,
          -153.7697,
          -153.1735,
          -155.2471,
          -152.0727,
          -162.895,
          -153.6292,
          -152.5278,
          -160.6988,
          -152.5141,
          -161.5815,
          -157.1542,
          -149.3851,
          -148.9855,
          -160.7455,
          -157.8959,
          -155.0856,
          -155.8136,
          -160.7128,
          -154.9917,
          -154.7864,
          -157.397,
          -154.631,
          -152.8703,
          -154.9236,
          -154.4208,
          -155.0551,
          -155.447,
          -154.7654,
          -161.5086,
          -149.1486,
          -152.2097,
          -154.8611,
          -161.6233,
          -162.0333,
          -155.3168,
          -154.8305,
          -151.7774,
          -149.1767,
          -149.0274,
          -153.9971,
          -161.4518,
          -153.5466,
          -155.7155,
          -153.7144,
          -149.0372,
          -149.1053,
          -148.9909,
          -149.032,
          -149.6839,
          -148.9552,
          -153.754,
          -155.3916,
          -161.5261,
          -154.4732,
          -153.9178,
          -160.6057,
          -159.9015,
          -149.2585,
          -156.1892,
          -149.1637,
          -149.8529,
          -153.0514,
          -155.9959,
          -149.21,
          -159.9573,
          -151.6698,
          -152.5446,
          -148.8653,
          -161.8048,
          -162.829,
          -151.6211,
          -162.0931,
          -162.1294,
          -149.5005,
          -149.9227,
          -159.847,
          -154.4785,
          -155.7531,
          -157.764,
          -161.4623,
          -154.2674,
          -157.3654,
          -152.73,
          -153.8841,
          -151.036,
          -148.2178,
          -160.987,
          -155.4571,
          -151.8291,
          -149.9391,
          -149.0258,
          -149.3347,
          -155.6365,
          -149.6586,
          -149.6018,
          -148.9403,
          -148.9738,
          -153.9169,
          -154.2728,
          -156.0442,
          -153.9153,
          -153.1309,
          -157.7128,
          -162.8536,
          -159.3724,
          -154.8808,
          -148.9923,
          -159.6583,
          -149.381,
          -152.9048,
          -161.7434,
          -153.8117,
          -159.7379,
          -152.7396,
          -149.0534,
          -160.9355,
          -151.7187,
          -154.346,
          -153.0564,
          -148.9789,
          -156.8507,
          -154.4082,
          -160.4812,
          -161.7163,
          -161.2513,
          -152.7165,
          -149.6045,
          -149.5418,
          -149.5866,
          -152.9355,
          -147.7997,
          -155.1037,
          -152.018,
          -155.3852,
          -148.489,
          -154.1309,
          -154.816,
          -157.8973,
          -154.347,
          -158.9947,
          -159.9726,
          -161.7833,
          -158.2185,
          -154.7354,
          -149.0339,
          -153.9895,
          -156.1755,
          -159.4056,
          -152.3754,
          -162.9604,
          -154.1881,
          -156.3781,
          -157.6146,
          -160.3242,
          -149.1853,
          -149.031,
          -152.3308,
          -160.1601,
          -149.1957,
          -149.0454,
          -149.7515,
          -149.1224,
          -148.4621,
          -154.6127,
          -160.1589,
          -159.5365,
          -153.6109,
          -154.9849,
          -161.4926,
          -155.1652,
          -158.9602,
          -156.203,
          -153.7332,
          -159.7333,
          -153.4241,
          -149.097,
          -160.0675,
          -159.7688,
          -159.0728,
          -148.9991,
          -159.8499,
          -159.8419,
          -159.1514,
          -159.4232,
          -157.8796,
          -163.0502,
          -153.7876,
          -156.3213,
          -149.0533,
          -148.86
         ],
         "marker": {
          "color": [
           2.4,
           2.9,
           3,
           3.5,
           3.5,
           3.6,
           2.6,
           5,
           3.1,
           1.6,
           1.8,
           3.3,
           2.6,
           3.1,
           4.4,
           1.9,
           2.8,
           2.6,
           2.8,
           3.5,
           1.5,
           2,
           3.4,
           1.7,
           1.2,
           2,
           1.5,
           2.7,
           2.1,
           1.7,
           1.7,
           3,
           1.9,
           1.9,
           1.5,
           2.5,
           1.8,
           1.8,
           1.1,
           1.4,
           2.1,
           2.1,
           2.8,
           1.8,
           3.3,
           2.9,
           1.6,
           3,
           2.9,
           1.9,
           2.9,
           2.2,
           2.7,
           1.3,
           1.1,
           1.7,
           2.3,
           0.4,
           2.5,
           3.1,
           2.8,
           3,
           1.9,
           3.2,
           1.9,
           1.5,
           2.6,
           3.1,
           3,
           2.1,
           2.1,
           2.9,
           2.9,
           2.4,
           1.6,
           2.5,
           2.6,
           2,
           2.1,
           2.6,
           2.7,
           2.9,
           3.1,
           2.1,
           2.4,
           2.7,
           2.6,
           1.9,
           2.7,
           1.7,
           1.3,
           1.7,
           1.5,
           2.2,
           1.5,
           1.8,
           1.4,
           2.4,
           1.7,
           2.3,
           2.6,
           1.9,
           2.1,
           2.1,
           2.5,
           1.2,
           3.4,
           2.1,
           2,
           2.3,
           2.4,
           3.5,
           2.7,
           1.1,
           2.5,
           3.2,
           2.4,
           2.4,
           2.1,
           2.1,
           1.7,
           1.3,
           2.6,
           2.9,
           2.9,
           2.4,
           2.3,
           2.2,
           2,
           2.9,
           2.4,
           3.2,
           2.8,
           2.4,
           2.9,
           2.9,
           3.3,
           2.1,
           1.9,
           1.2,
           1.5,
           3,
           3.1,
           0.4,
           2.6,
           2.5,
           1.5,
           1.5,
           2.4,
           2.6,
           2.3,
           2,
           2,
           1.2,
           0.6,
           2.6,
           1.9,
           1.8,
           2.1,
           3.3,
           1.5,
           2.9,
           2.8,
           1.3,
           2.9,
           2.5,
           3,
           1.9,
           2.3,
           1.3,
           5.2,
           3.4,
           2.3,
           2.6,
           2.8,
           2,
           2.3,
           2.5,
           2.1,
           2.5,
           1.8,
           2.7,
           2.2,
           1.8,
           3.2,
           2.5,
           1.8,
           2.8,
           3.5,
           3.1,
           2.8,
           1.8,
           2.6,
           1.9,
           2.3,
           1.6,
           2.7,
           3,
           2.9,
           2.9,
           1.9,
           2.9,
           2,
           1.7,
           2,
           2.6,
           1.6,
           1.4,
           1.8,
           1.8,
           1.8,
           2,
           1.7,
           3.2,
           1.8,
           1.5,
           2,
           2,
           2.7,
           3,
           2.8,
           1.4,
           1.7,
           2,
           1.6,
           1,
           1,
           1.3,
           1.3,
           2,
           1.4,
           1.1,
           1.5,
           1.5,
           1,
           1.8,
           4.2,
           1.5,
           2.4,
           1.8,
           1.9,
           1.5,
           1.1,
           1.5,
           2.7,
           2.6,
           1.4,
           1.9,
           1.6,
           1,
           1.8,
           2.8,
           3.2,
           3.3,
           3.2,
           3.1,
           3.4,
           1.4,
           3.3,
           2.6,
           1.6,
           1.7,
           2.8,
           2.7,
           3,
           1.9,
           2.6,
           2.4,
           1.4,
           1.9,
           2.6,
           2.6,
           2.6,
           2.2,
           2.7,
           2.9,
           3,
           2.3,
           2.6,
           2.7,
           2.6,
           2.6,
           2.3,
           1.5,
           1.8,
           2.3,
           2.1,
           1.6,
           2.3,
           2.3,
           1.7,
           1.8,
           2.6,
           3,
           1.7,
           1.6,
           2.7,
           2.7,
           2.7,
           2.6,
           2.7,
           2.8,
           3,
           2.8,
           1.4,
           2.2,
           1.8,
           1.8,
           1.7,
           2.4,
           2.9,
           2.2,
           1.4,
           2.7,
           2.2,
           2.6,
           1.7,
           3.2,
           0.8,
           2.5,
           1.7,
           2.7,
           2.4,
           2,
           2.1,
           1.8,
           3.2,
           3,
           1.9,
           2.6,
           2.4,
           3.1,
           1.3,
           2.7,
           2.8,
           2.7,
           2,
           2.4,
           1.5,
           1.6,
           1.6,
           2.8,
           1.4,
           1.6,
           2.9,
           1.5,
           2.3,
           2.5,
           3,
           2.6,
           1.6,
           3.1,
           1.3,
           2.3,
           2.5,
           2,
           3.7,
           2.1,
           2.8,
           2.6,
           3.2,
           3,
           3,
           2.6,
           3.1,
           2.9,
           3.2,
           2.9,
           2.8,
           2.8,
           1.5,
           2.3,
           2.1,
           1.9,
           1.6,
           2,
           1.3,
           2,
           1.9,
           2.3,
           2.1,
           1.4,
           2.8,
           2.3,
           2.4,
           2.5,
           2.8,
           2.3,
           2.3,
           3.1,
           2.7,
           2.9,
           3.2,
           1,
           1.7,
           2.6,
           2.8
          ],
          "coloraxis": "coloraxis",
          "size": [
           11,
           18,
           20,
           33,
           33,
           36,
           13,
           148,
           22,
           4,
           6,
           27,
           13,
           22,
           81,
           6,
           16,
           13,
           16,
           33,
           4,
           7,
           29,
           5,
           3,
           7,
           4,
           14,
           8,
           5,
           5,
           20,
           6,
           6,
           4,
           12,
           6,
           6,
           3,
           4,
           8,
           8,
           16,
           6,
           27,
           18,
           4,
           20,
           18,
           6,
           18,
           9,
           14,
           3,
           3,
           5,
           9,
           1,
           12,
           22,
           16,
           20,
           6,
           24,
           6,
           4,
           13,
           22,
           20,
           8,
           8,
           18,
           18,
           11,
           4,
           12,
           13,
           7,
           8,
           13,
           14,
           18,
           22,
           8,
           11,
           14,
           13,
           6,
           14,
           5,
           3,
           5,
           4,
           9,
           4,
           6,
           4,
           11,
           5,
           9,
           13,
           6,
           8,
           8,
           12,
           3,
           29,
           8,
           7,
           9,
           11,
           33,
           14,
           3,
           12,
           24,
           11,
           11,
           8,
           8,
           5,
           3,
           13,
           18,
           18,
           11,
           9,
           9,
           7,
           18,
           11,
           24,
           16,
           11,
           18,
           18,
           27,
           8,
           6,
           3,
           4,
           20,
           22,
           1,
           13,
           12,
           4,
           4,
           11,
           13,
           9,
           7,
           7,
           3,
           1,
           13,
           6,
           6,
           8,
           27,
           4,
           18,
           16,
           3,
           18,
           12,
           20,
           6,
           9,
           3,
           181,
           29,
           9,
           13,
           16,
           7,
           9,
           12,
           8,
           12,
           6,
           14,
           9,
           6,
           24,
           12,
           6,
           16,
           33,
           22,
           16,
           6,
           13,
           6,
           9,
           4,
           14,
           20,
           18,
           18,
           6,
           18,
           7,
           5,
           7,
           13,
           4,
           4,
           6,
           6,
           6,
           7,
           5,
           24,
           6,
           4,
           7,
           7,
           14,
           20,
           16,
           4,
           5,
           7,
           4,
           2,
           2,
           3,
           3,
           7,
           4,
           3,
           4,
           4,
           2,
           6,
           66,
           4,
           11,
           6,
           6,
           4,
           3,
           4,
           14,
           13,
           4,
           6,
           4,
           2,
           6,
           16,
           24,
           27,
           24,
           22,
           29,
           4,
           27,
           13,
           4,
           5,
           16,
           14,
           20,
           6,
           13,
           11,
           4,
           6,
           13,
           13,
           13,
           9,
           14,
           18,
           20,
           9,
           13,
           14,
           13,
           13,
           9,
           4,
           6,
           9,
           8,
           4,
           9,
           9,
           5,
           6,
           13,
           20,
           5,
           4,
           14,
           14,
           14,
           13,
           14,
           16,
           20,
           16,
           4,
           9,
           6,
           6,
           5,
           11,
           18,
           9,
           4,
           14,
           9,
           13,
           5,
           24,
           2,
           12,
           5,
           14,
           11,
           7,
           8,
           6,
           24,
           20,
           6,
           13,
           11,
           22,
           3,
           14,
           16,
           14,
           7,
           11,
           4,
           4,
           4,
           16,
           4,
           4,
           18,
           4,
           9,
           12,
           20,
           13,
           4,
           22,
           3,
           9,
           12,
           7,
           40,
           8,
           16,
           13,
           24,
           20,
           20,
           13,
           22,
           18,
           24,
           18,
           16,
           16,
           4,
           9,
           8,
           6,
           4,
           7,
           3,
           7,
           6,
           9,
           8,
           4,
           16,
           9,
           11,
           12,
           16,
           9,
           9,
           22,
           14,
           18,
           24,
           2,
           5,
           13,
           16
          ],
          "sizemode": "area",
          "sizeref": 0.4525,
          "symbol": "circle"
         },
         "mode": "markers",
         "name": "",
         "showlegend": false,
         "type": "scattergeo"
        }
       ],
       "layout": {
        "coloraxis": {
         "cmax": 5.2,
         "cmin": 0.4,
         "colorbar": {
          "title": {
           "text": "magnitudes"
          }
         },
         "colorscale": [
          [
           0,
           "#0d0887"
          ],
          [
           0.1111111111111111,
           "#46039f"
          ],
          [
           0.2222222222222222,
           "#7201a8"
          ],
          [
           0.3333333333333333,
           "#9c179e"
          ],
          [
           0.4444444444444444,
           "#bd3786"
          ],
          [
           0.5555555555555556,
           "#d8576b"
          ],
          [
           0.6666666666666666,
           "#ed7953"
          ],
          [
           0.7777777777777778,
           "#fb9f3a"
          ],
          [
           0.8888888888888888,
           "#fdca26"
          ],
          [
           1,
           "#f0f921"
          ]
         ]
        },
        "geo": {
         "center": {
          "lat": 60.034930244828445,
          "lon": -157.12617583230696
         },
         "domain": {
          "x": [
           0,
           1
          ],
          "y": [
           0,
           1
          ]
         },
         "projection": {
          "scale": 6.342108243368278
         },
         "resolution": 110,
         "scope": "north america",
         "showcountries": true
        },
        "height": 600,
        "legend": {
         "itemsizing": "constant",
         "tracegroupgap": 0
        },
        "margin": {
         "t": 60
        },
        "template": {
         "data": {
          "bar": [
           {
            "error_x": {
             "color": "#2a3f5f"
            },
            "error_y": {
             "color": "#2a3f5f"
            },
            "marker": {
             "line": {
              "color": "#E5ECF6",
              "width": 0.5
             },
             "pattern": {
              "fillmode": "overlay",
              "size": 10,
              "solidity": 0.2
             }
            },
            "type": "bar"
           }
          ],
          "barpolar": [
           {
            "marker": {
             "line": {
              "color": "#E5ECF6",
              "width": 0.5
             },
             "pattern": {
              "fillmode": "overlay",
              "size": 10,
              "solidity": 0.2
             }
            },
            "type": "barpolar"
           }
          ],
          "carpet": [
           {
            "aaxis": {
             "endlinecolor": "#2a3f5f",
             "gridcolor": "white",
             "linecolor": "white",
             "minorgridcolor": "white",
             "startlinecolor": "#2a3f5f"
            },
            "baxis": {
             "endlinecolor": "#2a3f5f",
             "gridcolor": "white",
             "linecolor": "white",
             "minorgridcolor": "white",
             "startlinecolor": "#2a3f5f"
            },
            "type": "carpet"
           }
          ],
          "choropleth": [
           {
            "colorbar": {
             "outlinewidth": 0,
             "ticks": ""
            },
            "type": "choropleth"
           }
          ],
          "contour": [
           {
            "colorbar": {
             "outlinewidth": 0,
             "ticks": ""
            },
            "colorscale": [
             [
              0,
              "#0d0887"
             ],
             [
              0.1111111111111111,
              "#46039f"
             ],
             [
              0.2222222222222222,
              "#7201a8"
             ],
             [
              0.3333333333333333,
              "#9c179e"
             ],
             [
              0.4444444444444444,
              "#bd3786"
             ],
             [
              0.5555555555555556,
              "#d8576b"
             ],
             [
              0.6666666666666666,
              "#ed7953"
             ],
             [
              0.7777777777777778,
              "#fb9f3a"
             ],
             [
              0.8888888888888888,
              "#fdca26"
             ],
             [
              1,
              "#f0f921"
             ]
            ],
            "type": "contour"
           }
          ],
          "contourcarpet": [
           {
            "colorbar": {
             "outlinewidth": 0,
             "ticks": ""
            },
            "type": "contourcarpet"
           }
          ],
          "heatmap": [
           {
            "colorbar": {
             "outlinewidth": 0,
             "ticks": ""
            },
            "colorscale": [
             [
              0,
              "#0d0887"
             ],
             [
              0.1111111111111111,
              "#46039f"
             ],
             [
              0.2222222222222222,
              "#7201a8"
             ],
             [
              0.3333333333333333,
              "#9c179e"
             ],
             [
              0.4444444444444444,
              "#bd3786"
             ],
             [
              0.5555555555555556,
              "#d8576b"
             ],
             [
              0.6666666666666666,
              "#ed7953"
             ],
             [
              0.7777777777777778,
              "#fb9f3a"
             ],
             [
              0.8888888888888888,
              "#fdca26"
             ],
             [
              1,
              "#f0f921"
             ]
            ],
            "type": "heatmap"
           }
          ],
          "heatmapgl": [
           {
            "colorbar": {
             "outlinewidth": 0,
             "ticks": ""
            },
            "colorscale": [
             [
              0,
              "#0d0887"
             ],
             [
              0.1111111111111111,
              "#46039f"
             ],
             [
              0.2222222222222222,
              "#7201a8"
             ],
             [
              0.3333333333333333,
              "#9c179e"
             ],
             [
              0.4444444444444444,
              "#bd3786"
             ],
             [
              0.5555555555555556,
              "#d8576b"
             ],
             [
              0.6666666666666666,
              "#ed7953"
             ],
             [
              0.7777777777777778,
              "#fb9f3a"
             ],
             [
              0.8888888888888888,
              "#fdca26"
             ],
             [
              1,
              "#f0f921"
             ]
            ],
            "type": "heatmapgl"
           }
          ],
          "histogram": [
           {
            "marker": {
             "pattern": {
              "fillmode": "overlay",
              "size": 10,
              "solidity": 0.2
             }
            },
            "type": "histogram"
           }
          ],
          "histogram2d": [
           {
            "colorbar": {
             "outlinewidth": 0,
             "ticks": ""
            },
            "colorscale": [
             [
              0,
              "#0d0887"
             ],
             [
              0.1111111111111111,
              "#46039f"
             ],
             [
              0.2222222222222222,
              "#7201a8"
             ],
             [
              0.3333333333333333,
              "#9c179e"
             ],
             [
              0.4444444444444444,
              "#bd3786"
             ],
             [
              0.5555555555555556,
              "#d8576b"
             ],
             [
              0.6666666666666666,
              "#ed7953"
             ],
             [
              0.7777777777777778,
              "#fb9f3a"
             ],
             [
              0.8888888888888888,
              "#fdca26"
             ],
             [
              1,
              "#f0f921"
             ]
            ],
            "type": "histogram2d"
           }
          ],
          "histogram2dcontour": [
           {
            "colorbar": {
             "outlinewidth": 0,
             "ticks": ""
            },
            "colorscale": [
             [
              0,
              "#0d0887"
             ],
             [
              0.1111111111111111,
              "#46039f"
             ],
             [
              0.2222222222222222,
              "#7201a8"
             ],
             [
              0.3333333333333333,
              "#9c179e"
             ],
             [
              0.4444444444444444,
              "#bd3786"
             ],
             [
              0.5555555555555556,
              "#d8576b"
             ],
             [
              0.6666666666666666,
              "#ed7953"
             ],
             [
              0.7777777777777778,
              "#fb9f3a"
             ],
             [
              0.8888888888888888,
              "#fdca26"
             ],
             [
              1,
              "#f0f921"
             ]
            ],
            "type": "histogram2dcontour"
           }
          ],
          "mesh3d": [
           {
            "colorbar": {
             "outlinewidth": 0,
             "ticks": ""
            },
            "type": "mesh3d"
           }
          ],
          "parcoords": [
           {
            "line": {
             "colorbar": {
              "outlinewidth": 0,
              "ticks": ""
             }
            },
            "type": "parcoords"
           }
          ],
          "pie": [
           {
            "automargin": true,
            "type": "pie"
           }
          ],
          "scatter": [
           {
            "fillpattern": {
             "fillmode": "overlay",
             "size": 10,
             "solidity": 0.2
            },
            "type": "scatter"
           }
          ],
          "scatter3d": [
           {
            "line": {
             "colorbar": {
              "outlinewidth": 0,
              "ticks": ""
             }
            },
            "marker": {
             "colorbar": {
              "outlinewidth": 0,
              "ticks": ""
             }
            },
            "type": "scatter3d"
           }
          ],
          "scattercarpet": [
           {
            "marker": {
             "colorbar": {
              "outlinewidth": 0,
              "ticks": ""
             }
            },
            "type": "scattercarpet"
           }
          ],
          "scattergeo": [
           {
            "marker": {
             "colorbar": {
              "outlinewidth": 0,
              "ticks": ""
             }
            },
            "type": "scattergeo"
           }
          ],
          "scattergl": [
           {
            "marker": {
             "colorbar": {
              "outlinewidth": 0,
              "ticks": ""
             }
            },
            "type": "scattergl"
           }
          ],
          "scattermapbox": [
           {
            "marker": {
             "colorbar": {
              "outlinewidth": 0,
              "ticks": ""
             }
            },
            "type": "scattermapbox"
           }
          ],
          "scatterpolar": [
           {
            "marker": {
             "colorbar": {
              "outlinewidth": 0,
              "ticks": ""
             }
            },
            "type": "scatterpolar"
           }
          ],
          "scatterpolargl": [
           {
            "marker": {
             "colorbar": {
              "outlinewidth": 0,
              "ticks": ""
             }
            },
            "type": "scatterpolargl"
           }
          ],
          "scatterternary": [
           {
            "marker": {
             "colorbar": {
              "outlinewidth": 0,
              "ticks": ""
             }
            },
            "type": "scatterternary"
           }
          ],
          "surface": [
           {
            "colorbar": {
             "outlinewidth": 0,
             "ticks": ""
            },
            "colorscale": [
             [
              0,
              "#0d0887"
             ],
             [
              0.1111111111111111,
              "#46039f"
             ],
             [
              0.2222222222222222,
              "#7201a8"
             ],
             [
              0.3333333333333333,
              "#9c179e"
             ],
             [
              0.4444444444444444,
              "#bd3786"
             ],
             [
              0.5555555555555556,
              "#d8576b"
             ],
             [
              0.6666666666666666,
              "#ed7953"
             ],
             [
              0.7777777777777778,
              "#fb9f3a"
             ],
             [
              0.8888888888888888,
              "#fdca26"
             ],
             [
              1,
              "#f0f921"
             ]
            ],
            "type": "surface"
           }
          ],
          "table": [
           {
            "cells": {
             "fill": {
              "color": "#EBF0F8"
             },
             "line": {
              "color": "white"
             }
            },
            "header": {
             "fill": {
              "color": "#C8D4E3"
             },
             "line": {
              "color": "white"
             }
            },
            "type": "table"
           }
          ]
         },
         "layout": {
          "annotationdefaults": {
           "arrowcolor": "#2a3f5f",
           "arrowhead": 0,
           "arrowwidth": 1
          },
          "autotypenumbers": "strict",
          "coloraxis": {
           "colorbar": {
            "outlinewidth": 0,
            "ticks": ""
           }
          },
          "colorscale": {
           "diverging": [
            [
             0,
             "#8e0152"
            ],
            [
             0.1,
             "#c51b7d"
            ],
            [
             0.2,
             "#de77ae"
            ],
            [
             0.3,
             "#f1b6da"
            ],
            [
             0.4,
             "#fde0ef"
            ],
            [
             0.5,
             "#f7f7f7"
            ],
            [
             0.6,
             "#e6f5d0"
            ],
            [
             0.7,
             "#b8e186"
            ],
            [
             0.8,
             "#7fbc41"
            ],
            [
             0.9,
             "#4d9221"
            ],
            [
             1,
             "#276419"
            ]
           ],
           "sequential": [
            [
             0,
             "#0d0887"
            ],
            [
             0.1111111111111111,
             "#46039f"
            ],
            [
             0.2222222222222222,
             "#7201a8"
            ],
            [
             0.3333333333333333,
             "#9c179e"
            ],
            [
             0.4444444444444444,
             "#bd3786"
            ],
            [
             0.5555555555555556,
             "#d8576b"
            ],
            [
             0.6666666666666666,
             "#ed7953"
            ],
            [
             0.7777777777777778,
             "#fb9f3a"
            ],
            [
             0.8888888888888888,
             "#fdca26"
            ],
            [
             1,
             "#f0f921"
            ]
           ],
           "sequentialminus": [
            [
             0,
             "#0d0887"
            ],
            [
             0.1111111111111111,
             "#46039f"
            ],
            [
             0.2222222222222222,
             "#7201a8"
            ],
            [
             0.3333333333333333,
             "#9c179e"
            ],
            [
             0.4444444444444444,
             "#bd3786"
            ],
            [
             0.5555555555555556,
             "#d8576b"
            ],
            [
             0.6666666666666666,
             "#ed7953"
            ],
            [
             0.7777777777777778,
             "#fb9f3a"
            ],
            [
             0.8888888888888888,
             "#fdca26"
            ],
            [
             1,
             "#f0f921"
            ]
           ]
          },
          "colorway": [
           "#636efa",
           "#EF553B",
           "#00cc96",
           "#ab63fa",
           "#FFA15A",
           "#19d3f3",
           "#FF6692",
           "#B6E880",
           "#FF97FF",
           "#FECB52"
          ],
          "font": {
           "color": "#2a3f5f"
          },
          "geo": {
           "bgcolor": "white",
           "lakecolor": "white",
           "landcolor": "#E5ECF6",
           "showlakes": true,
           "showland": true,
           "subunitcolor": "white"
          },
          "hoverlabel": {
           "align": "left"
          },
          "hovermode": "closest",
          "mapbox": {
           "style": "light"
          },
          "paper_bgcolor": "white",
          "plot_bgcolor": "#E5ECF6",
          "polar": {
           "angularaxis": {
            "gridcolor": "white",
            "linecolor": "white",
            "ticks": ""
           },
           "bgcolor": "#E5ECF6",
           "radialaxis": {
            "gridcolor": "white",
            "linecolor": "white",
            "ticks": ""
           }
          },
          "scene": {
           "xaxis": {
            "backgroundcolor": "#E5ECF6",
            "gridcolor": "white",
            "gridwidth": 2,
            "linecolor": "white",
            "showbackground": true,
            "ticks": "",
            "zerolinecolor": "white"
           },
           "yaxis": {
            "backgroundcolor": "#E5ECF6",
            "gridcolor": "white",
            "gridwidth": 2,
            "linecolor": "white",
            "showbackground": true,
            "ticks": "",
            "zerolinecolor": "white"
           },
           "zaxis": {
            "backgroundcolor": "#E5ECF6",
            "gridcolor": "white",
            "gridwidth": 2,
            "linecolor": "white",
            "showbackground": true,
            "ticks": "",
            "zerolinecolor": "white"
           }
          },
          "shapedefaults": {
           "line": {
            "color": "#2a3f5f"
           }
          },
          "ternary": {
           "aaxis": {
            "gridcolor": "white",
            "linecolor": "white",
            "ticks": ""
           },
           "baxis": {
            "gridcolor": "white",
            "linecolor": "white",
            "ticks": ""
           },
           "bgcolor": "#E5ECF6",
           "caxis": {
            "gridcolor": "white",
            "linecolor": "white",
            "ticks": ""
           }
          },
          "title": {
           "x": 0.05
          },
          "xaxis": {
           "automargin": true,
           "gridcolor": "white",
           "linecolor": "white",
           "ticks": "",
           "title": {
            "standoff": 15
           },
           "zerolinecolor": "white",
           "zerolinewidth": 2
          },
          "yaxis": {
           "automargin": true,
           "gridcolor": "white",
           "linecolor": "white",
           "ticks": "",
           "title": {
            "standoff": 15
           },
           "zerolinecolor": "white",
           "zerolinewidth": 2
          }
         }
        },
        "width": 1000
       }
      },
      "image/png": "[encoded data removed]",
      "text/html": [
       "<div>                            <div id=\"e90b5b4d-38c5-4cfb-9245-00e914c1cab7\" class=\"plotly-graph-div\" style=\"height:600px; width:1000px;\"></div>            <script type=\"text/javascript\">                require([\"plotly\"], function(Plotly) {                    window.PLOTLYENV=window.PLOTLYENV || {};                                    if (document.getElementById(\"e90b5b4d-38c5-4cfb-9245-00e914c1cab7\")) {                    Plotly.newPlot(                        \"e90b5b4d-38c5-4cfb-9245-00e914c1cab7\",                        [{\"customdata\":[[2.4,25600.0],[2.9,62000.0],[3.0,133100.0],[3.5,18600.0],[3.5,42100.0],[3.6,17500.0],[2.6,25000.0],[5.0,59500.0],[3.1,8800.0],[1.6,58700.0],[1.8,58300.0],[3.3,12600.0],[2.6,41600.0],[3.1,12000.0],[4.4,88400.0],[1.9,61700.0],[2.8,12200.0],[2.6,9300.0],[2.8,139100.0],[3.5,31000.0],[1.5,69400.0],[2.0,71400.0],[3.4,41600.0],[1.7,46800.0],[1.2,60100.0],[2.0,34400.0],[1.5,60400.0],[2.7,10200.0],[2.1,7000.0],[1.7,67900.0],[1.7,87000.0],[3.0,46800.0],[1.9,8700.0],[1.9,43600.0],[1.5,68600.0],[2.5,11200.0],[1.8,12700.0],[1.8,13200.0],[1.1,700.0],[1.4,54800.0],[2.1,25600.0],[2.1,25700.0],[2.8,12000.0],[1.8,123900.0],[3.3,12300.0],[2.9,114900.0],[1.6,78900.0],[3.0,12100.0],[2.9,12100.0],[1.9,148200.0],[2.9,15700.0],[2.2,68400.0],[2.7,8600.0],[1.3,50300.0],[1.1,9500.0],[1.7,13400.0],[2.3,52000.0],[0.4,3900.0],[2.5,26000.0],[3.1,68100.0],[2.8,49800.0],[3.0,12400.0],[1.9,53000.0],[3.2,42300.0],[1.9,27000.0],[1.5,51900.0],[2.6,12200.0],[3.1,7800.0],[3.0,11900.0],[2.1,5600.0],[2.1,126400.0],[2.9,12800.0],[2.9,25600.0],[2.4,25500.0],[1.6,48200.0],[2.5,27800.0],[2.6,9400.0],[2.0,116500.0],[2.1,8900.0],[2.6,37200.0],[2.7,49100.0],[2.9,12500.0],[3.1,7700.0],[2.1,68000.0],[2.4,72300.0],[2.7,80100.0],[2.6,66600.0],[1.9,75200.0],[2.7,11900.0],[1.7,58100.0],[1.3,18100.0],[1.7,58300.0],[1.5,93100.0],[2.2,114300.0],[1.5,19100.0],[1.8,30800.0],[1.4,13700.0],[2.4,9200.0],[1.7,126500.0],[2.3,70600.0],[2.6,64700.0],[1.9,50100.0],[2.1,99100.0],[2.1,66200.0],[2.5,52700.0],[1.2,5700.0],[3.4,41400.0],[2.1,115600.0],[2.0,81600.0],[2.3,41100.0],[2.4,36900.0],[3.5,81400.0],[2.7,42200.0],[1.1,100.0],[2.5,61600.0],[3.2,6700.0],[2.4,11700.0],[2.4,15500.0],[2.1,66700.0],[2.1,63200.0],[1.7,57900.0],[1.3,1000.0],[2.6,49300.0],[2.9,30000.0],[2.9,12400.0],[2.4,123500.0],[2.3,16800.0],[2.2,55900.0],[2.0,148200.0],[2.9,83100.0],[2.4,128400.0],[3.2,38300.0],[2.8,46000.0],[2.4,43800.0],[2.9,12000.0],[2.9,12100.0],[3.3,25000.0],[2.1,158600.0],[1.9,30000.0],[1.2,11200.0],[1.5,28400.0],[3.0,154400.0],[3.1,13000.0],[0.4,2500.0],[2.6,67100.0],[2.5,25600.0],[1.5,55200.0],[1.5,8500.0],[2.4,21200.0],[2.6,12300.0],[2.3,98200.0],[2.0,120800.0],[2.0,66600.0],[1.2,41800.0],[0.6,6100.0],[2.6,35000.0],[1.9,8600.0],[1.8,82300.0],[2.1,37900.0],[3.3,36000.0],[1.5,6800.0],[2.9,12100.0],[2.8,38600.0],[1.3,17600.0],[2.9,12500.0],[2.5,35000.0],[3.0,11800.0],[1.9,136200.0],[2.3,47100.0],[1.3,40000.0],[5.2,123700.0],[3.4,166500.0],[2.3,93000.0],[2.6,31200.0],[2.8,13700.0],[2.0,32100.0],[2.3,25700.0],[2.5,51500.0],[2.1,124700.0],[2.5,18800.0],[1.8,38300.0],[2.7,60200.0],[2.2,119500.0],[1.8,8100.0],[3.2,43500.0],[2.5,120800.0],[1.8,15000.0],[2.8,15600.0],[3.5,52000.0],[3.1,65000.0],[2.8,117300.0],[1.8,14000.0],[2.6,54100.0],[1.9,128800.0],[2.3,96100.0],[1.6,69500.0],[2.7,43100.0],[3.0,11800.0],[2.9,11700.0],[2.9,12600.0],[1.9,111000.0],[2.9,13200.0],[2.0,66500.0],[1.7,60100.0],[2.0,60300.0],[2.6,118900.0],[1.6,51400.0],[1.4,10900.0],[1.8,49200.0],[1.8,12600.0],[1.8,46300.0],[2.0,25800.0],[1.7,71700.0],[3.2,45100.0],[1.8,78500.0],[1.5,38000.0],[2.0,38300.0],[2.0,55100.0],[2.7,12200.0],[3.0,12500.0],[2.8,50200.0],[1.4,16100.0],[1.7,68800.0],[2.0,4300.0],[1.6,13300.0],[1.0,4100.0],[1.0,4500.0],[1.3,3900.0],[1.3,44500.0],[2.0,32600.0],[1.4,65900.0],[1.1,1200.0],[1.5,85300.0],[1.5,75500.0],[1.0,2800.0],[1.8,37800.0],[4.2,12100.0],[1.5,58100.0],[2.4,22200.0],[1.8,59400.0],[1.9,5100.0],[1.5,500.0],[1.1,11000.0],[1.5,50300.0],[2.7,2400.0],[2.6,9200.0],[1.4,66900.0],[1.9,10300.0],[1.6,59700.0],[1.0,6500.0],[1.8,35200.0],[2.8,1700.0],[3.2,4000.0],[3.3,11200.0],[3.2,10000.0],[3.1,11100.0],[3.4,12400.0],[1.4,32500.0],[3.3,6800.0],[2.6,87000.0],[1.6,60600.0],[1.7,21300.0],[2.8,37700.0],[2.7,32300.0],[3.0,11500.0],[1.9,123000.0],[2.6,0.0],[2.4,12000.0],[1.4,22700.0],[1.9,156900.0],[2.6,7900.0],[2.6,3700.0],[2.6,1800.0],[2.2,29400.0],[2.7,12100.0],[2.9,3000.0],[3.0,42700.0],[2.3,28400.0],[2.6,25600.0],[2.7,25800.0],[2.6,11800.0],[2.6,3800.0],[2.3,32000.0],[1.5,46500.0],[1.8,114500.0],[2.3,14100.0],[2.1,26000.0],[1.6,86600.0],[2.3,300.0],[2.3,35600.0],[1.7,98600.0],[1.8,26100.0],[2.6,3000.0],[3.0,54900.0],[1.7,71300.0],[1.6,5000.0],[2.7,2400.0],[2.7,7100.0],[2.7,10300.0],[2.6,1200.0],[2.7,20800.0],[2.8,12300.0],[3.0,12300.0],[2.8,12000.0],[1.4,37000.0],[2.2,120400.0],[1.8,19200.0],[1.8,21700.0],[1.7,62700.0],[2.4,21600.0],[2.9,1000.0],[2.2,129800.0],[1.4,17200.0],[2.7,12300.0],[2.2,32700.0],[2.6,2400.0],[1.7,7100.0],[3.2,178000.0],[0.8,16700.0],[2.5,41200.0],[1.7,13400.0],[2.7,3300.0],[2.4,15900.0],[2.0,38000.0],[2.1,121600.0],[1.8,36700.0],[3.2,12000.0],[3.0,24800.0],[1.9,7100.0],[2.6,42300.0],[2.4,50600.0],[3.1,59900.0],[1.3,24600.0],[2.7,12700.0],[2.8,9700.0],[2.7,8400.0],[2.0,58400.0],[2.4,7600.0],[1.5,3200.0],[1.6,17500.0],[1.6,74500.0],[2.8,4900.0],[1.4,47600.0],[1.6,1500.0],[2.9,27000.0],[1.5,45100.0],[2.3,40700.0],[2.5,9400.0],[3.0,167500.0],[2.6,66700.0],[1.6,2300.0],[3.1,7100.0],[1.3,17200.0],[2.3,155400.0],[2.5,23400.0],[2.0,56500.0],[3.7,41800.0],[2.1,106400.0],[2.8,71100.0],[2.6,19400.0],[3.2,29900.0],[3.0,14000.0],[3.0,12000.0],[2.6,10600.0],[3.1,31200.0],[2.9,13000.0],[3.2,14900.0],[2.9,11700.0],[2.8,7600.0],[2.8,15000.0],[1.5,8200.0],[2.3,90200.0],[2.1,44500.0],[1.9,67900.0],[1.6,2000.0],[2.0,41000.0],[1.3,11300.0],[2.0,23300.0],[1.9,68600.0],[2.3,6900.0],[2.1,27900.0],[1.4,58100.0],[2.8,7200.0],[2.3,15400.0],[2.4,24200.0],[2.5,43700.0],[2.8,6400.0],[2.3,43900.0],[2.3,95000.0],[3.1,140900.0],[2.7,32700.0],[2.9,54600.0],[3.2,40400.0],[1.0,4900.0],[1.7,8000.0],[2.6,16100.0],[2.8,10000.0]],\"geo\":\"geo\",\"hovertemplate\":\"<b>%{hovertext}</b><br><br>marker_size=%{marker.size}<br>epi_lats=%{lat}<br>epi_longs=%{lon}<br>magnitudes=%{marker.color}<br>depths=%{customdata[1]}<extra></extra>\",\"hovertext\":[\"Alaskan Coast\",\"Alaskan Coast\",\"Alaskan Coast\",\"Alaskan Coast\",\"Alaskan Coast\",\"Alaskan Coast\",\"Alaskan Coast\",\"Alaskan Coast\",\"Alaskan Coast\",\"Alaskan Coast\",\"Alaskan Coast\",\"Alaskan Coast\",\"Alaskan Coast\",\"Alaskan Coast\",\"Alaskan Coast\",\"Alaskan Coast\",\"Alaskan Coast\",\"Alaskan Coast\",\"Alaskan Coast\",\"Alaskan Coast\",\"Alaskan Coast\",\"Alaskan Coast\",\"Alaskan Coast\",\"Alaskan Coast\",\"Alaskan Coast\",\"Alaskan Coast\",\"Alaskan Coast\",\"Alaskan Coast\",\"Alaskan Coast\",\"Alaskan Coast\",\"Alaskan Coast\",\"Alaskan Coast\",\"Alaskan Coast\",\"Alaskan Coast\",\"Alaskan Coast\",\"Alaskan Coast\",\"Alaskan Coast\",\"Alaskan Coast\",\"Alaskan Coast\",\"Alaskan Coast\",\"Alaskan Coast\",\"Alaskan Coast\",\"Alaskan Coast\",\"Alaskan Coast\",\"Alaskan Coast\",\"Alaskan Coast\",\"Alaskan Coast\",\"Alaskan Coast\",\"Alaskan Coast\",\"Alaskan Coast\",\"Alaskan Coast\",\"Alaskan Coast\",\"Alaskan Coast\",\"Alaskan Coast\",\"Alaskan Coast\",\"Alaskan Coast\",\"Alaskan Coast\",\"Alaskan Coast\",\"Alaskan Coast\",\"Alaskan Coast\",\"Alaskan Coast\",\"Alaskan Coast\",\"Alaskan Coast\",\"Alaskan Coast\",\"Alaskan Coast\",\"Alaskan Coast\",\"Alaskan Coast\",\"Alaskan Coast\",\"Alaskan Coast\",\"Alaskan Coast\",\"Alaskan Coast\",\"Alaskan Coast\",\"Alaskan Coast\",\"Alaskan Coast\",\"Alaskan Coast\",\"Alaskan Coast\",\"Alaskan Coast\",\"Alaskan Coast\",\"Alaskan Coast\",\"Alaskan Coast\",\"Alaskan Coast\",\"Alaskan Coast\",\"Alaskan Coast\",\"Alaskan Coast\",\"Alaskan Coast\",\"Alaskan Coast\",\"Alaskan Coast\",\"Alaskan Coast\",\"Alaskan Coast\",\"Alaskan Coast\",\"Alaskan Coast\",\"Alaskan Coast\",\"Alaskan Coast\",\"Alaskan Coast\",\"Alaskan Coast\",\"Alaskan Coast\",\"Alaskan Coast\",\"Alaskan Coast\",\"Alaskan Coast\",\"Alaskan Coast\",\"Alaskan Coast\",\"Alaskan Coast\",\"Alaskan Coast\",\"Alaskan Coast\",\"Alaskan Coast\",\"Alaskan Coast\",\"Alaskan Coast\",\"Alaskan Coast\",\"Alaskan Coast\",\"Alaskan Coast\",\"Alaskan Coast\",\"Alaskan Coast\",\"Alaskan Coast\",\"Alaskan Coast\",\"Alaskan Coast\",\"Alaskan Coast\",\"Alaskan Coast\",\"Alaskan Coast\",\"Alaskan Coast\",\"Alaskan Coast\",\"Alaskan Coast\",\"Alaskan Coast\",\"Alaskan Coast\",\"Alaskan Coast\",\"Alaskan Coast\",\"Alaskan Coast\",\"Alaskan Coast\",\"Alaskan Coast\",\"Alaskan Coast\",\"Alaskan Coast\",\"Alaskan Coast\",\"Alaskan Coast\",\"Alaskan Coast\",\"Alaskan Coast\",\"Alaskan Coast\",\"Alaskan Coast\",\"Alaskan Coast\",\"Alaskan Coast\",\"Alaskan Coast\",\"Alaskan Coast\",\"Alaskan Coast\",\"Alaskan Coast\",\"Alaskan Coast\",\"Alaskan Coast\",\"Alaskan Coast\",\"Alaskan Coast\",\"Alaskan Coast\",\"Alaskan Coast\",\"Alaskan Coast\",\"Alaskan Coast\",\"Alaskan Coast\",\"Alaskan Coast\",\"Alaskan Coast\",\"Alaskan Coast\",\"Alaskan Coast\",\"Alaskan Coast\",\"Alaskan Coast\",\"Alaskan Coast\",\"Alaskan Coast\",\"Alaskan Coast\",\"Alaskan Coast\",\"Alaskan Coast\",\"Alaskan Coast\",\"Alaskan Coast\",\"Alaskan Coast\",\"Alaskan Coast\",\"Alaskan Coast\",\"Alaskan Coast\",\"Alaskan Coast\",\"Alaskan Coast\",\"Alaskan Coast\",\"Alaskan Coast\",\"Alaskan Coast\",\"Alaskan Coast\",\"Alaskan Coast\",\"Alaskan Coast\",\"Alaskan Coast\",\"Alaskan Coast\",\"Alaskan Coast\",\"Alaskan Coast\",\"Alaskan Coast\",\"Alaskan Coast\",\"Alaskan Coast\",\"Alaskan Coast\",\"Alaskan Coast\",\"Alaskan Coast\",\"Alaskan Coast\",\"Alaskan Coast\",\"Alaskan Coast\",\"Alaskan Coast\",\"Alaskan Coast\",\"Alaskan Coast\",\"Alaskan Coast\",\"Alaskan Coast\",\"Alaskan Coast\",\"Alaskan Coast\",\"Alaskan Coast\",\"Alaskan Coast\",\"Alaskan Coast\",\"Alaskan Coast\",\"Alaskan Coast\",\"Alaskan Coast\",\"Alaskan Coast\",\"Alaskan Coast\",\"Alaskan Coast\",\"Alaskan Coast\",\"Alaskan Coast\",\"Alaskan Coast\",\"Alaskan Coast\",\"Alaskan Coast\",\"Alaskan Coast\",\"Alaskan Coast\",\"Alaskan Coast\",\"Alaskan Coast\",\"Alaskan Coast\",\"Alaskan Coast\",\"Alaskan Coast\",\"Alaskan Coast\",\"Alaskan Coast\",\"Alaskan Coast\",\"Alaskan Coast\",\"Alaskan Coast\",\"Alaskan Coast\",\"Alaskan Coast\",\"Alaskan Coast\",\"Alaskan Coast\",\"Alaskan Coast\",\"Alaskan Coast\",\"Alaskan Coast\",\"Alaskan Coast\",\"Alaskan Coast\",\"Alaskan Coast\",\"Alaskan Coast\",\"Alaskan Coast\",\"Alaskan Coast\",\"Alaskan Coast\",\"Alaskan Coast\",\"Alaskan Coast\",\"Alaskan Coast\",\"Alaskan Coast\",\"Alaskan Coast\",\"Alaskan Coast\",\"Alaskan Coast\",\"Alaskan Coast\",\"Alaskan Coast\",\"Alaskan Coast\",\"Alaskan Coast\",\"Alaskan Coast\",\"Alaskan Coast\",\"Alaskan Coast\",\"Alaskan Coast\",\"Alaskan Coast\",\"Alaskan Coast\",\"Alaskan Coast\",\"Alaskan Coast\",\"Alaskan Coast\",\"Alaskan Coast\",\"Alaskan Coast\",\"Alaskan Coast\",\"Alaskan Coast\",\"Alaskan Coast\",\"Alaskan Coast\",\"Alaskan Coast\",\"Alaskan Coast\",\"Alaskan Coast\",\"Alaskan Coast\",\"Alaskan Coast\",\"Alaskan Coast\",\"Alaskan Coast\",\"Alaskan Coast\",\"Alaskan Coast\",\"Alaskan Coast\",\"Alaskan Coast\",\"Alaskan Coast\",\"Alaskan Coast\",\"Alaskan Coast\",\"Alaskan Coast\",\"Alaskan Coast\",\"Alaskan Coast\",\"Alaskan Coast\",\"Alaskan Coast\",\"Alaskan Coast\",\"Alaskan Coast\",\"Alaskan Coast\",\"Alaskan Coast\",\"Alaskan Coast\",\"Alaskan Coast\",\"Alaskan Coast\",\"Alaskan Coast\",\"Alaskan Coast\",\"Alaskan Coast\",\"Alaskan Coast\",\"Alaskan Coast\",\"Alaskan Coast\",\"Alaskan Coast\",\"Alaskan Coast\",\"Alaskan Coast\",\"Alaskan Coast\",\"Alaskan Coast\",\"Alaskan Coast\",\"Alaskan Coast\",\"Alaskan Coast\",\"Alaskan Coast\",\"Alaskan Coast\",\"Alaskan Coast\",\"Alaskan Coast\",\"Alaskan Coast\",\"Alaskan Coast\",\"Alaskan Coast\",\"Alaskan Coast\",\"Alaskan Coast\",\"Alaskan Coast\",\"Alaskan Coast\",\"Alaskan Coast\",\"Alaskan Coast\",\"Alaskan Coast\",\"Alaskan Coast\",\"Alaskan Coast\",\"Alaskan Coast\",\"Alaskan Coast\",\"Alaskan Coast\",\"Alaskan Coast\",\"Alaskan Coast\",\"Alaskan Coast\",\"Alaskan Coast\",\"Alaskan Coast\",\"Alaskan Coast\",\"Alaskan Coast\",\"Alaskan Coast\",\"Alaskan Coast\",\"Alaskan Coast\",\"Alaskan Coast\",\"Alaskan Coast\",\"Alaskan Coast\",\"Alaskan Coast\",\"Alaskan Coast\",\"Alaskan Coast\",\"Alaskan Coast\",\"Alaskan Coast\",\"Alaskan Coast\",\"Alaskan Coast\",\"Alaskan Coast\",\"Alaskan Coast\",\"Alaskan Coast\",\"Alaskan Coast\",\"Alaskan Coast\",\"Alaskan Coast\",\"Alaskan Coast\",\"Alaskan Coast\",\"Alaskan Coast\",\"Alaskan Coast\",\"Alaskan Coast\",\"Alaskan Coast\",\"Alaskan Coast\",\"Alaskan Coast\",\"Alaskan Coast\",\"Alaskan Coast\",\"Alaskan Coast\",\"Alaskan Coast\",\"Alaskan Coast\",\"Alaskan Coast\",\"Alaskan Coast\",\"Alaskan Coast\",\"Alaskan Coast\",\"Alaskan Coast\",\"Alaskan Coast\",\"Alaskan Coast\",\"Alaskan Coast\",\"Alaskan Coast\",\"Alaskan Coast\",\"Alaskan Coast\",\"Alaskan Coast\",\"Alaskan Coast\",\"Alaskan Coast\",\"Alaskan Coast\",\"Alaskan Coast\",\"Alaskan Coast\",\"Alaskan Coast\",\"Alaskan Coast\",\"Alaskan Coast\",\"Alaskan Coast\",\"Alaskan Coast\",\"Alaskan Coast\",\"Alaskan Coast\",\"Alaskan Coast\",\"Alaskan Coast\",\"Alaskan Coast\",\"Alaskan Coast\",\"Alaskan Coast\",\"Alaskan Coast\",\"Alaskan Coast\",\"Alaskan Coast\",\"Alaskan Coast\",\"Alaskan Coast\",\"Alaskan Coast\",\"Alaskan Coast\",\"Alaskan Coast\"],\"lat\":[54.3925,54.2056,57.1614,55.7353,54.2502,56.3329,54.2164,58.3433,56.2085,58.339,58.386,55.6935,53.6983,56.0425,58.5396,58.3536,52.4151,57.3772,56.4547,55.1964,58.8685,57.6395,54.3198,58.7268,57.8545,54.6559,58.3602,55.6125,58.7347,58.7796,57.7729,56.4294,57.0048,58.2915,57.6118,56.7829,54.6061,54.8448,58.6893,57.6967,54.3593,54.3646,55.7537,58.7689,56.1423,55.4747,58.7222,55.8818,55.9809,58.2787,56.1324,56.1936,56.1356,57.8836,57.8177,54.7427,54.8426,58.249,53.9066,56.569,54.4594,55.9644,58.4538,54.3194,57.5237,57.2063,55.2045,56.0344,55.9459,58.7404,57.9262,56.1845,52.8865,54.3459,57.6794,58.3194,57.175,58.8129,57.5326,54.2681,54.9672,56.412,56.1952,58.8371,58.8747,58.0093,56.1082,58.6534,56.4715,58.7828,57.7403,57.0678,57.9202,55.1248,57.1052,58.2569,57.5393,56.7526,58.9857,57.0141,56.8378,58.9465,58.2412,58.1706,58.9762,58.4216,54.3174,58.8513,57.8048,54.6862,54.9044,58.6262,55.3959,58.4192,55.1521,55.5509,55.5095,55.5375,57.3617,57.651,58.8928,58.1549,57.2914,56.4381,56.1333,56.2552,54.9243,55.2531,58.9165,55.956,57.7354,54.5909,54.9352,57.2128,56.4519,56.376,52.7642,58.5026,57.5671,58.5521,57.1163,58.3622,55.8853,58.1992,56.6572,54.2909,58.4214,57.1076,54.8825,55.6799,56.687,57.8372,58.4142,57.8486,58.2499,54.2181,57.2726,58.6203,57.7586,54.3049,57.2715,56.339,54.4122,58.8022,56.0905,57.683,55.8504,58.6541,55.9726,57.4037,58.3198,55.9285,55.8884,54.3339,56.4081,58.0644,54.3926,58.2644,58.9447,55.0969,58.3498,58.6959,58.9514,57.8963,53.7302,55.4286,57.5673,57.5634,57.3029,56.8981,58.867,58.5953,55.603,58.875,57.0615,58.9449,54.2987,56.1778,56.2822,55.8647,58.98,55.5735,57.7313,58.4934,58.9724,58.3619,57.3303,57.5325,58.824,56.613,58.828,54.0068,58.7064,57.956,54.9317,57.9941,54.2335,56.2097,55.9115,55.5597,54.3389,58.7694,57.8899,57.4027,55.0121,58.2932,58.4306,57.2247,57.0486,56.2021,57.6151,58.45,57.8601,57.7651,58.3666,54.3001,56.1584,58.9198,56.6389,54.8257,55.0936,58.1748,57.5403,58.9639,56.2329,56.1484,57.8367,54.4658,58.0354,57.84,57.6247,55.7847,55.9345,55.8166,56.2558,55.8592,55.7833,57.4751,53.8547,54.6948,57.856,57.0139,53.0682,53.1875,56.0056,57.8673,56.2244,55.6335,57.5949,58.3476,56.1582,53.141,55.1097,56.4447,56.1751,53.0742,53.3584,55.6259,53.8061,53.7906,56.0039,55.811,54.5757,57.7874,58.2079,55.0997,54.2763,58.3263,53.7708,56.1275,59.0204,58.2727,56.3367,53.298,57.4672,58.408,56.1021,56.1436,56.0185,54.9852,55.9039,55.9334,55.4077,55.875,57.7754,59.0206,56.7613,57.0602,58.3721,55.1643,52.4584,56.0601,57.5295,55.51,55.0047,56.0426,56.8932,55.6961,57.5441,54.1244,57.5162,56.242,54.3126,58.178,58.9418,58.1807,55.5915,54.2121,56.781,53.9291,54.7254,53.7384,57.5963,56.003,55.9073,55.9957,59.0343,56.4062,56.9425,57.5805,57.7069,56.3043,57.8879,56.9275,53.3812,57.7673,54.4132,54.6854,55.7295,55.9471,57.0858,55.5173,57.8224,58.2536,53.4242,59.022,52.4924,58.8239,56.4066,53.4096,53.0106,55.7836,55.7565,55.1573,53.2821,56.2258,56.1743,55.9832,56.3451,56.396,57.339,55.609,54.4995,58.1655,56.8505,54.4839,56.9131,54.3725,56.3036,54.8239,53.406,58.1802,56.1533,53.1155,53.2243,54.1819,56.1592,54.1487,55.5915,56.3853,54.5765,56.2054,52.4564,56.8122,56.4864,55.7288,56.1763],\"legendgroup\":\"\",\"lon\":[-161.4584,-161.5565,-157.9859,-149.1689,-161.6862,-154.0465,-161.6158,-153.1855,-149.2828,-153.1732,-153.2021,-149.046,-160.7682,-148.4692,-154.0952,-153.1745,-162.9191,-149.0229,-159.1874,-157.8809,-153.4266,-154.7452,-161.6214,-151.4005,-153.3157,-161.3082,-153.1929,-149.1689,-148.0309,-152.7339,-155.1574,-156.01,-157.6069,-152.7394,-154.1445,-149.2342,-162.0671,-160.4887,-153.6952,-154.967,-161.533,-161.4325,-149.0967,-154.8113,-149.2208,-161.7164,-153.8482,-149.7105,-148.9357,-156.051,-149.344,-156.3433,-149.1663,-153.5174,-155.3784,-162.727,-161.2724,-155.1124,-161.8231,-156.4848,-160.707,-149.0595,-153.001,-161.4597,-152.6164,-153.3028,-151.7111,-149.439,-149.4055,-152.1914,-156.196,-148.644,-161.7039,-161.5252,-154.5455,-151.0161,-150.7032,-154.5237,-152.7514,-161.5413,-161.11,-148.6171,-149.3171,-153.0852,-153.3812,-154.8679,-157.959,-153.7911,-149.0652,-153.2056,-155.6541,-155.4371,-155.2452,-162.8506,-154.2163,-151.4413,-154.7538,-154.4192,-154.4226,-155.016,-154.9441,-152.6676,-154.8359,-153.8569,-152.1235,-154.8987,-161.4348,-154.5873,-155.0427,-161.4592,-159.8636,-153.9177,-158.474,-154.8029,-160.8056,-160.0023,-159.9795,-159.9235,-155.6067,-154.6177,-152.9323,-156.5457,-154.1756,-148.8665,-149.0777,-159.4882,-159.9352,-160.4938,-155.1474,-159.179,-156.3283,-161.7445,-159.5563,-150.4566,-148.5814,-148.1028,-162.7752,-156.2032,-153.2224,-154.2544,-154.2179,-155.9238,-149.2956,-155.2671,-155.5463,-161.5254,-153.1722,-154.7178,-160.2917,-149.3761,-157.0807,-156.2514,-153.65,-153.6413,-154.8932,-161.3258,-157.3472,-153.7941,-153.0207,-161.4734,-154.6644,-149.9342,-162.6436,-156.4086,-148.4758,-152.654,-149.7309,-155.1558,-156.2833,-154.6597,-155.2945,-161.2838,-160.3416,-160.8141,-148.1411,-151.66,-161.3292,-152.8367,-154.4576,-159.2717,-152.842,-152.88,-154.4184,-155.818,-161.758,-161.7451,-154.7219,-151.97,-154.5759,-155.5754,-154.4486,-150.5338,-158.9973,-154.4662,-157.1818,-152.4677,-161.5465,-149.0134,-148.5628,-149.5644,-153.9551,-148.7522,-154.4745,-153.4977,-152.8303,-155.1872,-154.6377,-153.7697,-153.1735,-155.2471,-152.0727,-162.895,-153.6292,-152.5278,-160.6988,-152.5141,-161.5815,-157.1542,-149.3851,-148.9855,-160.7455,-157.8959,-155.0856,-155.8136,-160.7128,-154.9917,-154.7864,-157.397,-154.631,-152.8703,-154.9236,-154.4208,-155.0551,-155.447,-154.7654,-161.5086,-149.1486,-152.2097,-154.8611,-161.6233,-162.0333,-155.3168,-154.8305,-151.7774,-149.1767,-149.0274,-153.9971,-161.4518,-153.5466,-155.7155,-153.7144,-149.0372,-149.1053,-148.9909,-149.032,-149.6839,-148.9552,-153.754,-155.3916,-161.5261,-154.4732,-153.9178,-160.6057,-159.9015,-149.2585,-156.1892,-149.1637,-149.8529,-153.0514,-155.9959,-149.21,-159.9573,-151.6698,-152.5446,-148.8653,-161.8048,-162.829,-151.6211,-162.0931,-162.1294,-149.5005,-149.9227,-159.847,-154.4785,-155.7531,-157.764,-161.4623,-154.2674,-157.3654,-152.73,-153.8841,-151.036,-148.2178,-160.987,-155.4571,-151.8291,-149.9391,-149.0258,-149.3347,-155.6365,-149.6586,-149.6018,-148.9403,-148.9738,-153.9169,-154.2728,-156.0442,-153.9153,-153.1309,-157.7128,-162.8536,-159.3724,-154.8808,-148.9923,-159.6583,-149.381,-152.9048,-161.7434,-153.8117,-159.7379,-152.7396,-149.0534,-160.9355,-151.7187,-154.346,-153.0564,-148.9789,-156.8507,-154.4082,-160.4812,-161.7163,-161.2513,-152.7165,-149.6045,-149.5418,-149.5866,-152.9355,-147.7997,-155.1037,-152.018,-155.3852,-148.489,-154.1309,-154.816,-157.8973,-154.347,-158.9947,-159.9726,-161.7833,-158.2185,-154.7354,-149.0339,-153.9895,-156.1755,-159.4056,-152.3754,-162.9604,-154.1881,-156.3781,-157.6146,-160.3242,-149.1853,-149.031,-152.3308,-160.1601,-149.1957,-149.0454,-149.7515,-149.1224,-148.4621,-154.6127,-160.1589,-159.5365,-153.6109,-154.9849,-161.4926,-155.1652,-158.9602,-156.203,-153.7332,-159.7333,-153.4241,-149.097,-160.0675,-159.7688,-159.0728,-148.9991,-159.8499,-159.8419,-159.1514,-159.4232,-157.8796,-163.0502,-153.7876,-156.3213,-149.0533,-148.86],\"marker\":{\"color\":[2.4,2.9,3.0,3.5,3.5,3.6,2.6,5.0,3.1,1.6,1.8,3.3,2.6,3.1,4.4,1.9,2.8,2.6,2.8,3.5,1.5,2.0,3.4,1.7,1.2,2.0,1.5,2.7,2.1,1.7,1.7,3.0,1.9,1.9,1.5,2.5,1.8,1.8,1.1,1.4,2.1,2.1,2.8,1.8,3.3,2.9,1.6,3.0,2.9,1.9,2.9,2.2,2.7,1.3,1.1,1.7,2.3,0.4,2.5,3.1,2.8,3.0,1.9,3.2,1.9,1.5,2.6,3.1,3.0,2.1,2.1,2.9,2.9,2.4,1.6,2.5,2.6,2.0,2.1,2.6,2.7,2.9,3.1,2.1,2.4,2.7,2.6,1.9,2.7,1.7,1.3,1.7,1.5,2.2,1.5,1.8,1.4,2.4,1.7,2.3,2.6,1.9,2.1,2.1,2.5,1.2,3.4,2.1,2.0,2.3,2.4,3.5,2.7,1.1,2.5,3.2,2.4,2.4,2.1,2.1,1.7,1.3,2.6,2.9,2.9,2.4,2.3,2.2,2.0,2.9,2.4,3.2,2.8,2.4,2.9,2.9,3.3,2.1,1.9,1.2,1.5,3.0,3.1,0.4,2.6,2.5,1.5,1.5,2.4,2.6,2.3,2.0,2.0,1.2,0.6,2.6,1.9,1.8,2.1,3.3,1.5,2.9,2.8,1.3,2.9,2.5,3.0,1.9,2.3,1.3,5.2,3.4,2.3,2.6,2.8,2.0,2.3,2.5,2.1,2.5,1.8,2.7,2.2,1.8,3.2,2.5,1.8,2.8,3.5,3.1,2.8,1.8,2.6,1.9,2.3,1.6,2.7,3.0,2.9,2.9,1.9,2.9,2.0,1.7,2.0,2.6,1.6,1.4,1.8,1.8,1.8,2.0,1.7,3.2,1.8,1.5,2.0,2.0,2.7,3.0,2.8,1.4,1.7,2.0,1.6,1.0,1.0,1.3,1.3,2.0,1.4,1.1,1.5,1.5,1.0,1.8,4.2,1.5,2.4,1.8,1.9,1.5,1.1,1.5,2.7,2.6,1.4,1.9,1.6,1.0,1.8,2.8,3.2,3.3,3.2,3.1,3.4,1.4,3.3,2.6,1.6,1.7,2.8,2.7,3.0,1.9,2.6,2.4,1.4,1.9,2.6,2.6,2.6,2.2,2.7,2.9,3.0,2.3,2.6,2.7,2.6,2.6,2.3,1.5,1.8,2.3,2.1,1.6,2.3,2.3,1.7,1.8,2.6,3.0,1.7,1.6,2.7,2.7,2.7,2.6,2.7,2.8,3.0,2.8,1.4,2.2,1.8,1.8,1.7,2.4,2.9,2.2,1.4,2.7,2.2,2.6,1.7,3.2,0.8,2.5,1.7,2.7,2.4,2.0,2.1,1.8,3.2,3.0,1.9,2.6,2.4,3.1,1.3,2.7,2.8,2.7,2.0,2.4,1.5,1.6,1.6,2.8,1.4,1.6,2.9,1.5,2.3,2.5,3.0,2.6,1.6,3.1,1.3,2.3,2.5,2.0,3.7,2.1,2.8,2.6,3.2,3.0,3.0,2.6,3.1,2.9,3.2,2.9,2.8,2.8,1.5,2.3,2.1,1.9,1.6,2.0,1.3,2.0,1.9,2.3,2.1,1.4,2.8,2.3,2.4,2.5,2.8,2.3,2.3,3.1,2.7,2.9,3.2,1.0,1.7,2.6,2.8],\"coloraxis\":\"coloraxis\",\"size\":[11.0,18.0,20.0,33.0,33.0,36.0,13.0,148.0,22.0,4.0,6.0,27.0,13.0,22.0,81.0,6.0,16.0,13.0,16.0,33.0,4.0,7.0,29.0,5.0,3.0,7.0,4.0,14.0,8.0,5.0,5.0,20.0,6.0,6.0,4.0,12.0,6.0,6.0,3.0,4.0,8.0,8.0,16.0,6.0,27.0,18.0,4.0,20.0,18.0,6.0,18.0,9.0,14.0,3.0,3.0,5.0,9.0,1.0,12.0,22.0,16.0,20.0,6.0,24.0,6.0,4.0,13.0,22.0,20.0,8.0,8.0,18.0,18.0,11.0,4.0,12.0,13.0,7.0,8.0,13.0,14.0,18.0,22.0,8.0,11.0,14.0,13.0,6.0,14.0,5.0,3.0,5.0,4.0,9.0,4.0,6.0,4.0,11.0,5.0,9.0,13.0,6.0,8.0,8.0,12.0,3.0,29.0,8.0,7.0,9.0,11.0,33.0,14.0,3.0,12.0,24.0,11.0,11.0,8.0,8.0,5.0,3.0,13.0,18.0,18.0,11.0,9.0,9.0,7.0,18.0,11.0,24.0,16.0,11.0,18.0,18.0,27.0,8.0,6.0,3.0,4.0,20.0,22.0,1.0,13.0,12.0,4.0,4.0,11.0,13.0,9.0,7.0,7.0,3.0,1.0,13.0,6.0,6.0,8.0,27.0,4.0,18.0,16.0,3.0,18.0,12.0,20.0,6.0,9.0,3.0,181.0,29.0,9.0,13.0,16.0,7.0,9.0,12.0,8.0,12.0,6.0,14.0,9.0,6.0,24.0,12.0,6.0,16.0,33.0,22.0,16.0,6.0,13.0,6.0,9.0,4.0,14.0,20.0,18.0,18.0,6.0,18.0,7.0,5.0,7.0,13.0,4.0,4.0,6.0,6.0,6.0,7.0,5.0,24.0,6.0,4.0,7.0,7.0,14.0,20.0,16.0,4.0,5.0,7.0,4.0,2.0,2.0,3.0,3.0,7.0,4.0,3.0,4.0,4.0,2.0,6.0,66.0,4.0,11.0,6.0,6.0,4.0,3.0,4.0,14.0,13.0,4.0,6.0,4.0,2.0,6.0,16.0,24.0,27.0,24.0,22.0,29.0,4.0,27.0,13.0,4.0,5.0,16.0,14.0,20.0,6.0,13.0,11.0,4.0,6.0,13.0,13.0,13.0,9.0,14.0,18.0,20.0,9.0,13.0,14.0,13.0,13.0,9.0,4.0,6.0,9.0,8.0,4.0,9.0,9.0,5.0,6.0,13.0,20.0,5.0,4.0,14.0,14.0,14.0,13.0,14.0,16.0,20.0,16.0,4.0,9.0,6.0,6.0,5.0,11.0,18.0,9.0,4.0,14.0,9.0,13.0,5.0,24.0,2.0,12.0,5.0,14.0,11.0,7.0,8.0,6.0,24.0,20.0,6.0,13.0,11.0,22.0,3.0,14.0,16.0,14.0,7.0,11.0,4.0,4.0,4.0,16.0,4.0,4.0,18.0,4.0,9.0,12.0,20.0,13.0,4.0,22.0,3.0,9.0,12.0,7.0,40.0,8.0,16.0,13.0,24.0,20.0,20.0,13.0,22.0,18.0,24.0,18.0,16.0,16.0,4.0,9.0,8.0,6.0,4.0,7.0,3.0,7.0,6.0,9.0,8.0,4.0,16.0,9.0,11.0,12.0,16.0,9.0,9.0,22.0,14.0,18.0,24.0,2.0,5.0,13.0,16.0],\"sizemode\":\"area\",\"sizeref\":0.4525,\"symbol\":\"circle\"},\"mode\":\"markers\",\"name\":\"\",\"showlegend\":false,\"type\":\"scattergeo\"}],                        {\"template\":{\"data\":{\"histogram2dcontour\":[{\"type\":\"histogram2dcontour\",\"colorbar\":{\"outlinewidth\":0,\"ticks\":\"\"},\"colorscale\":[[0.0,\"#0d0887\"],[0.1111111111111111,\"#46039f\"],[0.2222222222222222,\"#7201a8\"],[0.3333333333333333,\"#9c179e\"],[0.4444444444444444,\"#bd3786\"],[0.5555555555555556,\"#d8576b\"],[0.6666666666666666,\"#ed7953\"],[0.7777777777777778,\"#fb9f3a\"],[0.8888888888888888,\"#fdca26\"],[1.0,\"#f0f921\"]]}],\"choropleth\":[{\"type\":\"choropleth\",\"colorbar\":{\"outlinewidth\":0,\"ticks\":\"\"}}],\"histogram2d\":[{\"type\":\"histogram2d\",\"colorbar\":{\"outlinewidth\":0,\"ticks\":\"\"},\"colorscale\":[[0.0,\"#0d0887\"],[0.1111111111111111,\"#46039f\"],[0.2222222222222222,\"#7201a8\"],[0.3333333333333333,\"#9c179e\"],[0.4444444444444444,\"#bd3786\"],[0.5555555555555556,\"#d8576b\"],[0.6666666666666666,\"#ed7953\"],[0.7777777777777778,\"#fb9f3a\"],[0.8888888888888888,\"#fdca26\"],[1.0,\"#f0f921\"]]}],\"heatmap\":[{\"type\":\"heatmap\",\"colorbar\":{\"outlinewidth\":0,\"ticks\":\"\"},\"colorscale\":[[0.0,\"#0d0887\"],[0.1111111111111111,\"#46039f\"],[0.2222222222222222,\"#7201a8\"],[0.3333333333333333,\"#9c179e\"],[0.4444444444444444,\"#bd3786\"],[0.5555555555555556,\"#d8576b\"],[0.6666666666666666,\"#ed7953\"],[0.7777777777777778,\"#fb9f3a\"],[0.8888888888888888,\"#fdca26\"],[1.0,\"#f0f921\"]]}],\"heatmapgl\":[{\"type\":\"heatmapgl\",\"colorbar\":{\"outlinewidth\":0,\"ticks\":\"\"},\"colorscale\":[[0.0,\"#0d0887\"],[0.1111111111111111,\"#46039f\"],[0.2222222222222222,\"#7201a8\"],[0.3333333333333333,\"#9c179e\"],[0.4444444444444444,\"#bd3786\"],[0.5555555555555556,\"#d8576b\"],[0.6666666666666666,\"#ed7953\"],[0.7777777777777778,\"#fb9f3a\"],[0.8888888888888888,\"#fdca26\"],[1.0,\"#f0f921\"]]}],\"contourcarpet\":[{\"type\":\"contourcarpet\",\"colorbar\":{\"outlinewidth\":0,\"ticks\":\"\"}}],\"contour\":[{\"type\":\"contour\",\"colorbar\":{\"outlinewidth\":0,\"ticks\":\"\"},\"colorscale\":[[0.0,\"#0d0887\"],[0.1111111111111111,\"#46039f\"],[0.2222222222222222,\"#7201a8\"],[0.3333333333333333,\"#9c179e\"],[0.4444444444444444,\"#bd3786\"],[0.5555555555555556,\"#d8576b\"],[0.6666666666666666,\"#ed7953\"],[0.7777777777777778,\"#fb9f3a\"],[0.8888888888888888,\"#fdca26\"],[1.0,\"#f0f921\"]]}],\"surface\":[{\"type\":\"surface\",\"colorbar\":{\"outlinewidth\":0,\"ticks\":\"\"},\"colorscale\":[[0.0,\"#0d0887\"],[0.1111111111111111,\"#46039f\"],[0.2222222222222222,\"#7201a8\"],[0.3333333333333333,\"#9c179e\"],[0.4444444444444444,\"#bd3786\"],[0.5555555555555556,\"#d8576b\"],[0.6666666666666666,\"#ed7953\"],[0.7777777777777778,\"#fb9f3a\"],[0.8888888888888888,\"#fdca26\"],[1.0,\"#f0f921\"]]}],\"mesh3d\":[{\"type\":\"mesh3d\",\"colorbar\":{\"outlinewidth\":0,\"ticks\":\"\"}}],\"scatter\":[{\"fillpattern\":{\"fillmode\":\"overlay\",\"size\":10,\"solidity\":0.2},\"type\":\"scatter\"}],\"parcoords\":[{\"type\":\"parcoords\",\"line\":{\"colorbar\":{\"outlinewidth\":0,\"ticks\":\"\"}}}],\"scatterpolargl\":[{\"type\":\"scatterpolargl\",\"marker\":{\"colorbar\":{\"outlinewidth\":0,\"ticks\":\"\"}}}],\"bar\":[{\"error_x\":{\"color\":\"#2a3f5f\"},\"error_y\":{\"color\":\"#2a3f5f\"},\"marker\":{\"line\":{\"color\":\"#E5ECF6\",\"width\":0.5},\"pattern\":{\"fillmode\":\"overlay\",\"size\":10,\"solidity\":0.2}},\"type\":\"bar\"}],\"scattergeo\":[{\"type\":\"scattergeo\",\"marker\":{\"colorbar\":{\"outlinewidth\":0,\"ticks\":\"\"}}}],\"scatterpolar\":[{\"type\":\"scatterpolar\",\"marker\":{\"colorbar\":{\"outlinewidth\":0,\"ticks\":\"\"}}}],\"histogram\":[{\"marker\":{\"pattern\":{\"fillmode\":\"overlay\",\"size\":10,\"solidity\":0.2}},\"type\":\"histogram\"}],\"scattergl\":[{\"type\":\"scattergl\",\"marker\":{\"colorbar\":{\"outlinewidth\":0,\"ticks\":\"\"}}}],\"scatter3d\":[{\"type\":\"scatter3d\",\"line\":{\"colorbar\":{\"outlinewidth\":0,\"ticks\":\"\"}},\"marker\":{\"colorbar\":{\"outlinewidth\":0,\"ticks\":\"\"}}}],\"scattermapbox\":[{\"type\":\"scattermapbox\",\"marker\":{\"colorbar\":{\"outlinewidth\":0,\"ticks\":\"\"}}}],\"scatterternary\":[{\"type\":\"scatterternary\",\"marker\":{\"colorbar\":{\"outlinewidth\":0,\"ticks\":\"\"}}}],\"scattercarpet\":[{\"type\":\"scattercarpet\",\"marker\":{\"colorbar\":{\"outlinewidth\":0,\"ticks\":\"\"}}}],\"carpet\":[{\"aaxis\":{\"endlinecolor\":\"#2a3f5f\",\"gridcolor\":\"white\",\"linecolor\":\"white\",\"minorgridcolor\":\"white\",\"startlinecolor\":\"#2a3f5f\"},\"baxis\":{\"endlinecolor\":\"#2a3f5f\",\"gridcolor\":\"white\",\"linecolor\":\"white\",\"minorgridcolor\":\"white\",\"startlinecolor\":\"#2a3f5f\"},\"type\":\"carpet\"}],\"table\":[{\"cells\":{\"fill\":{\"color\":\"#EBF0F8\"},\"line\":{\"color\":\"white\"}},\"header\":{\"fill\":{\"color\":\"#C8D4E3\"},\"line\":{\"color\":\"white\"}},\"type\":\"table\"}],\"barpolar\":[{\"marker\":{\"line\":{\"color\":\"#E5ECF6\",\"width\":0.5},\"pattern\":{\"fillmode\":\"overlay\",\"size\":10,\"solidity\":0.2}},\"type\":\"barpolar\"}],\"pie\":[{\"automargin\":true,\"type\":\"pie\"}]},\"layout\":{\"autotypenumbers\":\"strict\",\"colorway\":[\"#636efa\",\"#EF553B\",\"#00cc96\",\"#ab63fa\",\"#FFA15A\",\"#19d3f3\",\"#FF6692\",\"#B6E880\",\"#FF97FF\",\"#FECB52\"],\"font\":{\"color\":\"#2a3f5f\"},\"hovermode\":\"closest\",\"hoverlabel\":{\"align\":\"left\"},\"paper_bgcolor\":\"white\",\"plot_bgcolor\":\"#E5ECF6\",\"polar\":{\"bgcolor\":\"#E5ECF6\",\"angularaxis\":{\"gridcolor\":\"white\",\"linecolor\":\"white\",\"ticks\":\"\"},\"radialaxis\":{\"gridcolor\":\"white\",\"linecolor\":\"white\",\"ticks\":\"\"}},\"ternary\":{\"bgcolor\":\"#E5ECF6\",\"aaxis\":{\"gridcolor\":\"white\",\"linecolor\":\"white\",\"ticks\":\"\"},\"baxis\":{\"gridcolor\":\"white\",\"linecolor\":\"white\",\"ticks\":\"\"},\"caxis\":{\"gridcolor\":\"white\",\"linecolor\":\"white\",\"ticks\":\"\"}},\"coloraxis\":{\"colorbar\":{\"outlinewidth\":0,\"ticks\":\"\"}},\"colorscale\":{\"sequential\":[[0.0,\"#0d0887\"],[0.1111111111111111,\"#46039f\"],[0.2222222222222222,\"#7201a8\"],[0.3333333333333333,\"#9c179e\"],[0.4444444444444444,\"#bd3786\"],[0.5555555555555556,\"#d8576b\"],[0.6666666666666666,\"#ed7953\"],[0.7777777777777778,\"#fb9f3a\"],[0.8888888888888888,\"#fdca26\"],[1.0,\"#f0f921\"]],\"sequentialminus\":[[0.0,\"#0d0887\"],[0.1111111111111111,\"#46039f\"],[0.2222222222222222,\"#7201a8\"],[0.3333333333333333,\"#9c179e\"],[0.4444444444444444,\"#bd3786\"],[0.5555555555555556,\"#d8576b\"],[0.6666666666666666,\"#ed7953\"],[0.7777777777777778,\"#fb9f3a\"],[0.8888888888888888,\"#fdca26\"],[1.0,\"#f0f921\"]],\"diverging\":[[0,\"#8e0152\"],[0.1,\"#c51b7d\"],[0.2,\"#de77ae\"],[0.3,\"#f1b6da\"],[0.4,\"#fde0ef\"],[0.5,\"#f7f7f7\"],[0.6,\"#e6f5d0\"],[0.7,\"#b8e186\"],[0.8,\"#7fbc41\"],[0.9,\"#4d9221\"],[1,\"#276419\"]]},\"xaxis\":{\"gridcolor\":\"white\",\"linecolor\":\"white\",\"ticks\":\"\",\"title\":{\"standoff\":15},\"zerolinecolor\":\"white\",\"automargin\":true,\"zerolinewidth\":2},\"yaxis\":{\"gridcolor\":\"white\",\"linecolor\":\"white\",\"ticks\":\"\",\"title\":{\"standoff\":15},\"zerolinecolor\":\"white\",\"automargin\":true,\"zerolinewidth\":2},\"scene\":{\"xaxis\":{\"backgroundcolor\":\"#E5ECF6\",\"gridcolor\":\"white\",\"linecolor\":\"white\",\"showbackground\":true,\"ticks\":\"\",\"zerolinecolor\":\"white\",\"gridwidth\":2},\"yaxis\":{\"backgroundcolor\":\"#E5ECF6\",\"gridcolor\":\"white\",\"linecolor\":\"white\",\"showbackground\":true,\"ticks\":\"\",\"zerolinecolor\":\"white\",\"gridwidth\":2},\"zaxis\":{\"backgroundcolor\":\"#E5ECF6\",\"gridcolor\":\"white\",\"linecolor\":\"white\",\"showbackground\":true,\"ticks\":\"\",\"zerolinecolor\":\"white\",\"gridwidth\":2}},\"shapedefaults\":{\"line\":{\"color\":\"#2a3f5f\"}},\"annotationdefaults\":{\"arrowcolor\":\"#2a3f5f\",\"arrowhead\":0,\"arrowwidth\":1},\"geo\":{\"bgcolor\":\"white\",\"landcolor\":\"#E5ECF6\",\"subunitcolor\":\"white\",\"showland\":true,\"showlakes\":true,\"lakecolor\":\"white\"},\"title\":{\"x\":0.05},\"mapbox\":{\"style\":\"light\"}}},\"geo\":{\"domain\":{\"x\":[0.0,1.0],\"y\":[0.0,1.0]},\"center\":{\"lat\":63,\"lon\":-175},\"scope\":\"north america\",\"projection\":{\"scale\":3},\"resolution\":110,\"showcountries\":true},\"coloraxis\":{\"colorbar\":{\"title\":{\"text\":\"magnitudes\"}},\"colorscale\":[[0.0,\"#0d0887\"],[0.1111111111111111,\"#46039f\"],[0.2222222222222222,\"#7201a8\"],[0.3333333333333333,\"#9c179e\"],[0.4444444444444444,\"#bd3786\"],[0.5555555555555556,\"#d8576b\"],[0.6666666666666666,\"#ed7953\"],[0.7777777777777778,\"#fb9f3a\"],[0.8888888888888888,\"#fdca26\"],[1.0,\"#f0f921\"]],\"cmin\":0.4,\"cmax\":5.2},\"legend\":{\"tracegroupgap\":0,\"itemsizing\":\"constant\"},\"margin\":{\"t\":60},\"height\":600,\"width\":1000},                        {\"responsive\": true}                    ).then(function(){\n",
       "                            \n",
       "var gd = document.getElementById('e90b5b4d-38c5-4cfb-9245-00e914c1cab7');\n",
       "var x = new MutationObserver(function (mutations, observer) {{\n",
       "        var display = window.getComputedStyle(gd).display;\n",
       "        if (!display || display === 'none') {{\n",
       "            console.log([gd, 'removed!']);\n",
       "            Plotly.purge(gd);\n",
       "            observer.disconnect();\n",
       "        }}\n",
       "}});\n",
       "\n",
       "// Listen for the removal of the full notebook cells\n",
       "var notebookContainer = gd.closest('#notebook-container');\n",
       "if (notebookContainer) {{\n",
       "    x.observe(notebookContainer, {childList: true});\n",
       "}}\n",
       "\n",
       "// Listen for the clearing of the current output cell\n",
       "var outputEl = gd.closest('.output');\n",
       "if (outputEl) {{\n",
       "    x.observe(outputEl, {childList: true});\n",
       "}}\n",
       "\n",
       "                        })                };                });            </script>        </div>"
      ]
     },
     "metadata": {},
     "output_type": "display_data"
    }
   ],
   "source": [
    "#Location of earthquakes\n",
    "fig = px.scatter_geo(df,\n",
    "                     lat='epi_lats',lon='epi_longs', \n",
    "                     size='marker_size', color='magnitudes',\n",
    "                     hover_name='location', \n",
    "                     hover_data=['magnitudes','depths'],\n",
    "                     scope='north america',\n",
    "                     range_color=(min(df['magnitudes']),max(df['magnitudes'])),\n",
    "                     height=600, width=1000,\n",
    "                     #animation_frame=\"year\"\n",
    "                    );\n",
    "\n",
    "# focus point\n",
    "# lat_foc = 55\n",
    "# lon_foc = -165\n",
    "lat_foc = 63\n",
    "lon_foc = -175\n",
    "fig.update_layout(\n",
    "        geo = dict(\n",
    "            projection_scale=3, #this is kind of like zoom\n",
    "            center=dict(lat=lat_foc, lon=lon_foc), # this will center on the point\n",
    "        ))\n",
    "\n",
    "fig.update_geos(resolution=110, showcountries=True)"
   ]
  },
  {
   "cell_type": "code",
   "execution_count": 37,
   "id": "3222491f-ab89-481a-a4b2-5a4755b8b713",
   "metadata": {},
   "outputs": [
    {
     "data": {
      "text/html": [
       "<div>\n",
       "<style scoped>\n",
       "    .dataframe tbody tr th:only-of-type {\n",
       "        vertical-align: middle;\n",
       "    }\n",
       "\n",
       "    .dataframe tbody tr th {\n",
       "        vertical-align: top;\n",
       "    }\n",
       "\n",
       "    .dataframe thead th {\n",
       "        text-align: right;\n",
       "    }\n",
       "</style>\n",
       "<table border=\"1\" class=\"dataframe\">\n",
       "  <thead>\n",
       "    <tr style=\"text-align: right;\">\n",
       "      <th></th>\n",
       "      <th>phase</th>\n",
       "      <th>azimuth</th>\n",
       "      <th>distance</th>\n",
       "      <th>pick_id</th>\n",
       "      <th>time</th>\n",
       "      <th>channel_code</th>\n",
       "      <th>travel_time</th>\n",
       "      <th>velocity</th>\n",
       "      <th>longitude</th>\n",
       "      <th>latitude</th>\n",
       "      <th>elevation(m)</th>\n",
       "      <th>network</th>\n",
       "      <th>station</th>\n",
       "    </tr>\n",
       "  </thead>\n",
       "  <tbody>\n",
       "    <tr>\n",
       "      <th>0</th>\n",
       "      <td>P</td>\n",
       "      <td>189.16</td>\n",
       "      <td>12.321</td>\n",
       "      <td>quakeml:earthquake.alaska.edu/pick/20955</td>\n",
       "      <td>2019-01-22T04:43:35.308000Z</td>\n",
       "      <td>BHZ</td>\n",
       "      <td>15.873</td>\n",
       "      <td>0.776224</td>\n",
       "      <td>-155.3281</td>\n",
       "      <td>58.2100</td>\n",
       "      <td>960.0</td>\n",
       "      <td>AV</td>\n",
       "      <td>ACH</td>\n",
       "    </tr>\n",
       "    <tr>\n",
       "      <th>1</th>\n",
       "      <td>S</td>\n",
       "      <td>189.16</td>\n",
       "      <td>12.321</td>\n",
       "      <td>quakeml:earthquake.alaska.edu/pick/21013</td>\n",
       "      <td>2019-01-22T04:43:49.435000Z</td>\n",
       "      <td>BHN</td>\n",
       "      <td>30.0</td>\n",
       "      <td>0.4107</td>\n",
       "      <td>-155.3281</td>\n",
       "      <td>58.2100</td>\n",
       "      <td>960.0</td>\n",
       "      <td>AV</td>\n",
       "      <td>ACH</td>\n",
       "    </tr>\n",
       "    <tr>\n",
       "      <th>2</th>\n",
       "      <td>P</td>\n",
       "      <td>358.73</td>\n",
       "      <td>6.771</td>\n",
       "      <td>quakeml:earthquake.alaska.edu/pick/20956</td>\n",
       "      <td>2019-01-22T04:43:35.420000Z</td>\n",
       "      <td>EHZ</td>\n",
       "      <td>15.985</td>\n",
       "      <td>0.423585</td>\n",
       "      <td>-155.2971</td>\n",
       "      <td>58.3810</td>\n",
       "      <td>457.0</td>\n",
       "      <td>AV</td>\n",
       "      <td>KVT</td>\n",
       "    </tr>\n",
       "    <tr>\n",
       "      <th>3</th>\n",
       "      <td>P</td>\n",
       "      <td>302.75</td>\n",
       "      <td>9.990</td>\n",
       "      <td>quakeml:earthquake.alaska.edu/pick/20957</td>\n",
       "      <td>2019-01-22T04:43:35.434000Z</td>\n",
       "      <td>HHZ</td>\n",
       "      <td>15.999</td>\n",
       "      <td>0.624414</td>\n",
       "      <td>-155.4394</td>\n",
       "      <td>58.3686</td>\n",
       "      <td>322.0</td>\n",
       "      <td>XO</td>\n",
       "      <td>ET19</td>\n",
       "    </tr>\n",
       "    <tr>\n",
       "      <th>4</th>\n",
       "      <td>S</td>\n",
       "      <td>302.75</td>\n",
       "      <td>9.990</td>\n",
       "      <td>quakeml:earthquake.alaska.edu/pick/21012</td>\n",
       "      <td>2019-01-22T04:43:49.353000Z</td>\n",
       "      <td>HHE</td>\n",
       "      <td>29.918</td>\n",
       "      <td>0.333913</td>\n",
       "      <td>-155.4394</td>\n",
       "      <td>58.3686</td>\n",
       "      <td>322.0</td>\n",
       "      <td>XO</td>\n",
       "      <td>ET19</td>\n",
       "    </tr>\n",
       "    <tr>\n",
       "      <th>...</th>\n",
       "      <td>...</td>\n",
       "      <td>...</td>\n",
       "      <td>...</td>\n",
       "      <td>...</td>\n",
       "      <td>...</td>\n",
       "      <td>...</td>\n",
       "      <td>...</td>\n",
       "      <td>...</td>\n",
       "      <td>...</td>\n",
       "      <td>...</td>\n",
       "      <td>...</td>\n",
       "      <td>...</td>\n",
       "      <td>...</td>\n",
       "    </tr>\n",
       "    <tr>\n",
       "      <th>571</th>\n",
       "      <td>P</td>\n",
       "      <td>241.98</td>\n",
       "      <td>1091.019</td>\n",
       "      <td>quakeml:earthquake.alaska.edu/pick/21401</td>\n",
       "      <td>2019-01-22T04:45:37.162000Z</td>\n",
       "      <td>BHZ</td>\n",
       "      <td>137.727</td>\n",
       "      <td>7.921606</td>\n",
       "      <td>-169.7229</td>\n",
       "      <td>52.7866</td>\n",
       "      <td>137.0</td>\n",
       "      <td>AV</td>\n",
       "      <td>CLCO</td>\n",
       "    </tr>\n",
       "    <tr>\n",
       "      <th>572</th>\n",
       "      <td>P</td>\n",
       "      <td>75.32</td>\n",
       "      <td>1089.243</td>\n",
       "      <td>quakeml:earthquake.alaska.edu/pick/21402</td>\n",
       "      <td>2019-01-22T04:45:37.459000Z</td>\n",
       "      <td>HHZ</td>\n",
       "      <td>138.024</td>\n",
       "      <td>7.891693</td>\n",
       "      <td>-136.3659</td>\n",
       "      <td>59.4550</td>\n",
       "      <td>285.0</td>\n",
       "      <td>CN</td>\n",
       "      <td>PLBC</td>\n",
       "    </tr>\n",
       "    <tr>\n",
       "      <th>573</th>\n",
       "      <td>P</td>\n",
       "      <td>75.32</td>\n",
       "      <td>1089.243</td>\n",
       "      <td>quakeml:earthquake.alaska.edu/pick/21402</td>\n",
       "      <td>2019-01-22T04:45:37.459000Z</td>\n",
       "      <td>HHZ</td>\n",
       "      <td>138.024</td>\n",
       "      <td>7.891693</td>\n",
       "      <td>-136.3659</td>\n",
       "      <td>59.4550</td>\n",
       "      <td>285.0</td>\n",
       "      <td>CN</td>\n",
       "      <td>PLBC</td>\n",
       "    </tr>\n",
       "    <tr>\n",
       "      <th>574</th>\n",
       "      <td>P</td>\n",
       "      <td>67.70</td>\n",
       "      <td>1109.778</td>\n",
       "      <td>quakeml:earthquake.alaska.edu/pick/21404</td>\n",
       "      <td>2019-01-22T04:45:39.081000Z</td>\n",
       "      <td>BHZ</td>\n",
       "      <td>139.646</td>\n",
       "      <td>7.94708</td>\n",
       "      <td>-136.0906</td>\n",
       "      <td>60.7704</td>\n",
       "      <td>821.0</td>\n",
       "      <td>TA</td>\n",
       "      <td>O30N</td>\n",
       "    </tr>\n",
       "    <tr>\n",
       "      <th>575</th>\n",
       "      <td>P</td>\n",
       "      <td>342.78</td>\n",
       "      <td>1110.555</td>\n",
       "      <td>quakeml:earthquake.alaska.edu/pick/21405</td>\n",
       "      <td>2019-01-22T04:45:39.115000Z</td>\n",
       "      <td>BHZ</td>\n",
       "      <td>139.68</td>\n",
       "      <td>7.950709</td>\n",
       "      <td>-163.0831</td>\n",
       "      <td>67.6988</td>\n",
       "      <td>172.0</td>\n",
       "      <td>TA</td>\n",
       "      <td>D17K</td>\n",
       "    </tr>\n",
       "  </tbody>\n",
       "</table>\n",
       "<p>576 rows × 13 columns</p>\n",
       "</div>"
      ],
      "text/plain": [
       "    phase  azimuth  distance                                   pick_id  \\\n",
       "0       P   189.16    12.321  quakeml:earthquake.alaska.edu/pick/20955   \n",
       "1       S   189.16    12.321  quakeml:earthquake.alaska.edu/pick/21013   \n",
       "2       P   358.73     6.771  quakeml:earthquake.alaska.edu/pick/20956   \n",
       "3       P   302.75     9.990  quakeml:earthquake.alaska.edu/pick/20957   \n",
       "4       S   302.75     9.990  quakeml:earthquake.alaska.edu/pick/21012   \n",
       "..    ...      ...       ...                                       ...   \n",
       "571     P   241.98  1091.019  quakeml:earthquake.alaska.edu/pick/21401   \n",
       "572     P    75.32  1089.243  quakeml:earthquake.alaska.edu/pick/21402   \n",
       "573     P    75.32  1089.243  quakeml:earthquake.alaska.edu/pick/21402   \n",
       "574     P    67.70  1109.778  quakeml:earthquake.alaska.edu/pick/21404   \n",
       "575     P   342.78  1110.555  quakeml:earthquake.alaska.edu/pick/21405   \n",
       "\n",
       "                            time channel_code travel_time  velocity  \\\n",
       "0    2019-01-22T04:43:35.308000Z          BHZ      15.873  0.776224   \n",
       "1    2019-01-22T04:43:49.435000Z          BHN        30.0    0.4107   \n",
       "2    2019-01-22T04:43:35.420000Z          EHZ      15.985  0.423585   \n",
       "3    2019-01-22T04:43:35.434000Z          HHZ      15.999  0.624414   \n",
       "4    2019-01-22T04:43:49.353000Z          HHE      29.918  0.333913   \n",
       "..                           ...          ...         ...       ...   \n",
       "571  2019-01-22T04:45:37.162000Z          BHZ     137.727  7.921606   \n",
       "572  2019-01-22T04:45:37.459000Z          HHZ     138.024  7.891693   \n",
       "573  2019-01-22T04:45:37.459000Z          HHZ     138.024  7.891693   \n",
       "574  2019-01-22T04:45:39.081000Z          BHZ     139.646   7.94708   \n",
       "575  2019-01-22T04:45:39.115000Z          BHZ      139.68  7.950709   \n",
       "\n",
       "     longitude  latitude  elevation(m) network station  \n",
       "0    -155.3281   58.2100         960.0      AV     ACH  \n",
       "1    -155.3281   58.2100         960.0      AV     ACH  \n",
       "2    -155.2971   58.3810         457.0      AV     KVT  \n",
       "3    -155.4394   58.3686         322.0      XO    ET19  \n",
       "4    -155.4394   58.3686         322.0      XO    ET19  \n",
       "..         ...       ...           ...     ...     ...  \n",
       "571  -169.7229   52.7866         137.0      AV    CLCO  \n",
       "572  -136.3659   59.4550         285.0      CN    PLBC  \n",
       "573  -136.3659   59.4550         285.0      CN    PLBC  \n",
       "574  -136.0906   60.7704         821.0      TA    O30N  \n",
       "575  -163.0831   67.6988         172.0      TA    D17K  \n",
       "\n",
       "[576 rows x 13 columns]"
      ]
     },
     "execution_count": 37,
     "metadata": {},
     "output_type": "execute_result"
    }
   ],
   "source": [
    "event = cat[170] #biggest and most documented quake\n",
    "log = quakeML_Reader(event) #be patient, this should take like 10s\n",
    "log"
   ]
  },
  {
   "cell_type": "code",
   "execution_count": 39,
   "id": "ed85e9df-6070-4a0e-9030-679a99719f26",
   "metadata": {},
   "outputs": [
    {
     "data": {
      "application/vnd.plotly.v1+json": {
       "config": {
        "plotlyServerURL": "https://plot.ly"
       },
       "data": [
        {
         "customdata": [
          [
           12.321,
           0.7762237762237763,
           15.873
          ],
          [
           12.321,
           0.4107,
           30
          ],
          [
           6.771,
           0.42358461057241165,
           15.985
          ],
          [
           9.99,
           0.6244140258766173,
           15.999
          ],
          [
           9.99,
           0.33391269469884355,
           29.918
          ],
          [
           17.871000000000002,
           1.1036250231581548,
           16.193
          ],
          [
           17.871000000000002,
           0.600060439191458,
           29.782
          ],
          [
           29.526000000000003,
           1.8133022170361728,
           16.283
          ],
          [
           29.304000000000002,
           1.795038284839204,
           16.325
          ],
          [
           10.656,
           0.6515438703760318,
           16.355
          ],
          [
           28.305,
           1.72644098810613,
           16.395
          ],
          [
           28.305,
           0.9223775540131,
           30.687
          ],
          [
           35.076,
           2.123887375113533,
           16.515
          ],
          [
           35.076,
           1.1451144265613267,
           30.631
          ],
          [
           38.073,
           2.301178603807797,
           16.545
          ],
          [
           38.073,
           1.2307418781315662,
           30.935
          ],
          [
           33.855,
           2.0265174188914163,
           16.706
          ],
          [
           40.071,
           2.3930128396536277,
           16.745
          ],
          [
           39.516,
           2.3473921824878223,
           16.834
          ],
          [
           47.507999999999996,
           2.751694178974804,
           17.265
          ],
          [
           47.507999999999996,
           2.751694178974804,
           17.265
          ],
          [
           47.507999999999996,
           1.4686987974155252,
           32.347
          ],
          [
           47.507999999999996,
           1.4686987974155252,
           32.347
          ],
          [
           54.723,
           3.135090232025208,
           17.455
          ],
          [
           54.723,
           1.6687911685777017,
           32.792
          ],
          [
           64.935,
           3.640874684608915,
           17.835
          ],
          [
           64.935,
           1.9683834005274488,
           32.989
          ],
          [
           72.816,
           3.958466974721392,
           18.395
          ],
          [
           72.816,
           2.1343651072810412,
           34.116
          ],
          [
           88.35600000000001,
           4.510260336906586,
           19.59
          ],
          [
           88.35600000000001,
           4.510260336906586,
           19.59
          ],
          [
           88.35600000000001,
           2.437743136984412,
           36.245
          ],
          [
           88.35600000000001,
           2.437743136984412,
           36.245
          ],
          [
           97.236,
           4.912894098625707,
           19.792
          ],
          [
           97.236,
           4.912894098625707,
           19.792
          ],
          [
           97.236,
           2.6307729769216204,
           36.961
          ],
          [
           97.236,
           2.6307729769216204,
           36.961
          ],
          [
           96.348,
           4.797012696041822,
           20.085
          ],
          [
           96.348,
           2.613323207117283,
           36.868
          ],
          [
           106.116,
           5.132575574365175,
           20.675
          ],
          [
           106.116,
           2.7619989588755853,
           38.42
          ],
          [
           119.103,
           5.47851885924563,
           21.74
          ],
          [
           119.103,
           5.47851885924563,
           21.74
          ],
          [
           119.103,
           3.009703585778182,
           39.573
          ],
          [
           119.103,
           3.009703585778182,
           39.573
          ],
          [
           113.109,
           5.171879286694101,
           21.87
          ],
          [
           116.328,
           5.308145106091718,
           21.915
          ],
          [
           116.328,
           2.868896123113347,
           40.548
          ],
          [
           121.212,
           5.490917327293318,
           22.075
          ],
          [
           121.212,
           2.901474530831099,
           41.776
          ],
          [
           117.438,
           5.3141771120865195,
           22.099
          ],
          [
           116.883,
           5.267372690401081,
           22.19
          ],
          [
           116.883,
           2.855819976544175,
           40.928
          ],
          [
           116.994,
           5.212707182320442,
           22.444
          ],
          [
           116.994,
           2.964274855579203,
           39.468
          ],
          [
           122.211,
           5.333231507746018,
           22.915
          ],
          [
           125.874,
           5.426773011424876,
           23.195
          ],
          [
           125.874,
           3.012420725140601,
           41.785
          ],
          [
           130.75799999999998,
           5.581985058697971,
           23.425
          ],
          [
           130.75799999999998,
           3.0483273108753925,
           42.895
          ],
          [
           139.638,
           5.807361197754211,
           24.045
          ],
          [
           139.638,
           3.1415329928682314,
           44.449
          ],
          [
           155.39999999999998,
           5.9988419224088005,
           25.905
          ],
          [
           155.39999999999998,
           3.33791562849042,
           46.556
          ],
          [
           158.175,
           6.068482639554959,
           26.065
          ],
          [
           158.175,
           3.347264839699503,
           47.255
          ],
          [
           162.83700000000002,
           6.225845918562417,
           26.155
          ],
          [
           162.83700000000002,
           3.495331315603065,
           46.587
          ],
          [
           156.177,
           5.959816828849457,
           26.205
          ],
          [
           156.177,
           3.338042618676128,
           46.787
          ],
          [
           157.065,
           5.961852343898273,
           26.345
          ],
          [
           157.065,
           3.333368704768777,
           47.119
          ],
          [
           156.51,
           5.940334762971116,
           26.347
          ],
          [
           157.398,
           5.969507338718853,
           26.367
          ],
          [
           166.278,
           6.304379146919431,
           26.375
          ],
          [
           166.278,
           6.304379146919431,
           26.375
          ],
          [
           166.278,
           3.476800836382645,
           47.825
          ],
          [
           166.278,
           3.476800836382645,
           47.825
          ],
          [
           157.176,
           5.938340637751247,
           26.468
          ],
          [
           158.952,
           5.997962341043734,
           26.501
          ],
          [
           158.952,
           5.997962341043734,
           26.501
          ],
          [
           158.952,
           3.354408475077027,
           47.386
          ],
          [
           158.952,
           3.354408475077027,
           47.386
          ],
          [
           160.284,
           6.029567768874845,
           26.583
          ],
          [
           161.172,
           6.044327770485656,
           26.665
          ],
          [
           161.172,
           3.3770271969157273,
           47.726
          ],
          [
           170.16299999999998,
           6.3576685970483835,
           26.765
          ],
          [
           170.385,
           6.360022396416573,
           26.79
          ],
          [
           170.385,
           3.495363722151561,
           48.746
          ],
          [
           171.38400000000001,
           6.280562884784521,
           27.288
          ],
          [
           171.38400000000001,
           3.5483229813664603,
           48.3
          ],
          [
           174.49200000000002,
           6.290266762797406,
           27.74
          ],
          [
           184.26,
           6.553796905566424,
           28.115
          ],
          [
           184.26,
           3.650520059435364,
           50.475
          ],
          [
           183.261,
           6.475424896646762,
           28.301
          ],
          [
           183.261,
           3.5855490990197807,
           51.111
          ],
          [
           186.036,
           6.492270109928459,
           28.655
          ],
          [
           186.036,
           6.492270109928459,
           28.655
          ],
          [
           186.036,
           3.5983752417794967,
           51.7
          ],
          [
           186.036,
           3.5983752417794967,
           51.7
          ],
          [
           191.25300000000001,
           6.631518723994453,
           28.84
          ],
          [
           196.47,
           6.697460371569797,
           29.335
          ],
          [
           196.47,
           6.697460371569797,
           29.335
          ],
          [
           196.47,
           3.7469247639935155,
           52.435
          ],
          [
           196.47,
           3.7469247639935155,
           52.435
          ],
          [
           189.144,
           6.416228501645239,
           29.479
          ],
          [
           189.144,
           6.408402507199729,
           29.515
          ],
          [
           189.144,
           6.408402507199729,
           29.515
          ],
          [
           189.144,
           3.588389299943085,
           52.71
          ],
          [
           189.144,
           3.588389299943085,
           52.71
          ],
          [
           189.477,
           6.244092931290163,
           30.345
          ],
          [
           189.477,
           6.244092931290163,
           30.345
          ],
          [
           189.477,
           3.5968905425414786,
           52.678
          ],
          [
           189.477,
           3.5968905425414786,
           52.678
          ],
          [
           206.349,
           6.6881340550351664,
           30.853
          ],
          [
           213.675,
           6.816659222867352,
           31.346
          ],
          [
           213.675,
           3.7697817610839617,
           56.681
          ],
          [
           215.34,
           6.811323738731615,
           31.615
          ],
          [
           215.34,
           6.811323738731615,
           31.615
          ],
          [
           215.34,
           3.755886559458611,
           57.334
          ],
          [
           215.34,
           3.755886559458611,
           57.334
          ],
          [
           221.556,
           6.7851652221847925,
           32.653
          ],
          [
           221.556,
           3.7883181724916217,
           58.484
          ],
          [
           221.44500000000002,
           6.7462300076161466,
           32.825
          ],
          [
           226.88400000000001,
           6.790697674418605,
           33.411
          ],
          [
           228.549,
           6.809146432295546,
           33.565
          ],
          [
           228.549,
           6.809146432295546,
           33.565
          ],
          [
           228.549,
           3.818569137205106,
           59.852
          ],
          [
           228.549,
           3.818569137205106,
           59.852
          ],
          [
           229.659,
           6.6500361951643265,
           34.535
          ],
          [
           230.76900000000003,
           6.652128794211755,
           34.691
          ],
          [
           235.65300000000002,
           6.784309774003168,
           34.735
          ],
          [
           237.984,
           6.763406940063092,
           35.187
          ],
          [
           237.984,
           6.763406940063092,
           35.187
          ],
          [
           237.984,
           3.8380801857884723,
           62.006
          ],
          [
           237.984,
           3.8380801857884723,
           62.006
          ],
          [
           244.97699999999998,
           6.905623678646934,
           35.475
          ],
          [
           250.30499999999998,
           7.042711234911792,
           35.541
          ],
          [
           250.30499999999998,
           7.042711234911792,
           35.541
          ],
          [
           250.30499999999998,
           3.883527531689758,
           64.453
          ],
          [
           250.30499999999998,
           3.883527531689758,
           64.453
          ],
          [
           247.53,
           6.882524676769081,
           35.965
          ],
          [
           252.969,
           6.78838051791225,
           37.265
          ],
          [
           264.18,
           7.069685292228645,
           37.368
          ],
          [
           264.18,
           4.064432751776978,
           64.998
          ],
          [
           255.74399999999997,
           6.831864080782176,
           37.434
          ],
          [
           267.288,
           7.096078795762869,
           37.667
          ],
          [
           268.176,
           7.036339306798205,
           38.113
          ],
          [
           277.944,
           7.220637518509859,
           38.493
          ],
          [
           273.171,
           7.076052324828391,
           38.605
          ],
          [
           274.503,
           7.106689794438979,
           38.626
          ],
          [
           274.503,
           7.106689794438979,
           38.626
          ],
          [
           274.503,
           3.9837314602501954,
           68.906
          ],
          [
           274.503,
           3.9837314602501954,
           68.906
          ],
          [
           277.611,
           7.131213234349713,
           38.929
          ],
          [
           277.611,
           7.1136707238949395,
           39.025
          ],
          [
           282.71700000000004,
           7.183215610549318,
           39.358
          ],
          [
           282.71700000000004,
           7.183215610549318,
           39.358
          ],
          [
           282.71700000000004,
           4.042394692441878,
           69.938
          ],
          [
           282.71700000000004,
           4.042394692441878,
           69.938
          ],
          [
           283.716,
           7.201096474529811,
           39.399
          ],
          [
           283.716,
           7.201096474529811,
           39.399
          ],
          [
           283.716,
           4.0465534209062515,
           70.113
          ],
          [
           283.716,
           4.0465534209062515,
           70.113
          ],
          [
           280.497,
           7.094006069802732,
           39.54
          ],
          [
           288.48900000000003,
           7.150551493369687,
           40.345
          ],
          [
           291.819,
           7.197410284868664,
           40.545
          ],
          [
           291.819,
           7.172643480398182,
           40.685
          ],
          [
           296.59200000000004,
           7.267630482724823,
           40.81
          ],
          [
           300.588,
           7.3221280327389655,
           41.052
          ],
          [
           300.588,
           7.3221280327389655,
           41.052
          ],
          [
           300.588,
           4.173616028658309,
           72.021
          ],
          [
           300.588,
           4.173616028658309,
           72.021
          ],
          [
           301.03200000000004,
           7.304119959237154,
           41.214
          ],
          [
           301.03200000000004,
           7.304119959237154,
           41.214
          ],
          [
           301.03200000000004,
           4.035606080918037,
           74.594
          ],
          [
           301.03200000000004,
           4.035606080918037,
           74.594
          ],
          [
           308.13599999999997,
           7.459475162196184,
           41.308
          ],
          [
           308.13599999999997,
           7.459475162196184,
           41.308
          ],
          [
           308.13599999999997,
           4.224976690615915,
           72.932
          ],
          [
           308.13599999999997,
           4.224976690615915,
           72.932
          ],
          [
           298.368,
           7.192189948174039,
           41.485
          ],
          [
           309.912,
           7.410971352049357,
           41.818
          ],
          [
           309.912,
           7.410971352049357,
           41.818
          ],
          [
           304.14000000000004,
           7.228864117129752,
           42.073
          ],
          [
           312.687,
           7.336453860772858,
           42.621
          ],
          [
           312.687,
           7.336453860772858,
           42.621
          ],
          [
           309.35699999999997,
           7.229487509055643,
           42.791
          ],
          [
           313.242,
           7.317883424833548,
           42.805
          ],
          [
           313.242,
           7.317883424833548,
           42.805
          ],
          [
           313.242,
           4.126763717805152,
           75.905
          ],
          [
           313.242,
           4.126763717805152,
           75.905
          ],
          [
           323.34299999999996,
           7.393570072942628,
           43.733
          ],
          [
           323.34299999999996,
           7.393570072942628,
           43.733
          ],
          [
           323.34299999999996,
           4.081428373073476,
           79.223
          ],
          [
           323.34299999999996,
           4.081428373073476,
           79.223
          ],
          [
           329.004,
           7.236105307145842,
           45.467
          ],
          [
           341.65799999999996,
           7.452134272689597,
           45.847
          ],
          [
           341.65799999999996,
           7.452134272689597,
           45.847
          ],
          [
           341.65799999999996,
           4.067986712229273,
           83.987
          ],
          [
           341.65799999999996,
           4.067986712229273,
           83.987
          ],
          [
           333.555,
           7.274918211559433,
           45.85
          ],
          [
           363.969,
           7.861441098967558,
           46.298
          ],
          [
           363.969,
           7.861441098967558,
           46.298
          ],
          [
           363.969,
           4.367907546082949,
           83.328
          ],
          [
           363.969,
           4.367907546082949,
           83.328
          ],
          [
           340.88100000000003,
           7.334717590102206,
           46.475
          ],
          [
           334.443,
           7.175964468094236,
           46.606
          ],
          [
           334.443,
           7.175964468094236,
           46.606
          ],
          [
           334.443,
           4.068748631353561,
           82.198
          ],
          [
           334.443,
           4.068748631353561,
           82.198
          ],
          [
           337.773,
           7.211978221415609,
           46.835
          ],
          [
           341.103,
           7.233654967659845,
           47.155
          ],
          [
           340.77,
           7.212368777514392,
           47.248
          ],
          [
           353.757,
           7.425785595835345,
           47.639
          ],
          [
           353.757,
           7.425785595835345,
           47.639
          ],
          [
           353.202,
           7.36113542578467,
           47.982
          ],
          [
           351.648,
           7.307275107536937,
           48.123
          ],
          [
           352.98,
           7.330079950160939,
           48.155
          ],
          [
           358.53,
           7.37989378782265,
           48.582
          ],
          [
           357.753,
           7.350132517001212,
           48.673
          ],
          [
           362.193,
           7.388225934765313,
           49.023
          ],
          [
           363.414,
           7.371331210320277,
           49.301
          ],
          [
           363.19199999999995,
           7.31548734062481,
           49.647
          ],
          [
           364.746,
           7.332314805508092,
           49.745
          ],
          [
           377.06699999999995,
           7.55554442351621,
           49.906
          ],
          [
           377.06699999999995,
           7.55554442351621,
           49.906
          ],
          [
           377.06699999999995,
           4.176778138396268,
           90.277
          ],
          [
           377.06699999999995,
           4.176778138396268,
           90.277
          ],
          [
           382.728,
           7.661301945712227,
           49.956
          ],
          [
           382.728,
           7.661301945712227,
           49.956
          ],
          [
           382.728,
           4.32226588968695,
           88.548
          ],
          [
           382.728,
           4.32226588968695,
           88.548
          ],
          [
           357.86400000000003,
           7.157709462567754,
           49.997
          ],
          [
           375.62399999999997,
           7.492549817485488,
           50.133
          ],
          [
           372.405,
           7.371582968784022,
           50.519
          ],
          [
           372.405,
           7.371582968784022,
           50.519
          ],
          [
           401.26500000000004,
           7.907322744649825,
           50.746
          ],
          [
           401.26500000000004,
           7.907322744649825,
           50.746
          ],
          [
           401.26500000000004,
           4.450044914662142,
           90.171
          ],
          [
           401.26500000000004,
           4.450044914662142,
           90.171
          ],
          [
           376.956,
           7.399273726567867,
           50.945
          ],
          [
           386.28,
           7.527916902149552,
           51.313
          ],
          [
           388.056,
           7.538434640713328,
           51.477
          ],
          [
           388.056,
           7.538434640713328,
           51.477
          ],
          [
           388.056,
           4.262290760511401,
           91.044
          ],
          [
           388.056,
           4.262290760511401,
           91.044
          ],
          [
           388.5,
           7.4523795822063645,
           52.131
          ],
          [
           413.586,
           7.92355882521984,
           52.197
          ],
          [
           413.586,
           7.92355882521984,
           52.197
          ],
          [
           413.586,
           4.428542364895975,
           93.391
          ],
          [
           413.586,
           4.428542364895975,
           93.391
          ],
          [
           395.604,
           7.516701501045031,
           52.63
          ],
          [
           393.162,
           7.440049958368026,
           52.844
          ],
          [
           393.162,
           7.440049958368026,
           52.844
          ],
          [
           393.162,
           4.142995637421231,
           94.898
          ],
          [
           393.162,
           4.142995637421231,
           94.898
          ],
          [
           402.042,
           7.531274001086487,
           53.383
          ],
          [
           401.82,
           7.490353248205797,
           53.645
          ],
          [
           405.039,
           7.531825873514699,
           53.777
          ],
          [
           418.803,
           7.737127972066729,
           54.129
          ],
          [
           418.803,
           7.737127972066729,
           54.129
          ],
          [
           418.803,
           4.341682130602005,
           96.461
          ],
          [
           418.803,
           4.341682130602005,
           96.461
          ],
          [
           428.46,
           7.748480902777778,
           55.296
          ],
          [
           428.46,
           7.748480902777778,
           55.296
          ],
          [
           433.344,
           7.829584259309447,
           55.347
          ],
          [
           433.344,
           7.829584259309447,
           55.347
          ],
          [
           425.241,
           7.678463733049241,
           55.381
          ],
          [
           425.241,
           7.678463733049241,
           55.381
          ],
          [
           425.241,
           4.32094011014693,
           98.414
          ],
          [
           425.241,
           4.32094011014693,
           98.414
          ],
          [
           437.118,
           7.88210685756532,
           55.457
          ],
          [
           437.118,
           7.88210685756532,
           55.457
          ],
          [
           413.142,
           7.44829451215115,
           55.468
          ],
          [
           438.78299999999996,
           7.888800992430915,
           55.621
          ],
          [
           438.78299999999996,
           7.888800992430915,
           55.621
          ],
          [
           430.902,
           7.587237863821246,
           56.793
          ],
          [
           429.348,
           7.533742761888051,
           56.99
          ],
          [
           429.348,
           7.533742761888051,
           56.99
          ],
          [
           422.688,
           7.416489744354569,
           56.993
          ],
          [
           422.688,
           7.416489744354569,
           56.993
          ],
          [
           437.007,
           7.6393147452145795,
           57.205
          ],
          [
           459.318,
           7.959898793844447,
           57.704
          ],
          [
           459.318,
           7.959898793844447,
           57.704
          ],
          [
           443.667,
           7.663304257707918,
           57.895
          ],
          [
           443.667,
           7.663304257707918,
           57.895
          ],
          [
           443.667,
           4.204378109452736,
           105.525
          ],
          [
           443.667,
           4.204378109452736,
           105.525
          ],
          [
           441.89099999999996,
           7.590672507085801,
           58.215
          ],
          [
           452.214,
           7.752284298767422,
           58.333
          ],
          [
           452.214,
           7.752284298767422,
           58.333
          ],
          [
           452.214,
           4.350930870255448,
           103.935
          ],
          [
           452.214,
           4.350930870255448,
           103.935
          ],
          [
           439.56,
           7.466621369118397,
           58.87
          ],
          [
           454.54499999999996,
           7.601722552052847,
           59.795
          ],
          [
           476.63399999999996,
           7.965672839093521,
           59.836
          ],
          [
           476.63399999999996,
           7.965672839093521,
           59.836
          ],
          [
           456.21000000000004,
           7.5866828530091635,
           60.133
          ],
          [
           482.51700000000005,
           7.953271028037385,
           60.669
          ],
          [
           482.51700000000005,
           7.953271028037385,
           60.669
          ],
          [
           467.64300000000003,
           7.705691405220143,
           60.688
          ],
          [
           461.76,
           7.5248105597653385,
           61.365
          ],
          [
           494.061,
           7.993221161624332,
           61.81
          ],
          [
           494.061,
           7.993221161624332,
           61.81
          ],
          [
           494.061,
           4.423502551705614,
           111.69
          ],
          [
           494.061,
           4.423502551705614,
           111.69
          ],
          [
           490.17600000000004,
           7.912190082644629,
           61.952
          ],
          [
           490.17600000000004,
           7.912190082644629,
           61.952
          ],
          [
           490.17600000000004,
           4.485669314396574,
           109.276
          ],
          [
           490.17600000000004,
           4.485669314396574,
           109.276
          ],
          [
           476.63399999999996,
           7.691739151483854,
           61.967
          ],
          [
           468.08699999999993,
           7.532417166857087,
           62.143
          ],
          [
           481.629,
           7.739125544325359,
           62.233
          ],
          [
           481.629,
           7.739125544325359,
           62.233
          ],
          [
           485.73600000000005,
           7.629560983271814,
           63.665
          ],
          [
           498.83399999999995,
           7.808311810284104,
           63.885
          ],
          [
           516.1500000000001,
           8.005055988088962,
           64.478
          ],
          [
           516.1500000000001,
           8.005055988088962,
           64.478
          ],
          [
           516.1500000000001,
           4.46786409867994,
           115.525
          ],
          [
           516.1500000000001,
           4.46786409867994,
           115.525
          ],
          [
           517.149,
           7.967169927592051,
           64.91
          ],
          [
           517.149,
           7.967169927592051,
           64.91
          ],
          [
           504.60600000000005,
           7.739711949936347,
           65.197
          ],
          [
           504.60600000000005,
           7.739711949936347,
           65.197
          ],
          [
           504.60600000000005,
           4.27882405813569,
           117.931
          ],
          [
           504.60600000000005,
           4.27882405813569,
           117.931
          ],
          [
           513.597,
           7.825524523472139,
           65.631
          ],
          [
           512.376,
           7.7924353261448145,
           65.753
          ],
          [
           501.276,
           7.587618254749112,
           66.065
          ],
          [
           501.276,
           7.587618254749112,
           66.065
          ],
          [
           520.479,
           7.851190925135383,
           66.293
          ],
          [
           506.604,
           7.636248530342769,
           66.342
          ],
          [
           506.271,
           7.630999035331003,
           66.344
          ],
          [
           511.044,
           7.640636914106301,
           66.885
          ],
          [
           513.264,
           7.653231939163499,
           67.065
          ],
          [
           512.043,
           7.626042535446205,
           67.144
          ],
          [
           510.711,
           7.591619223165312,
           67.273
          ],
          [
           514.707,
           7.621111390793194,
           67.537
          ],
          [
           517.038,
           7.597578358044466,
           68.053
          ],
          [
           530.6909999999999,
           7.792247265252183,
           68.105
          ],
          [
           517.26,
           7.589465189641259,
           68.155
          ],
          [
           527.916,
           7.676321758855348,
           68.772
          ],
          [
           527.916,
           7.676321758855348,
           68.772
          ],
          [
           536.13,
           7.787833008918974,
           68.842
          ],
          [
           536.13,
           7.787833008918974,
           68.842
          ],
          [
           536.13,
           4.434454636438078,
           120.901
          ],
          [
           536.13,
           4.434454636438078,
           120.901
          ],
          [
           548.784,
           7.961930185996576,
           68.926
          ],
          [
           548.784,
           7.961930185996576,
           68.926
          ],
          [
           521.4780000000001,
           7.549227673465843,
           69.077
          ],
          [
           545.898,
           7.8758385872779995,
           69.313
          ],
          [
           539.016,
           7.76120950323974,
           69.45
          ],
          [
           539.016,
           7.76120950323974,
           69.45
          ],
          [
           546.8969999999999,
           7.858280048854083,
           69.595
          ],
          [
           546.8969999999999,
           7.858280048854083,
           69.595
          ],
          [
           546.8969999999999,
           4.425126831675958,
           123.589
          ],
          [
           546.8969999999999,
           4.425126831675958,
           123.589
          ],
          [
           530.913,
           7.612638189873962,
           69.741
          ],
          [
           564.6569999999999,
           8.06111610775622,
           70.047
          ],
          [
           564.6569999999999,
           8.06111610775622,
           70.047
          ],
          [
           551.7810000000001,
           7.792856537581562,
           70.806
          ],
          [
           551.7810000000001,
           7.792856537581562,
           70.806
          ],
          [
           551.7810000000001,
           4.337423554011352,
           127.214
          ],
          [
           551.7810000000001,
           4.337423554011352,
           127.214
          ],
          [
           570.096,
           8.029521126760564,
           71
          ],
          [
           570.096,
           8.029521126760564,
           71
          ],
          [
           570.096,
           4.457705840957073,
           127.89
          ],
          [
           570.096,
           4.457705840957073,
           127.89
          ],
          [
           535.242,
           7.532996495573727,
           71.053
          ],
          [
           547.563,
           7.704233675235322,
           71.073
          ],
          [
           547.563,
           7.704233675235322,
           71.073
          ],
          [
           557.109,
           7.791189427312776,
           71.505
          ],
          [
           558.108,
           7.764980869565217,
           71.875
          ],
          [
           558.108,
           7.764980869565217,
           71.875
          ],
          [
           568.986,
           7.8643538355217695,
           72.35
          ],
          [
           562.992,
           7.700720841483265,
           73.109
          ],
          [
           558.2189999999999,
           7.624380249948779,
           73.215
          ],
          [
           592.629,
           7.983793396112032,
           74.229
          ],
          [
           592.629,
           7.983793396112032,
           74.229
          ],
          [
           592.629,
           4.522573604603244,
           131.038
          ],
          [
           592.629,
           4.522573604603244,
           131.038
          ],
          [
           587.967,
           7.882334803533843,
           74.593
          ],
          [
           576.201,
           7.629679162087367,
           75.521
          ],
          [
           592.185,
           7.786477850972348,
           76.053
          ],
          [
           591.7410000000001,
           7.754131013064616,
           76.313
          ],
          [
           617.271,
           8.054162317327766,
           76.64
          ],
          [
           617.271,
           8.054162317327766,
           76.64
          ],
          [
           617.271,
           4.547819552195919,
           135.729
          ],
          [
           617.271,
           4.547819552195919,
           135.729
          ],
          [
           599.178,
           7.7256469435383,
           77.557
          ],
          [
           642.801,
           8.124175324182907,
           79.122
          ],
          [
           642.801,
           8.124175324182907,
           79.122
          ],
          [
           642.801,
           4.607826411090881,
           139.502
          ],
          [
           642.801,
           4.607826411090881,
           139.502
          ],
          [
           635.0310000000001,
           8.021005166033017,
           79.171
          ],
          [
           635.0310000000001,
           8.021005166033017,
           79.171
          ],
          [
           616.494,
           7.776847098003104,
           79.273
          ],
          [
           621.045,
           7.75511350865363,
           80.082
          ],
          [
           626.484,
           7.820004244005343,
           80.113
          ],
          [
           628.482,
           7.837117952938535,
           80.193
          ],
          [
           629.925,
           7.851195891964652,
           80.233
          ],
          [
           627.261,
           7.725555158695946,
           81.193
          ],
          [
           630.0360000000001,
           7.7368634337430775,
           81.433
          ],
          [
           637.695,
           7.744374142307179,
           82.343
          ],
          [
           642.135,
           7.779588325801723,
           82.541
          ],
          [
           670.107,
           8.07571886524139,
           82.978
          ],
          [
           670.107,
           8.07571886524139,
           82.978
          ],
          [
           670.107,
           4.605039995601858,
           145.516
          ],
          [
           670.107,
           4.605039995601858,
           145.516
          ],
          [
           645.798,
           7.780042647005674,
           83.007
          ],
          [
           643.8,
           7.741702741702741,
           83.16
          ],
          [
           654.3449999999999,
           7.865668950595023,
           83.19
          ],
          [
           662.337,
           7.941404985432178,
           83.403
          ],
          [
           659.784,
           7.907665755788868,
           83.436
          ],
          [
           659.784,
           7.907665755788868,
           83.436
          ],
          [
           659.784,
           4.585367887746805,
           143.889
          ],
          [
           659.784,
           4.585367887746805,
           143.889
          ],
          [
           651.126,
           7.782537500747026,
           83.665
          ],
          [
           653.013,
           7.798194389710887,
           83.739
          ],
          [
           653.79,
           7.788870489283885,
           83.939
          ],
          [
           657.342,
           7.7870283717348805,
           84.415
          ],
          [
           666.7769999999999,
           7.832180235631306,
           85.133
          ],
          [
           666,
           7.750765184400712,
           85.927
          ],
          [
           666.222,
           7.732291872192755,
           86.161
          ],
          [
           681.207,
           7.906210466452339,
           86.161
          ],
          [
           675.435,
           7.776134008749712,
           86.86
          ],
          [
           690.42,
           7.9292088247792085,
           87.073
          ],
          [
           681.8729999999999,
           7.78100715483893,
           87.633
          ],
          [
           681.8729999999999,
           7.767534316796719,
           87.785
          ],
          [
           694.083,
           7.828062617012158,
           88.666
          ],
          [
           696.081,
           7.839632841536209,
           88.79
          ],
          [
           377.844,
           4.252557652699463,
           88.851
          ],
          [
           377.844,
           4.252557652699463,
           88.851
          ],
          [
           733.4879999999999,
           8.08866245409733,
           90.681
          ],
          [
           733.4879999999999,
           8.08866245409733,
           90.681
          ],
          [
           733.4879999999999,
           4.578033816214057,
           160.219
          ],
          [
           733.4879999999999,
           4.578033816214057,
           160.219
          ],
          [
           723.609,
           7.9471187110803605,
           91.053
          ],
          [
           716.0609999999999,
           7.863185636633173,
           91.065
          ],
          [
           745.92,
           8.17634743338193,
           91.229
          ],
          [
           745.92,
           8.17634743338193,
           91.229
          ],
          [
           745.92,
           4.618156377887431,
           161.519
          ],
          [
           745.92,
           4.618156377887431,
           161.519
          ],
          [
           711.8430000000001,
           7.750481789972237,
           91.845
          ],
          [
           718.17,
           7.792220474149622,
           92.165
          ],
          [
           726.051,
           7.849794038467777,
           92.493
          ],
          [
           728.271,
           7.83887842419676,
           92.905
          ],
          [
           741.702,
           7.945132989834286,
           93.353
          ],
          [
           720.168,
           7.6910622937514015,
           93.637
          ],
          [
           734.709,
           7.843337994939843,
           93.673
          ],
          [
           735.153,
           7.795482742166374,
           94.305
          ],
          [
           769.785,
           7.998181723725907,
           96.245
          ],
          [
           765.234,
           7.908414460221988,
           96.762
          ],
          [
           752.358,
           7.754988867815617,
           97.016
          ],
          [
           781.773,
           8.04185654182054,
           97.213
          ],
          [
           764.346,
           7.855963821368005,
           97.295
          ],
          [
           758.796,
           7.792673533731117,
           97.373
          ],
          [
           784.881,
           8.029637435037033,
           97.748
          ],
          [
           769.008,
           7.85961182711078,
           97.843
          ],
          [
           779.9970000000001,
           7.9055085389955915,
           98.665
          ],
          [
           773.7810000000001,
           7.824822020872098,
           98.888
          ],
          [
           779.7750000000001,
           7.868408306593207,
           99.102
          ],
          [
           780.885,
           7.872618207480593,
           99.19
          ],
          [
           775.224,
           7.8008392283928885,
           99.377
          ],
          [
           779.7750000000001,
           7.843793065293273,
           99.413
          ],
          [
           773.337,
           7.777702906567434,
           99.43
          ],
          [
           784.104,
           7.851010783695293,
           99.873
          ],
          [
           786.879,
           7.876272458835894,
           99.905
          ],
          [
           785.658,
           7.861296778066841,
           99.94
          ],
          [
           805.305,
           8.032727200183535,
           100.253
          ],
          [
           783.438,
           7.801069433518874,
           100.427
          ],
          [
           793.206,
           7.893382426112051,
           100.49
          ],
          [
           791.6519999999999,
           7.868678435114503,
           100.608
          ],
          [
           796.203,
           7.894296932320688,
           100.858
          ],
          [
           807.303,
           8.000624349635796,
           100.905
          ],
          [
           796.425,
           7.837054603780639,
           101.623
          ],
          [
           790.986,
           7.779705526540969,
           101.673
          ],
          [
           792.8729999999999,
           7.793665772168322,
           101.733
          ],
          [
           799.0889999999999,
           7.827912854371975,
           102.082
          ],
          [
           802.308,
           7.848221622256133,
           102.228
          ],
          [
           810.3,
           7.9223699648025026,
           102.28
          ],
          [
           810.3,
           7.9223699648025026,
           102.28
          ],
          [
           818.736,
           8.004066868706618,
           102.29
          ],
          [
           798.423,
           7.800679999609196,
           102.353
          ],
          [
           801.3090000000001,
           7.816962413056415,
           102.509
          ],
          [
           805.416,
           7.833338196247776,
           102.819
          ],
          [
           804.972,
           7.798982706002034,
           103.215
          ],
          [
           806.082,
           7.809207339520645,
           103.222
          ],
          [
           809.856,
           7.845085294146139,
           103.231
          ],
          [
           808.1909999999999,
           7.824787483298801,
           103.286
          ],
          [
           810.966,
           7.850894516728624,
           103.296
          ],
          [
           821.178,
           7.926352062238782,
           103.601
          ],
          [
           810.078,
           7.794007850985221,
           103.936
          ],
          [
           841.38,
           8.050327704157297,
           104.515
          ],
          [
           824.508,
           7.884747059386058,
           104.57
          ],
          [
           464.979,
           4.410686675330342,
           105.421
          ],
          [
           464.979,
           4.410686675330342,
           105.421
          ],
          [
           843.3779999999999,
           7.95242001640689,
           106.053
          ],
          [
           851.925,
           7.939137241745645,
           107.307
          ],
          [
           858.918,
           7.996257505934925,
           107.415
          ],
          [
           852.1469999999999,
           7.8978553421813595,
           107.896
          ],
          [
           853.59,
           7.88666937689408,
           108.232
          ],
          [
           844.1550000000001,
           7.794382427079583,
           108.303
          ],
          [
           869.9069999999999,
           8.031418204647641,
           108.313
          ],
          [
           872.46,
           8.043997381547285,
           108.461
          ],
          [
           846.486,
           7.8022176545952275,
           108.493
          ],
          [
           861.36,
           7.910150331058929,
           108.893
          ],
          [
           858.474,
           7.878727251034775,
           108.961
          ],
          [
           864.579,
           7.908192852634756,
           109.327
          ],
          [
           860.139,
           7.848699698877635,
           109.59
          ],
          [
           866.688,
           7.896929384965832,
           109.75
          ],
          [
           866.577,
           7.820033388981636,
           110.815
          ],
          [
           875.124,
           7.889899654696755,
           110.917
          ],
          [
           873.237,
           7.854899209326172,
           111.171
          ],
          [
           873.3480000000001,
           7.8335605625717575,
           111.488
          ],
          [
           870.6840000000001,
           7.800779465125657,
           111.615
          ],
          [
           885.2249999999999,
           7.839052468452512,
           112.925
          ],
          [
           898.5450000000001,
           7.94462471596184,
           113.101
          ],
          [
           898.5450000000001,
           7.935713781043559,
           113.228
          ],
          [
           889.887,
           7.824695765334834,
           113.728
          ],
          [
           901.764,
           7.9115291145015405,
           113.981
          ],
          [
           917.748,
           8.047456200347241,
           114.042
          ],
          [
           904.5389999999999,
           7.845431284964655,
           115.295
          ],
          [
           914.307,
           7.917791729811648,
           115.475
          ],
          [
           910.422,
           7.870992841581077,
           115.668
          ],
          [
           910.422,
           7.870992841581077,
           115.668
          ],
          [
           924.0749999999999,
           7.987854950944374,
           115.685
          ],
          [
           945.7199999999999,
           8.062885253169412,
           117.293
          ],
          [
           924.63,
           7.8262304794955355,
           118.145
          ],
          [
           945.387,
           7.921263867010758,
           119.348
          ],
          [
           962.5920000000001,
           7.990768949802015,
           120.463
          ],
          [
           951.1590000000001,
           7.894877072992581,
           120.478
          ],
          [
           953.2679999999999,
           7.907787769187377,
           120.548
          ],
          [
           958.041,
           7.9421112842789405,
           120.628
          ],
          [
           959.262,
           7.937822204936821,
           120.847
          ],
          [
           968.9189999999999,
           8.00991195800438,
           120.965
          ],
          [
           951.6030000000001,
           7.830512240279778,
           121.525
          ],
          [
           976.8000000000001,
           7.9651646362346495,
           122.634
          ],
          [
           973.692,
           7.938655708834752,
           122.652
          ],
          [
           969.141,
           7.892863250995626,
           122.787
          ],
          [
           984.5699999999999,
           7.982633230365091,
           123.339
          ],
          [
           969.5849999999999,
           7.851590020163738,
           123.489
          ],
          [
           999.8879999999999,
           8.06706092120019,
           123.947
          ],
          [
           978.687,
           7.849779831083519,
           124.677
          ],
          [
           1010.988,
           8.098140049021964,
           124.842
          ],
          [
           1010.988,
           8.098140049021964,
           124.842
          ],
          [
           992.3399999999999,
           7.9140913477258765,
           125.389
          ],
          [
           991.563,
           7.886760787432889,
           125.725
          ],
          [
           990.564,
           7.843255869195138,
           126.295
          ],
          [
           996.003,
           7.872856905723614,
           126.511
          ],
          [
           1021.1999999999999,
           8.036135855708395,
           127.076
          ],
          [
           1011.876,
           7.883355667051014,
           128.356
          ],
          [
           1018.869,
           7.895087988469676,
           129.051
          ],
          [
           1033.299,
           8.000394871318406,
           129.156
          ],
          [
           1020.756,
           7.897226412904724,
           129.255
          ],
          [
           1048.173,
           8.099816856893368,
           129.407
          ],
          [
           1026.528,
           7.917869291229262,
           129.647
          ],
          [
           1026.528,
           7.908962732967109,
           129.793
          ],
          [
           1035.741,
           7.917056503393872,
           130.824
          ],
          [
           1034.298,
           7.891729805205209,
           131.061
          ],
          [
           1034.298,
           7.891729805205209,
           131.061
          ],
          [
           1044.51,
           7.967945441646515,
           131.089
          ],
          [
           1058.2740000000001,
           7.965032175516502,
           132.865
          ],
          [
           1058.2740000000001,
           7.965032175516502,
           132.865
          ],
          [
           1073.9250000000002,
           8.052947704674636,
           133.358
          ],
          [
           1056.8310000000001,
           7.898292291020516,
           133.805
          ],
          [
           1085.691,
           8.062760387657347,
           134.655
          ],
          [
           1068.153,
           7.931456193891871,
           134.673
          ],
          [
           1064.823,
           7.873231001286545,
           135.246
          ],
          [
           1091.019,
           7.921605785357991,
           137.727
          ],
          [
           1091.019,
           7.921605785357991,
           137.727
          ],
          [
           1089.2430000000002,
           7.891692749087117,
           138.024
          ],
          [
           1089.2430000000002,
           7.891692749087117,
           138.024
          ],
          [
           1109.778,
           7.947080474915143,
           139.646
          ],
          [
           1110.555,
           7.950708762886598,
           139.68
          ]
         ],
         "geo": "geo",
         "hovertemplate": "<b>%{hovertext}</b><br><br>latitude=%{lat}<br>longitude=%{lon}<br>distance=%{customdata[0]}<br>velocity=%{customdata[1]}<br>travel_time=%{customdata[2]}<extra></extra>",
         "hovertext": [
          "ACH",
          "ACH",
          "KVT",
          "ET19",
          "ET19",
          "ANCK",
          "ANCK",
          "KAWH",
          "KEL",
          "KCE",
          "ET20",
          "ET20",
          "Q17K",
          "Q17K",
          "ET18",
          "ET18",
          "KJL",
          "KAHC",
          "KARR",
          "KAHG",
          "KAHG",
          "KAHG",
          "KAHG",
          "EP22",
          "EP22",
          "ET17",
          "ET17",
          "EP15",
          "EP15",
          "Q16K",
          "Q16K",
          "Q16K",
          "Q16K",
          "R18K",
          "R18K",
          "R18K",
          "R18K",
          "PLK1",
          "PLK1",
          "KT06",
          "KT06",
          "P18K",
          "P18K",
          "P18K",
          "P18K",
          "PLBL",
          "KT07",
          "KT07",
          "KD05",
          "KD05",
          "P17K",
          "Q19K",
          "Q19K",
          "EP14",
          "EP14",
          "EP21",
          "EP16",
          "EP16",
          "KT08",
          "KT08",
          "KT09",
          "KT09",
          "AUSB",
          "AUSB",
          "R16K",
          "R16K",
          "KD02",
          "KD02",
          "AUWS",
          "AUWS",
          "AUCH",
          "AUCH",
          "AUW",
          "AUJK",
          "KS13",
          "KS13",
          "KS13",
          "KS13",
          "AUH",
          "AUL",
          "AUL",
          "AUL",
          "AUL",
          "AUNO",
          "AU22",
          "AU22",
          "OHAK",
          "O18K",
          "O18K",
          "Q20K",
          "Q20K",
          "P16K",
          "KD01",
          "KD01",
          "KD04",
          "KD04",
          "KS11",
          "KS11",
          "KS11",
          "KS11",
          "O17K",
          "KS03",
          "KS03",
          "KS03",
          "KS03",
          "OPT",
          "P19K",
          "P19K",
          "P19K",
          "P19K",
          "LT07",
          "LT07",
          "LT07",
          "LT07",
          "SII",
          "O16K",
          "O16K",
          "O19K",
          "O19K",
          "O19K",
          "O19K",
          "ILSW",
          "ILSW",
          "ILS",
          "ANNE",
          "IVE",
          "IVE",
          "IVE",
          "IVE",
          "ANNW",
          "ILNE",
          "AZAC",
          "LT01",
          "LT01",
          "LT01",
          "LT01",
          "ANPB",
          "LT04",
          "LT04",
          "LT04",
          "LT04",
          "O20K",
          "WP24",
          "N18K",
          "N18K",
          "HOM",
          "N17K",
          "CNP",
          "CHI",
          "RED",
          "WS71",
          "WS71",
          "WS71",
          "WS71",
          "O15K",
          "RDWB",
          "LD40",
          "LD40",
          "LD40",
          "LD40",
          "WD48",
          "WD48",
          "WD48",
          "WD48",
          "N19K",
          "RDJH",
          "CHGN",
          "RDDF",
          "BRLK",
          "WD55",
          "WD55",
          "WD55",
          "WD55",
          "LA39",
          "LA39",
          "LA39",
          "LA39",
          "WD51",
          "WD51",
          "WD51",
          "WD51",
          "RDT",
          "WS72",
          "WS72",
          "BRSE",
          "WD70",
          "WD70",
          "N16K",
          "LT08",
          "LT08",
          "LT08",
          "LT08",
          "LT10",
          "LT10",
          "LT10",
          "LT10",
          "VNHG",
          "LD36",
          "LD36",
          "LD36",
          "LD36",
          "VNSG",
          "WD50",
          "WD50",
          "WD50",
          "WD50",
          "N15K",
          "LT14",
          "LT14",
          "LT14",
          "LT14",
          "WP25",
          "VNSS",
          "VNFG",
          "WS26",
          "WS26",
          "M18K",
          "VNWF",
          "VNKR",
          "O14K",
          "VNSW",
          "M17K",
          "M16K",
          "SPCR",
          "SPBG",
          "LT12",
          "LT12",
          "LT12",
          "LT12",
          "LA25",
          "LA25",
          "LA25",
          "LA25",
          "CAPN",
          "SLK",
          "LT16",
          "LT16",
          "WD57",
          "WD57",
          "WD57",
          "WD57",
          "SPCG",
          "SWD",
          "LA28",
          "LA28",
          "LA28",
          "LA28",
          "SPBL",
          "LD38",
          "LD38",
          "LD38",
          "LD38",
          "O22K",
          "LT15",
          "LT15",
          "LT15",
          "LT15",
          "M15K",
          "STLK",
          "N14K",
          "WD61",
          "WD61",
          "WD61",
          "WD61",
          "LT13",
          "LT13",
          "WD54",
          "WD54",
          "LA30",
          "LA30",
          "LA30",
          "LA30",
          "LD41",
          "LD41",
          "M20K",
          "LA21",
          "LA21",
          "SSN",
          "L19K",
          "L19K",
          "FIRE",
          "FIRE",
          "RC01",
          "WD46",
          "WD46",
          "WS27",
          "WS27",
          "WS27",
          "WS27",
          "L16K",
          "LA32",
          "LA32",
          "LA32",
          "LA32",
          "L18K",
          "L17K",
          "WD47",
          "WD47",
          "SKN",
          "WD49",
          "WD49",
          "CHN",
          "M14K",
          "LA33",
          "LA33",
          "LA33",
          "LA33",
          "WD58",
          "WD58",
          "WD58",
          "WD58",
          "M22K",
          "L20K",
          "PWL",
          "PWL",
          "P23K",
          "PMR",
          "LA34",
          "LA34",
          "LA34",
          "LA34",
          "WD53",
          "WD53",
          "WS74",
          "WS74",
          "WS74",
          "WS74",
          "LT17",
          "KNK",
          "S12K",
          "S12K",
          "GHO",
          "L15K",
          "PS1A",
          "M13K",
          "TTA",
          "PVV",
          "PV6A",
          "K17K",
          "PS4A",
          "CUT",
          "PN7A",
          "Q23K",
          "Q23K",
          "WD52",
          "WD52",
          "WD52",
          "WD52",
          "WD59",
          "WD59",
          "HAG",
          "SAW",
          "LT20",
          "LT20",
          "LD45",
          "LD45",
          "LD45",
          "LD45",
          "L14K",
          "WD62",
          "WD62",
          "WS75",
          "WS75",
          "WS75",
          "WS75",
          "LD44",
          "LD44",
          "LD44",
          "LD44",
          "PPLA",
          "HIN",
          "HIN",
          "FID",
          "WS28",
          "WS28",
          "M23K",
          "K20K",
          "K15K",
          "WD69",
          "WD69",
          "WD69",
          "WD69",
          "SCM",
          "J18K",
          "EYAK",
          "CAST",
          "WD66",
          "WD66",
          "WD66",
          "WD66",
          "J17K",
          "WD65",
          "WD65",
          "WD65",
          "WD65",
          "WD60",
          "WD60",
          "DIV",
          "J16K",
          "KTH",
          "KLU",
          "TRF",
          "FALS",
          "J19K",
          "CHUM",
          "RAG",
          "WD68",
          "WD68",
          "WD68",
          "WD68",
          "GOAT",
          "KAI",
          "M24K",
          "RND",
          "WD63",
          "WD63",
          "WD63",
          "WD63",
          "ISLZ",
          "J20K",
          "K13K",
          "M11K",
          "BMR",
          "SSLS",
          "J14K",
          "BPAW",
          "NICH",
          "MCK",
          "I17K",
          "SUCK",
          "BERG",
          "N25K",
          "LA23",
          "LA23",
          "WD64",
          "WD64",
          "WD64",
          "WD64",
          "BWN",
          "HARP",
          "WD67",
          "WD67",
          "WD67",
          "WD67",
          "WESE",
          "GCSA",
          "GLB",
          "WACK",
          "PAX",
          "I20K",
          "VRDI",
          "SSP",
          "NEA2",
          "FAPT",
          "CYK",
          "WRH",
          "FNN1",
          "BARK",
          "FTGH",
          "F8KN",
          "F7TV",
          "F1TN",
          "F2TN",
          "I21K",
          "H18K",
          "KIAG",
          "H17K",
          "BAL",
          "F6TP",
          "F3TN",
          "CCB",
          "MESA",
          "K24K",
          "F4TN",
          "F5MN",
          "HDA",
          "H20K",
          "H16K",
          "AKSA",
          "AKHS",
          "H19K",
          "MENT",
          "MENT",
          "I23K",
          "AHB",
          "AKGG",
          "AKBB",
          "AKV",
          "LVA",
          "AKMO",
          "ZRO",
          "M26K",
          "RIDG",
          "AKRB",
          "IL31",
          "H21K",
          "LA29",
          "LA29",
          "DOT",
          "UNV",
          "POKR",
          "MTBL",
          "IM05",
          "G17K",
          "SCRK",
          "J25K",
          "SAMH",
          "MSW",
          "G18K",
          "H22K",
          "M27K",
          "MREP",
          "G16K",
          "PIN",
          "G19K",
          "ANM",
          "G15K",
          "YUK2",
          "L27K",
          "BC01",
          "O28M",
          "BC05",
          "H24K",
          "YUK3",
          "G21K",
          "BVCY",
          "BVCY",
          "J26L",
          "PPD",
          "YUK8",
          "F18K",
          "OKTU",
          "F17K",
          "F19K",
          "OKER",
          "OKRE",
          "G23K",
          "F15K",
          "OKAK",
          "G22K",
          "F20K",
          "OKSP",
          "O29M",
          "I26K",
          "F14K",
          "G24K",
          "G24K",
          "F21K",
          "YUK4",
          "YUK6",
          "YUK7",
          "COLD",
          "P29M",
          "E19K",
          "NIKH",
          "YUK5",
          "FYU",
          "E17K",
          "M29M",
          "TNA",
          "HYT",
          "HYT",
          "E18K",
          "DAWY",
          "DAWY",
          "I27K",
          "P30M",
          "F24K",
          "L29M",
          "GAMB",
          "CLCO",
          "CLCO",
          "PLBC",
          "PLBC",
          "O30N",
          "D17K"
         ],
         "lat": [
          58.21,
          58.21,
          58.381,
          58.3686,
          58.3686,
          58.1981,
          58.1981,
          58.383,
          58.4393,
          58.2426,
          58.1304,
          58.1304,
          58.2637,
          58.2637,
          58.5458,
          58.5458,
          58.0533,
          58.6483,
          58.4971,
          58.4933,
          58.4933,
          58.4933,
          58.4933,
          57.9007,
          57.9007,
          58.6097,
          58.6097,
          58.9664,
          58.9664,
          58.6774,
          58.6774,
          58.6774,
          58.6774,
          57.5665,
          57.5665,
          57.5665,
          57.5665,
          57.8012,
          57.8012,
          57.6517,
          57.6517,
          59.3922,
          59.3922,
          59.3922,
          59.3922,
          57.6991,
          57.5375,
          57.5375,
          57.8717,
          57.8717,
          59.1953,
          58.9287,
          58.9287,
          59.3257,
          59.3257,
          58.212,
          59.1126,
          59.1126,
          57.443,
          57.443,
          57.348,
          57.348,
          59.333,
          59.333,
          57.5673,
          57.5673,
          57.8618,
          57.8618,
          59.35851,
          59.35851,
          59.3626,
          59.3626,
          59.3694,
          59.3493,
          56.9472,
          56.9472,
          56.9472,
          56.9472,
          59.3632,
          59.38218,
          59.3816,
          59.38218,
          59.3816,
          59.4041,
          59.370595,
          59.370595,
          57.2225,
          59.8542,
          59.8542,
          58.6097,
          58.6097,
          59.0314,
          57.6401,
          57.6401,
          57.3042,
          57.3042,
          57.1277,
          57.1277,
          57.1277,
          57.1277,
          59.7733,
          57.6133,
          57.6133,
          57.6133,
          57.6133,
          59.6526,
          59.6524,
          59.6524,
          59.6524,
          59.6524,
          56.6712,
          56.6712,
          56.6712,
          56.6712,
          56.5593,
          59.5938,
          59.5938,
          60.1952,
          60.1952,
          60.1952,
          60.1952,
          59.9832,
          59.9832,
          59.957,
          56.9119,
          60.0163,
          60.0163,
          60.0163,
          60.0163,
          56.9656,
          60.0573,
          56.8947,
          56.7756,
          56.7756,
          56.7756,
          56.7756,
          56.8016,
          56.1118,
          56.1118,
          56.1118,
          56.1118,
          60.0815,
          56.9241,
          60.6801,
          60.6801,
          59.6572,
          60.5269,
          59.5251,
          55.8218,
          60.4196,
          56.15695,
          56.15695,
          56.15695,
          56.15695,
          59.1767,
          60.486807,
          56.3037,
          56.3037,
          56.3037,
          56.3037,
          56.627365,
          56.627365,
          56.627365,
          56.627365,
          60.8132,
          60.5905,
          56.301399,
          60.5912,
          59.7511,
          55.761625,
          55.761625,
          55.761625,
          55.761625,
          56.8827,
          56.8827,
          56.8827,
          56.8827,
          55.905087,
          55.905087,
          55.905087,
          55.905087,
          60.5726,
          56.257748,
          56.257748,
          59.741699,
          56.541073,
          56.541073,
          60.4742,
          55.5883,
          55.5883,
          55.5883,
          55.5883,
          55.6251,
          55.6251,
          55.6251,
          55.6251,
          56.2203,
          55.2524,
          55.2524,
          55.2524,
          55.2524,
          56.125,
          55.449527,
          55.449527,
          55.449527,
          55.449527,
          60.1686,
          55.6998,
          55.6998,
          55.6998,
          55.6998,
          56.453,
          56.2259,
          56.2849,
          55.9123,
          55.9123,
          61.4907,
          56.1509,
          56.0304,
          59.2533,
          56.0712,
          61.4009,
          61.0224,
          61.2003,
          61.2591,
          55.207,
          55.207,
          55.207,
          55.207,
          54.8901,
          54.8901,
          54.8901,
          54.8901,
          60.768299,
          60.5117,
          55.4916,
          55.4916,
          54.736387,
          54.736387,
          54.736387,
          54.736387,
          61.2913,
          60.1043,
          54.8983,
          54.8983,
          54.8983,
          54.8983,
          61.3764,
          55.1649,
          55.1649,
          55.1649,
          55.1649,
          60.4814,
          55.2002,
          55.2002,
          55.2002,
          55.2002,
          60.6947,
          61.4982,
          59.9237,
          54.647613,
          54.647613,
          54.647613,
          54.647613,
          54.8439,
          54.8439,
          56.331433,
          56.331433,
          54.6727,
          54.6727,
          54.6727,
          54.6727,
          54.5219,
          54.5219,
          61.8823,
          54.3691,
          54.3691,
          61.4636,
          62.1816,
          62.1816,
          61.142601,
          61.142601,
          61.0889,
          55.521393,
          55.521393,
          55.2236,
          55.2236,
          55.2236,
          55.2236,
          61.7105,
          54.4982,
          54.4982,
          54.4982,
          54.4982,
          62.2195,
          62.1344,
          54.951352,
          54.951352,
          61.98,
          54.399083,
          54.399083,
          54.831001,
          60.7515,
          54.1528,
          54.1528,
          54.1528,
          54.1528,
          53.906227,
          53.906227,
          53.906227,
          53.906227,
          61.7531,
          62.4787,
          60.858398,
          60.858398,
          59.9979,
          61.592201,
          54.0449,
          54.0449,
          54.0449,
          54.0449,
          53.779448,
          53.779448,
          54.369193,
          54.369193,
          54.369193,
          54.369193,
          54.5677,
          61.4131,
          55.703,
          55.703,
          61.771,
          61.678,
          55.42005,
          60.4135,
          62.930099,
          55.37312,
          55.507,
          62.7161,
          55.34604,
          62.4058,
          55.4329,
          59.4296,
          59.4296,
          54.046622,
          54.046622,
          54.046622,
          54.046622,
          53.383713,
          53.383713,
          55.31686,
          61.806999,
          54.8002,
          54.8002,
          54.1025,
          54.1025,
          54.1025,
          54.1025,
          61.3416,
          53.361962,
          53.361962,
          54.17963,
          54.17963,
          54.17963,
          54.17963,
          53.8302,
          53.8302,
          53.8302,
          53.8302,
          62.896198,
          60.396,
          60.396,
          60.7277,
          55.0746,
          55.0746,
          61.7929,
          63.3569,
          62.2938,
          53.782065,
          53.782065,
          53.782065,
          53.782065,
          61.832001,
          63.465,
          60.548698,
          63.4188,
          53.31452,
          53.31452,
          53.31452,
          53.31452,
          63.3965,
          52.899057,
          52.899057,
          52.899057,
          52.899057,
          52.64488,
          52.64488,
          61.1292,
          63.2842,
          63.5527,
          61.4924,
          63.4501,
          54.8564,
          63.994,
          63.8827,
          60.3863,
          52.917603,
          52.917603,
          52.917603,
          52.917603,
          60.580502,
          59.9268,
          62.1067,
          63.405602,
          52.590072,
          52.590072,
          52.590072,
          52.590072,
          54.72492,
          64.1767,
          61.9331,
          60.3849,
          60.9677,
          54.70938,
          62.7492,
          64.099701,
          60.2357,
          63.7318,
          63.8864,
          60.071999,
          60.3932,
          61.6061,
          54.9163,
          54.9163,
          52.001077,
          52.001077,
          52.001077,
          52.001077,
          64.173203,
          62.3987,
          52.162563,
          52.162563,
          52.162563,
          52.162563,
          54.4723,
          64.7461,
          61.4417,
          61.9858,
          62.9699,
          64.7962,
          61.227501,
          60.1791,
          64.5928,
          64.5498,
          60.082298,
          64.4716,
          64.5716,
          60.403,
          64.6917,
          64.7653,
          64.8537,
          64.6544,
          64.7094,
          65.18,
          65.1527,
          60.9231,
          64.937,
          61.035999,
          64.87,
          64.7716,
          64.6453,
          60.1782,
          63.8036,
          64.8339,
          64.8857,
          64.4091,
          65.4924,
          64.6379,
          54.1095,
          54.1533,
          65.5276,
          62.938049,
          62.938049,
          65.1479,
          54.1144,
          54.1979,
          54.0975,
          54.1253,
          54.16,
          54.0903,
          54.09163,
          62.4013,
          63.7399,
          54.1292,
          64.7714,
          65.6571,
          54.292,
          54.2918,
          63.6487,
          53.8452,
          65.1171,
          53.968,
          65.97509,
          65.5011,
          63.976101,
          64.613,
          60.129398,
          53.9148,
          65.895,
          65.8937,
          62.3579,
          53.8096,
          65.3936,
          60.095901,
          66.1434,
          64.5646,
          64.9941,
          61.7668,
          63.0618,
          63.061771,
          60.7718,
          63.061001,
          65.8371,
          61.7755,
          66.5156,
          62.4141,
          62.4141,
          64.5012,
          65.517403,
          61.2844,
          66.6001,
          53.3829,
          66.442,
          66.8332,
          53.4536,
          53.5192,
          66.7108,
          65.7077,
          53.4113,
          66.9214,
          67.0486,
          53.2516,
          60.3024,
          65.3064,
          65.4742,
          66.7004,
          66.7004,
          67.2221,
          61.4348,
          60.9432,
          60.5307,
          67.2278,
          59.6304,
          67.4572,
          52.972099,
          61.1315,
          66.565697,
          67.082,
          62.4435,
          65.5598,
          60.8267,
          60.8267,
          67.4213,
          64.0647,
          64.0647,
          65.6035,
          60.1218,
          67.5187,
          63.109,
          63.775799,
          52.7866,
          52.7866,
          59.455,
          59.455,
          60.7704,
          67.6988
         ],
         "legendgroup": "",
         "lon": [
          -155.3281,
          -155.3281,
          -155.2971,
          -155.4394,
          -155.4394,
          -155.4961,
          -155.4961,
          -154.8013,
          -155.7428,
          -155.1854,
          -154.9716,
          -154.9716,
          -155.8865,
          -155.8865,
          -155.788,
          -155.788,
          -155.5753,
          -155.0081,
          -154.7054,
          -154.5484,
          -154.5484,
          -154.5484,
          -154.5484,
          -155.7865,
          -155.7865,
          -156.265,
          -156.265,
          -155.0867,
          -155.0867,
          -156.6556,
          -156.6556,
          -156.6556,
          -156.6556,
          -154.4524,
          -154.4524,
          -154.4524,
          -154.4524,
          -156.6093,
          -156.6093,
          -154.0041,
          -154.0041,
          -155.2292,
          -155.2292,
          -155.2292,
          -155.2292,
          -156.8211,
          -153.9814,
          -153.9814,
          -153.4099,
          -153.4099,
          -156.4394,
          -153.6446,
          -153.6446,
          -155.9036,
          -155.9036,
          -157.3769,
          -156.8567,
          -156.8567,
          -153.8149,
          -153.8149,
          -153.7945,
          -153.7945,
          -153.4284,
          -153.4284,
          -157.5742,
          -157.5742,
          -152.6575,
          -152.6575,
          -153.46115,
          -153.46115,
          -153.4447,
          -153.4447,
          -153.473,
          -153.4106,
          -154.1729,
          -154.1729,
          -154.1729,
          -154.1729,
          -153.4454,
          -153.43765,
          -153.4379,
          -153.43765,
          -153.4379,
          -153.4513,
          -153.355058,
          -153.355058,
          -153.287506,
          -155.208,
          -155.208,
          -152.3942,
          -152.3942,
          -157.9906,
          -152.4375,
          -152.4375,
          -152.8497,
          -152.8497,
          -153.0879,
          -153.0879,
          -153.0879,
          -153.0879,
          -157.0946,
          -152.2353,
          -152.2353,
          -152.2353,
          -152.2353,
          -153.2321,
          -153.2319,
          -153.2319,
          -153.2319,
          -153.2319,
          -156.1199,
          -156.1199,
          -156.1199,
          -156.1199,
          -154.1842,
          -158.0932,
          -158.0932,
          -154.3201,
          -154.3201,
          -154.3201,
          -154.3201,
          -153.1425,
          -153.1425,
          -153.0703,
          -158.061,
          -153.0185,
          -153.0185,
          -153.0185,
          -153.0185,
          -158.217,
          -153.06354,
          -158.2328,
          -152.5228,
          -152.5228,
          -152.5228,
          -152.5228,
          -158.2829,
          -154.4446,
          -154.4446,
          -154.4446,
          -154.4446,
          -152.624,
          -158.6603,
          -155.8897,
          -155.8897,
          -151.6515,
          -157.1867,
          -151.2373,
          -155.6225,
          -152.7742,
          -153.078922,
          -153.078922,
          -153.078922,
          -153.078922,
          -159.8246,
          -152.843634,
          -152.4102,
          -152.4102,
          -152.4102,
          -152.4102,
          -151.731343,
          -151.731343,
          -151.731343,
          -151.731343,
          -154.4838,
          -152.8058,
          -158.414154,
          -152.6883,
          -150.9063,
          -153.662817,
          -153.662817,
          -153.662817,
          -153.662817,
          -151.0011,
          -151.0011,
          -151.0011,
          -151.0011,
          -152.771768,
          -152.771768,
          -152.771768,
          -152.771768,
          -152.4075,
          -151.81063,
          -151.81063,
          -150.741394,
          -151.234407,
          -151.234407,
          -158.769,
          -156.5975,
          -156.5975,
          -156.5975,
          -156.5975,
          -157.3251,
          -157.3251,
          -157.3251,
          -157.3251,
          -159.1663,
          -155.7525,
          -155.7525,
          -155.7525,
          -155.7525,
          -159.0875,
          -152.391763,
          -152.391763,
          -152.391763,
          -152.391763,
          -160.0921,
          -158.0302,
          -158.0302,
          -158.0302,
          -158.0302,
          -159.7563,
          -159.4569,
          -159.5532,
          -159.1431,
          -159.1431,
          -155.8242,
          -159.5643,
          -159.3699,
          -161.2638,
          -159.5606,
          -157.4375,
          -158.9593,
          -152.2091,
          -152.3722,
          -157.778,
          -157.778,
          -157.778,
          -157.778,
          -155.9408,
          -155.9408,
          -155.9408,
          -155.9408,
          -151.1539,
          -150.223099,
          -158.6013,
          -158.6013,
          -154.434305,
          -154.434305,
          -154.434305,
          -154.434305,
          -152.0228,
          -149.4526,
          -156.603,
          -156.603,
          -156.603,
          -156.603,
          -151.8947,
          -151.6756,
          -151.6756,
          -151.6756,
          -151.6756,
          -149.7241,
          -158.3598,
          -158.3598,
          -158.3598,
          -158.3598,
          -160.6884,
          -151.8349,
          -161.6852,
          -156.868282,
          -156.868282,
          -156.868282,
          -156.868282,
          -158.3466,
          -158.3466,
          -149.066665,
          -149.066665,
          -157.4203,
          -157.4203,
          -157.4203,
          -157.4203,
          -153.4074,
          -153.4074,
          -153.1318,
          -155.0735,
          -155.0735,
          -150.7467,
          -154.8543,
          -154.8543,
          -150.2164,
          -150.2164,
          -149.739,
          -149.703732,
          -149.703732,
          -159.9136,
          -159.9136,
          -159.9136,
          -159.9136,
          -159.4747,
          -157.8522,
          -157.8522,
          -157.8522,
          -157.8522,
          -156.6886,
          -158.2972,
          -150.444793,
          -150.444793,
          -151.5317,
          -151.89947,
          -151.89947,
          -159.589493,
          -161.96,
          -158.1143,
          -158.1143,
          -158.1143,
          -158.1143,
          -155.035345,
          -155.035345,
          -155.035345,
          -155.035345,
          -150.1205,
          -153.8798,
          -148.333405,
          -148.333405,
          -147.4031,
          -149.130798,
          -158.5881,
          -158.5881,
          -158.5881,
          -158.5881,
          -153.422908,
          -153.422908,
          -159.361628,
          -159.361628,
          -159.361628,
          -159.361628,
          -160.2016,
          -148.4585,
          -162.061,
          -162.061,
          -148.926,
          -161.4869,
          -161.74373,
          -163.35,
          -156.011597,
          -161.79192,
          -161.9714,
          -158.3014,
          -161.85648,
          -150.2625,
          -161.9973,
          -146.3399,
          -146.3399,
          -159.346215,
          -159.346215,
          -159.346215,
          -159.346215,
          -155.799387,
          -155.799387,
          -161.90439,
          -148.331604,
          -161.3746,
          -161.3746,
          -159.8829,
          -159.8829,
          -159.8829,
          -159.8829,
          -162.6829,
          -157.331882,
          -157.331882,
          -160.256908,
          -160.256908,
          -160.256908,
          -160.256908,
          -159.7736,
          -159.7736,
          -159.7736,
          -159.7736,
          -152.189407,
          -146.503494,
          -146.503494,
          -146.5987,
          -162.2992,
          -162.2992,
          -147.7262,
          -154.07,
          -161.5308,
          -160.34289,
          -160.34289,
          -160.34289,
          -160.34289,
          -147.328995,
          -156.7154,
          -145.75,
          -152.084396,
          -159.617565,
          -159.617565,
          -159.617565,
          -159.617565,
          -159.0777,
          -158.91238,
          -158.91238,
          -158.91238,
          -158.91238,
          -156.579823,
          -156.579823,
          -145.7749,
          -160.6021,
          -150.923294,
          -145.9227,
          -150.2892,
          -163.417603,
          -155.6214,
          -152.3152,
          -144.6773,
          -160.081145,
          -160.081145,
          -160.081145,
          -160.081145,
          -144.729202,
          -144.418793,
          -146.175,
          -148.860199,
          -158.093575,
          -158.093575,
          -158.093575,
          -158.093575,
          -163.71274,
          -154.1467,
          -164.6555,
          -166.2011,
          -144.6051,
          -163.99723,
          -163.554,
          -150.987305,
          -143.9713,
          -148.9373,
          -160.695,
          -143.779007,
          -143.700394,
          -144.5982,
          -155.2376,
          -155.2376,
          -158.691562,
          -158.691562,
          -158.691562,
          -158.691562,
          -149.299103,
          -145.1568,
          -160.035832,
          -160.035832,
          -160.035832,
          -160.035832,
          -164.586,
          -156.8792,
          -143.8123,
          -144.3305,
          -145.4699,
          -154.4783,
          -143.454498,
          -142.8388,
          -149.0694,
          -149.0831,
          -142.487198,
          -148.0918,
          -149.2178,
          -142.493103,
          -148.8279,
          -149.9307,
          -149.8256,
          -149.1595,
          -149.1336,
          -151.9822,
          -158.3633,
          -142.360504,
          -159.9126,
          -142.346207,
          -149.5598,
          -149.1465,
          -147.8053,
          -141.949799,
          -145.7784,
          -149.1526,
          -149.1814,
          -146.9482,
          -154.8808,
          -162.239,
          -165.6987,
          -165.8868,
          -156.4494,
          -143.719421,
          -143.719421,
          -149.3603,
          -165.8177,
          -165.9936,
          -165.9338,
          -165.9647,
          -166.0358,
          -166.0126,
          -165.97798,
          -142.9963,
          -144.8462,
          -166.0708,
          -146.886597,
          -152.805,
          -157.367,
          -157.3705,
          -144.0674,
          -166.5045,
          -147.4335,
          -166.6813,
          -153.725143,
          -160.6514,
          -143.990494,
          -145.3697,
          -140.782806,
          -166.788,
          -158.654,
          -151.3773,
          -141.878,
          -166.7476,
          -162.3547,
          -140.252502,
          -157.087,
          -165.3732,
          -164.0386,
          -140.8426,
          -141.8275,
          -141.827713,
          -140.1906,
          -141.753143,
          -147.8781,
          -140.4595,
          -153.5058,
          -140.8606,
          -140.8606,
          -143.5636,
          -145.524597,
          -139.7646,
          -159.6514,
          -168.0431,
          -161.2502,
          -157.7728,
          -168.0513,
          -168.1661,
          -150.0239,
          -164.6483,
          -168.36,
          -151.5073,
          -155.7251,
          -168.2925,
          -138.5755,
          -143.1541,
          -166.3288,
          -147.4754,
          -147.4754,
          -153.483,
          -138.5463,
          -138.3626,
          -138.1399,
          -150.207,
          -137.7381,
          -157.2316,
          -168.854996,
          -137.8593,
          -145.234207,
          -161.8262,
          -138.4624,
          -167.9267,
          -137.5072,
          -137.5072,
          -160.6027,
          -139.3937,
          -139.3937,
          -141.6153,
          -136.9598,
          -147.8871,
          -138.129,
          -171.703598,
          -169.7229,
          -169.7229,
          -136.3659,
          -136.3659,
          -136.0906,
          -163.0831
         ],
         "marker": {
          "color": "#636efa",
          "symbol": "circle"
         },
         "mode": "markers",
         "name": "",
         "showlegend": false,
         "type": "scattergeo"
        }
       ],
       "layout": {
        "geo": {
         "center": {
          "lat": 64.99629206963439,
          "lon": -166.54543655912298
         },
         "domain": {
          "x": [
           0,
           1
          ],
          "y": [
           0,
           1
          ]
         },
         "projection": {
          "scale": 2.3374937389815
         },
         "resolution": 110,
         "scope": "north america",
         "showcountries": true
        },
        "height": 600,
        "legend": {
         "tracegroupgap": 0
        },
        "margin": {
         "t": 60
        },
        "template": {
         "data": {
          "bar": [
           {
            "error_x": {
             "color": "#2a3f5f"
            },
            "error_y": {
             "color": "#2a3f5f"
            },
            "marker": {
             "line": {
              "color": "#E5ECF6",
              "width": 0.5
             },
             "pattern": {
              "fillmode": "overlay",
              "size": 10,
              "solidity": 0.2
             }
            },
            "type": "bar"
           }
          ],
          "barpolar": [
           {
            "marker": {
             "line": {
              "color": "#E5ECF6",
              "width": 0.5
             },
             "pattern": {
              "fillmode": "overlay",
              "size": 10,
              "solidity": 0.2
             }
            },
            "type": "barpolar"
           }
          ],
          "carpet": [
           {
            "aaxis": {
             "endlinecolor": "#2a3f5f",
             "gridcolor": "white",
             "linecolor": "white",
             "minorgridcolor": "white",
             "startlinecolor": "#2a3f5f"
            },
            "baxis": {
             "endlinecolor": "#2a3f5f",
             "gridcolor": "white",
             "linecolor": "white",
             "minorgridcolor": "white",
             "startlinecolor": "#2a3f5f"
            },
            "type": "carpet"
           }
          ],
          "choropleth": [
           {
            "colorbar": {
             "outlinewidth": 0,
             "ticks": ""
            },
            "type": "choropleth"
           }
          ],
          "contour": [
           {
            "colorbar": {
             "outlinewidth": 0,
             "ticks": ""
            },
            "colorscale": [
             [
              0,
              "#0d0887"
             ],
             [
              0.1111111111111111,
              "#46039f"
             ],
             [
              0.2222222222222222,
              "#7201a8"
             ],
             [
              0.3333333333333333,
              "#9c179e"
             ],
             [
              0.4444444444444444,
              "#bd3786"
             ],
             [
              0.5555555555555556,
              "#d8576b"
             ],
             [
              0.6666666666666666,
              "#ed7953"
             ],
             [
              0.7777777777777778,
              "#fb9f3a"
             ],
             [
              0.8888888888888888,
              "#fdca26"
             ],
             [
              1,
              "#f0f921"
             ]
            ],
            "type": "contour"
           }
          ],
          "contourcarpet": [
           {
            "colorbar": {
             "outlinewidth": 0,
             "ticks": ""
            },
            "type": "contourcarpet"
           }
          ],
          "heatmap": [
           {
            "colorbar": {
             "outlinewidth": 0,
             "ticks": ""
            },
            "colorscale": [
             [
              0,
              "#0d0887"
             ],
             [
              0.1111111111111111,
              "#46039f"
             ],
             [
              0.2222222222222222,
              "#7201a8"
             ],
             [
              0.3333333333333333,
              "#9c179e"
             ],
             [
              0.4444444444444444,
              "#bd3786"
             ],
             [
              0.5555555555555556,
              "#d8576b"
             ],
             [
              0.6666666666666666,
              "#ed7953"
             ],
             [
              0.7777777777777778,
              "#fb9f3a"
             ],
             [
              0.8888888888888888,
              "#fdca26"
             ],
             [
              1,
              "#f0f921"
             ]
            ],
            "type": "heatmap"
           }
          ],
          "heatmapgl": [
           {
            "colorbar": {
             "outlinewidth": 0,
             "ticks": ""
            },
            "colorscale": [
             [
              0,
              "#0d0887"
             ],
             [
              0.1111111111111111,
              "#46039f"
             ],
             [
              0.2222222222222222,
              "#7201a8"
             ],
             [
              0.3333333333333333,
              "#9c179e"
             ],
             [
              0.4444444444444444,
              "#bd3786"
             ],
             [
              0.5555555555555556,
              "#d8576b"
             ],
             [
              0.6666666666666666,
              "#ed7953"
             ],
             [
              0.7777777777777778,
              "#fb9f3a"
             ],
             [
              0.8888888888888888,
              "#fdca26"
             ],
             [
              1,
              "#f0f921"
             ]
            ],
            "type": "heatmapgl"
           }
          ],
          "histogram": [
           {
            "marker": {
             "pattern": {
              "fillmode": "overlay",
              "size": 10,
              "solidity": 0.2
             }
            },
            "type": "histogram"
           }
          ],
          "histogram2d": [
           {
            "colorbar": {
             "outlinewidth": 0,
             "ticks": ""
            },
            "colorscale": [
             [
              0,
              "#0d0887"
             ],
             [
              0.1111111111111111,
              "#46039f"
             ],
             [
              0.2222222222222222,
              "#7201a8"
             ],
             [
              0.3333333333333333,
              "#9c179e"
             ],
             [
              0.4444444444444444,
              "#bd3786"
             ],
             [
              0.5555555555555556,
              "#d8576b"
             ],
             [
              0.6666666666666666,
              "#ed7953"
             ],
             [
              0.7777777777777778,
              "#fb9f3a"
             ],
             [
              0.8888888888888888,
              "#fdca26"
             ],
             [
              1,
              "#f0f921"
             ]
            ],
            "type": "histogram2d"
           }
          ],
          "histogram2dcontour": [
           {
            "colorbar": {
             "outlinewidth": 0,
             "ticks": ""
            },
            "colorscale": [
             [
              0,
              "#0d0887"
             ],
             [
              0.1111111111111111,
              "#46039f"
             ],
             [
              0.2222222222222222,
              "#7201a8"
             ],
             [
              0.3333333333333333,
              "#9c179e"
             ],
             [
              0.4444444444444444,
              "#bd3786"
             ],
             [
              0.5555555555555556,
              "#d8576b"
             ],
             [
              0.6666666666666666,
              "#ed7953"
             ],
             [
              0.7777777777777778,
              "#fb9f3a"
             ],
             [
              0.8888888888888888,
              "#fdca26"
             ],
             [
              1,
              "#f0f921"
             ]
            ],
            "type": "histogram2dcontour"
           }
          ],
          "mesh3d": [
           {
            "colorbar": {
             "outlinewidth": 0,
             "ticks": ""
            },
            "type": "mesh3d"
           }
          ],
          "parcoords": [
           {
            "line": {
             "colorbar": {
              "outlinewidth": 0,
              "ticks": ""
             }
            },
            "type": "parcoords"
           }
          ],
          "pie": [
           {
            "automargin": true,
            "type": "pie"
           }
          ],
          "scatter": [
           {
            "fillpattern": {
             "fillmode": "overlay",
             "size": 10,
             "solidity": 0.2
            },
            "type": "scatter"
           }
          ],
          "scatter3d": [
           {
            "line": {
             "colorbar": {
              "outlinewidth": 0,
              "ticks": ""
             }
            },
            "marker": {
             "colorbar": {
              "outlinewidth": 0,
              "ticks": ""
             }
            },
            "type": "scatter3d"
           }
          ],
          "scattercarpet": [
           {
            "marker": {
             "colorbar": {
              "outlinewidth": 0,
              "ticks": ""
             }
            },
            "type": "scattercarpet"
           }
          ],
          "scattergeo": [
           {
            "marker": {
             "colorbar": {
              "outlinewidth": 0,
              "ticks": ""
             }
            },
            "type": "scattergeo"
           }
          ],
          "scattergl": [
           {
            "marker": {
             "colorbar": {
              "outlinewidth": 0,
              "ticks": ""
             }
            },
            "type": "scattergl"
           }
          ],
          "scattermapbox": [
           {
            "marker": {
             "colorbar": {
              "outlinewidth": 0,
              "ticks": ""
             }
            },
            "type": "scattermapbox"
           }
          ],
          "scatterpolar": [
           {
            "marker": {
             "colorbar": {
              "outlinewidth": 0,
              "ticks": ""
             }
            },
            "type": "scatterpolar"
           }
          ],
          "scatterpolargl": [
           {
            "marker": {
             "colorbar": {
              "outlinewidth": 0,
              "ticks": ""
             }
            },
            "type": "scatterpolargl"
           }
          ],
          "scatterternary": [
           {
            "marker": {
             "colorbar": {
              "outlinewidth": 0,
              "ticks": ""
             }
            },
            "type": "scatterternary"
           }
          ],
          "surface": [
           {
            "colorbar": {
             "outlinewidth": 0,
             "ticks": ""
            },
            "colorscale": [
             [
              0,
              "#0d0887"
             ],
             [
              0.1111111111111111,
              "#46039f"
             ],
             [
              0.2222222222222222,
              "#7201a8"
             ],
             [
              0.3333333333333333,
              "#9c179e"
             ],
             [
              0.4444444444444444,
              "#bd3786"
             ],
             [
              0.5555555555555556,
              "#d8576b"
             ],
             [
              0.6666666666666666,
              "#ed7953"
             ],
             [
              0.7777777777777778,
              "#fb9f3a"
             ],
             [
              0.8888888888888888,
              "#fdca26"
             ],
             [
              1,
              "#f0f921"
             ]
            ],
            "type": "surface"
           }
          ],
          "table": [
           {
            "cells": {
             "fill": {
              "color": "#EBF0F8"
             },
             "line": {
              "color": "white"
             }
            },
            "header": {
             "fill": {
              "color": "#C8D4E3"
             },
             "line": {
              "color": "white"
             }
            },
            "type": "table"
           }
          ]
         },
         "layout": {
          "annotationdefaults": {
           "arrowcolor": "#2a3f5f",
           "arrowhead": 0,
           "arrowwidth": 1
          },
          "autotypenumbers": "strict",
          "coloraxis": {
           "colorbar": {
            "outlinewidth": 0,
            "ticks": ""
           }
          },
          "colorscale": {
           "diverging": [
            [
             0,
             "#8e0152"
            ],
            [
             0.1,
             "#c51b7d"
            ],
            [
             0.2,
             "#de77ae"
            ],
            [
             0.3,
             "#f1b6da"
            ],
            [
             0.4,
             "#fde0ef"
            ],
            [
             0.5,
             "#f7f7f7"
            ],
            [
             0.6,
             "#e6f5d0"
            ],
            [
             0.7,
             "#b8e186"
            ],
            [
             0.8,
             "#7fbc41"
            ],
            [
             0.9,
             "#4d9221"
            ],
            [
             1,
             "#276419"
            ]
           ],
           "sequential": [
            [
             0,
             "#0d0887"
            ],
            [
             0.1111111111111111,
             "#46039f"
            ],
            [
             0.2222222222222222,
             "#7201a8"
            ],
            [
             0.3333333333333333,
             "#9c179e"
            ],
            [
             0.4444444444444444,
             "#bd3786"
            ],
            [
             0.5555555555555556,
             "#d8576b"
            ],
            [
             0.6666666666666666,
             "#ed7953"
            ],
            [
             0.7777777777777778,
             "#fb9f3a"
            ],
            [
             0.8888888888888888,
             "#fdca26"
            ],
            [
             1,
             "#f0f921"
            ]
           ],
           "sequentialminus": [
            [
             0,
             "#0d0887"
            ],
            [
             0.1111111111111111,
             "#46039f"
            ],
            [
             0.2222222222222222,
             "#7201a8"
            ],
            [
             0.3333333333333333,
             "#9c179e"
            ],
            [
             0.4444444444444444,
             "#bd3786"
            ],
            [
             0.5555555555555556,
             "#d8576b"
            ],
            [
             0.6666666666666666,
             "#ed7953"
            ],
            [
             0.7777777777777778,
             "#fb9f3a"
            ],
            [
             0.8888888888888888,
             "#fdca26"
            ],
            [
             1,
             "#f0f921"
            ]
           ]
          },
          "colorway": [
           "#636efa",
           "#EF553B",
           "#00cc96",
           "#ab63fa",
           "#FFA15A",
           "#19d3f3",
           "#FF6692",
           "#B6E880",
           "#FF97FF",
           "#FECB52"
          ],
          "font": {
           "color": "#2a3f5f"
          },
          "geo": {
           "bgcolor": "white",
           "lakecolor": "white",
           "landcolor": "#E5ECF6",
           "showlakes": true,
           "showland": true,
           "subunitcolor": "white"
          },
          "hoverlabel": {
           "align": "left"
          },
          "hovermode": "closest",
          "mapbox": {
           "style": "light"
          },
          "paper_bgcolor": "white",
          "plot_bgcolor": "#E5ECF6",
          "polar": {
           "angularaxis": {
            "gridcolor": "white",
            "linecolor": "white",
            "ticks": ""
           },
           "bgcolor": "#E5ECF6",
           "radialaxis": {
            "gridcolor": "white",
            "linecolor": "white",
            "ticks": ""
           }
          },
          "scene": {
           "xaxis": {
            "backgroundcolor": "#E5ECF6",
            "gridcolor": "white",
            "gridwidth": 2,
            "linecolor": "white",
            "showbackground": true,
            "ticks": "",
            "zerolinecolor": "white"
           },
           "yaxis": {
            "backgroundcolor": "#E5ECF6",
            "gridcolor": "white",
            "gridwidth": 2,
            "linecolor": "white",
            "showbackground": true,
            "ticks": "",
            "zerolinecolor": "white"
           },
           "zaxis": {
            "backgroundcolor": "#E5ECF6",
            "gridcolor": "white",
            "gridwidth": 2,
            "linecolor": "white",
            "showbackground": true,
            "ticks": "",
            "zerolinecolor": "white"
           }
          },
          "shapedefaults": {
           "line": {
            "color": "#2a3f5f"
           }
          },
          "ternary": {
           "aaxis": {
            "gridcolor": "white",
            "linecolor": "white",
            "ticks": ""
           },
           "baxis": {
            "gridcolor": "white",
            "linecolor": "white",
            "ticks": ""
           },
           "bgcolor": "#E5ECF6",
           "caxis": {
            "gridcolor": "white",
            "linecolor": "white",
            "ticks": ""
           }
          },
          "title": {
           "x": 0.05
          },
          "xaxis": {
           "automargin": true,
           "gridcolor": "white",
           "linecolor": "white",
           "ticks": "",
           "title": {
            "standoff": 15
           },
           "zerolinecolor": "white",
           "zerolinewidth": 2
          },
          "yaxis": {
           "automargin": true,
           "gridcolor": "white",
           "linecolor": "white",
           "ticks": "",
           "title": {
            "standoff": 15
           },
           "zerolinecolor": "white",
           "zerolinewidth": 2
          }
         }
        },
        "width": 1000
       }
      },
      "image/png": "[encoded data removed]",
      "text/html": [
       "<div>                            <div id=\"69d0bb57-0090-43d1-8576-abe4553b9dfc\" class=\"plotly-graph-div\" style=\"height:600px; width:1000px;\"></div>            <script type=\"text/javascript\">                require([\"plotly\"], function(Plotly) {                    window.PLOTLYENV=window.PLOTLYENV || {};                                    if (document.getElementById(\"69d0bb57-0090-43d1-8576-abe4553b9dfc\")) {                    Plotly.newPlot(                        \"69d0bb57-0090-43d1-8576-abe4553b9dfc\",                        [{\"customdata\":[[12.321,0.7762237762237763,15.873],[12.321,0.4107,30.0],[6.771,0.42358461057241165,15.985],[9.99,0.6244140258766173,15.999],[9.99,0.33391269469884355,29.918],[17.871000000000002,1.1036250231581548,16.193],[17.871000000000002,0.600060439191458,29.782],[29.526000000000003,1.8133022170361728,16.283],[29.304000000000002,1.795038284839204,16.325],[10.656,0.6515438703760318,16.355],[28.305,1.72644098810613,16.395],[28.305,0.9223775540131,30.687],[35.076,2.123887375113533,16.515],[35.076,1.1451144265613267,30.631],[38.073,2.301178603807797,16.545],[38.073,1.2307418781315662,30.935],[33.855,2.0265174188914163,16.706],[40.071,2.3930128396536277,16.745],[39.516,2.3473921824878223,16.834],[47.507999999999996,2.751694178974804,17.265],[47.507999999999996,2.751694178974804,17.265],[47.507999999999996,1.4686987974155252,32.347],[47.507999999999996,1.4686987974155252,32.347],[54.723,3.135090232025208,17.455],[54.723,1.6687911685777017,32.792],[64.935,3.640874684608915,17.835],[64.935,1.9683834005274488,32.989],[72.816,3.958466974721392,18.395],[72.816,2.1343651072810412,34.116],[88.35600000000001,4.510260336906586,19.59],[88.35600000000001,4.510260336906586,19.59],[88.35600000000001,2.437743136984412,36.245],[88.35600000000001,2.437743136984412,36.245],[97.236,4.912894098625707,19.792],[97.236,4.912894098625707,19.792],[97.236,2.6307729769216204,36.961],[97.236,2.6307729769216204,36.961],[96.348,4.797012696041822,20.085],[96.348,2.613323207117283,36.868],[106.116,5.132575574365175,20.675],[106.116,2.7619989588755853,38.42],[119.103,5.47851885924563,21.74],[119.103,5.47851885924563,21.74],[119.103,3.009703585778182,39.573],[119.103,3.009703585778182,39.573],[113.109,5.171879286694101,21.87],[116.328,5.308145106091718,21.915],[116.328,2.868896123113347,40.548],[121.212,5.490917327293318,22.075],[121.212,2.901474530831099,41.776],[117.438,5.3141771120865195,22.099],[116.883,5.267372690401081,22.19],[116.883,2.855819976544175,40.928],[116.994,5.212707182320442,22.444],[116.994,2.964274855579203,39.468],[122.211,5.333231507746018,22.915],[125.874,5.426773011424876,23.195],[125.874,3.012420725140601,41.785],[130.75799999999998,5.581985058697971,23.425],[130.75799999999998,3.0483273108753925,42.895],[139.638,5.807361197754211,24.045],[139.638,3.1415329928682314,44.449],[155.39999999999998,5.9988419224088005,25.905],[155.39999999999998,3.33791562849042,46.556],[158.175,6.068482639554959,26.065],[158.175,3.347264839699503,47.255],[162.83700000000002,6.225845918562417,26.155],[162.83700000000002,3.495331315603065,46.587],[156.177,5.959816828849457,26.205],[156.177,3.338042618676128,46.787],[157.065,5.961852343898273,26.345],[157.065,3.333368704768777,47.119],[156.51,5.940334762971116,26.347],[157.398,5.969507338718853,26.367],[166.278,6.304379146919431,26.375],[166.278,6.304379146919431,26.375],[166.278,3.476800836382645,47.825],[166.278,3.476800836382645,47.825],[157.176,5.938340637751247,26.468],[158.952,5.997962341043734,26.501],[158.952,5.997962341043734,26.501],[158.952,3.354408475077027,47.386],[158.952,3.354408475077027,47.386],[160.284,6.029567768874845,26.583],[161.172,6.044327770485656,26.665],[161.172,3.3770271969157273,47.726],[170.16299999999998,6.3576685970483835,26.765],[170.385,6.360022396416573,26.79],[170.385,3.495363722151561,48.746],[171.38400000000001,6.280562884784521,27.288],[171.38400000000001,3.5483229813664603,48.3],[174.49200000000002,6.290266762797406,27.74],[184.26,6.553796905566424,28.115],[184.26,3.650520059435364,50.475],[183.261,6.475424896646762,28.301],[183.261,3.5855490990197807,51.111],[186.036,6.492270109928459,28.655],[186.036,6.492270109928459,28.655],[186.036,3.5983752417794967,51.7],[186.036,3.5983752417794967,51.7],[191.25300000000001,6.631518723994453,28.84],[196.47,6.697460371569797,29.335],[196.47,6.697460371569797,29.335],[196.47,3.7469247639935155,52.435],[196.47,3.7469247639935155,52.435],[189.144,6.416228501645239,29.479],[189.144,6.408402507199729,29.515],[189.144,6.408402507199729,29.515],[189.144,3.588389299943085,52.71],[189.144,3.588389299943085,52.71],[189.477,6.244092931290163,30.345],[189.477,6.244092931290163,30.345],[189.477,3.5968905425414786,52.678],[189.477,3.5968905425414786,52.678],[206.349,6.6881340550351664,30.853],[213.675,6.816659222867352,31.346],[213.675,3.7697817610839617,56.681],[215.34,6.811323738731615,31.615],[215.34,6.811323738731615,31.615],[215.34,3.755886559458611,57.334],[215.34,3.755886559458611,57.334],[221.556,6.7851652221847925,32.653],[221.556,3.7883181724916217,58.484],[221.44500000000002,6.7462300076161466,32.825],[226.88400000000001,6.790697674418605,33.411],[228.549,6.809146432295546,33.565],[228.549,6.809146432295546,33.565],[228.549,3.818569137205106,59.852],[228.549,3.818569137205106,59.852],[229.659,6.6500361951643265,34.535],[230.76900000000003,6.652128794211755,34.691],[235.65300000000002,6.784309774003168,34.735],[237.984,6.763406940063092,35.187],[237.984,6.763406940063092,35.187],[237.984,3.8380801857884723,62.006],[237.984,3.8380801857884723,62.006],[244.97699999999998,6.905623678646934,35.475],[250.30499999999998,7.042711234911792,35.541],[250.30499999999998,7.042711234911792,35.541],[250.30499999999998,3.883527531689758,64.453],[250.30499999999998,3.883527531689758,64.453],[247.53,6.882524676769081,35.965],[252.969,6.78838051791225,37.265],[264.18,7.069685292228645,37.368],[264.18,4.064432751776978,64.998],[255.74399999999997,6.831864080782176,37.434],[267.288,7.096078795762869,37.667],[268.176,7.036339306798205,38.113],[277.944,7.220637518509859,38.493],[273.171,7.076052324828391,38.605],[274.503,7.106689794438979,38.626],[274.503,7.106689794438979,38.626],[274.503,3.9837314602501954,68.906],[274.503,3.9837314602501954,68.906],[277.611,7.131213234349713,38.929],[277.611,7.1136707238949395,39.025],[282.71700000000004,7.183215610549318,39.358],[282.71700000000004,7.183215610549318,39.358],[282.71700000000004,4.042394692441878,69.938],[282.71700000000004,4.042394692441878,69.938],[283.716,7.201096474529811,39.399],[283.716,7.201096474529811,39.399],[283.716,4.0465534209062515,70.113],[283.716,4.0465534209062515,70.113],[280.497,7.094006069802732,39.54],[288.48900000000003,7.150551493369687,40.345],[291.819,7.197410284868664,40.545],[291.819,7.172643480398182,40.685],[296.59200000000004,7.267630482724823,40.81],[300.588,7.3221280327389655,41.052],[300.588,7.3221280327389655,41.052],[300.588,4.173616028658309,72.021],[300.588,4.173616028658309,72.021],[301.03200000000004,7.304119959237154,41.214],[301.03200000000004,7.304119959237154,41.214],[301.03200000000004,4.035606080918037,74.594],[301.03200000000004,4.035606080918037,74.594],[308.13599999999997,7.459475162196184,41.308],[308.13599999999997,7.459475162196184,41.308],[308.13599999999997,4.224976690615915,72.932],[308.13599999999997,4.224976690615915,72.932],[298.368,7.192189948174039,41.485],[309.912,7.410971352049357,41.818],[309.912,7.410971352049357,41.818],[304.14000000000004,7.228864117129752,42.073],[312.687,7.336453860772858,42.621],[312.687,7.336453860772858,42.621],[309.35699999999997,7.229487509055643,42.791],[313.242,7.317883424833548,42.805],[313.242,7.317883424833548,42.805],[313.242,4.126763717805152,75.905],[313.242,4.126763717805152,75.905],[323.34299999999996,7.393570072942628,43.733],[323.34299999999996,7.393570072942628,43.733],[323.34299999999996,4.081428373073476,79.223],[323.34299999999996,4.081428373073476,79.223],[329.004,7.236105307145842,45.467],[341.65799999999996,7.452134272689597,45.847],[341.65799999999996,7.452134272689597,45.847],[341.65799999999996,4.067986712229273,83.987],[341.65799999999996,4.067986712229273,83.987],[333.555,7.274918211559433,45.85],[363.969,7.861441098967558,46.298],[363.969,7.861441098967558,46.298],[363.969,4.367907546082949,83.328],[363.969,4.367907546082949,83.328],[340.88100000000003,7.334717590102206,46.475],[334.443,7.175964468094236,46.606],[334.443,7.175964468094236,46.606],[334.443,4.068748631353561,82.198],[334.443,4.068748631353561,82.198],[337.773,7.211978221415609,46.835],[341.103,7.233654967659845,47.155],[340.77,7.212368777514392,47.248],[353.757,7.425785595835345,47.639],[353.757,7.425785595835345,47.639],[353.202,7.36113542578467,47.982],[351.648,7.307275107536937,48.123],[352.98,7.330079950160939,48.155],[358.53,7.37989378782265,48.582],[357.753,7.350132517001212,48.673],[362.193,7.388225934765313,49.023],[363.414,7.371331210320277,49.301],[363.19199999999995,7.31548734062481,49.647],[364.746,7.332314805508092,49.745],[377.06699999999995,7.55554442351621,49.906],[377.06699999999995,7.55554442351621,49.906],[377.06699999999995,4.176778138396268,90.277],[377.06699999999995,4.176778138396268,90.277],[382.728,7.661301945712227,49.956],[382.728,7.661301945712227,49.956],[382.728,4.32226588968695,88.548],[382.728,4.32226588968695,88.548],[357.86400000000003,7.157709462567754,49.997],[375.62399999999997,7.492549817485488,50.133],[372.405,7.371582968784022,50.519],[372.405,7.371582968784022,50.519],[401.26500000000004,7.907322744649825,50.746],[401.26500000000004,7.907322744649825,50.746],[401.26500000000004,4.450044914662142,90.171],[401.26500000000004,4.450044914662142,90.171],[376.956,7.399273726567867,50.945],[386.28,7.527916902149552,51.313],[388.056,7.538434640713328,51.477],[388.056,7.538434640713328,51.477],[388.056,4.262290760511401,91.044],[388.056,4.262290760511401,91.044],[388.5,7.4523795822063645,52.131],[413.586,7.92355882521984,52.197],[413.586,7.92355882521984,52.197],[413.586,4.428542364895975,93.391],[413.586,4.428542364895975,93.391],[395.604,7.516701501045031,52.63],[393.162,7.440049958368026,52.844],[393.162,7.440049958368026,52.844],[393.162,4.142995637421231,94.898],[393.162,4.142995637421231,94.898],[402.042,7.531274001086487,53.383],[401.82,7.490353248205797,53.645],[405.039,7.531825873514699,53.777],[418.803,7.737127972066729,54.129],[418.803,7.737127972066729,54.129],[418.803,4.341682130602005,96.461],[418.803,4.341682130602005,96.461],[428.46,7.748480902777778,55.296],[428.46,7.748480902777778,55.296],[433.344,7.829584259309447,55.347],[433.344,7.829584259309447,55.347],[425.241,7.678463733049241,55.381],[425.241,7.678463733049241,55.381],[425.241,4.32094011014693,98.414],[425.241,4.32094011014693,98.414],[437.118,7.88210685756532,55.457],[437.118,7.88210685756532,55.457],[413.142,7.44829451215115,55.468],[438.78299999999996,7.888800992430915,55.621],[438.78299999999996,7.888800992430915,55.621],[430.902,7.587237863821246,56.793],[429.348,7.533742761888051,56.99],[429.348,7.533742761888051,56.99],[422.688,7.416489744354569,56.993],[422.688,7.416489744354569,56.993],[437.007,7.6393147452145795,57.205],[459.318,7.959898793844447,57.704],[459.318,7.959898793844447,57.704],[443.667,7.663304257707918,57.895],[443.667,7.663304257707918,57.895],[443.667,4.204378109452736,105.525],[443.667,4.204378109452736,105.525],[441.89099999999996,7.590672507085801,58.215],[452.214,7.752284298767422,58.333],[452.214,7.752284298767422,58.333],[452.214,4.350930870255448,103.935],[452.214,4.350930870255448,103.935],[439.56,7.466621369118397,58.87],[454.54499999999996,7.601722552052847,59.795],[476.63399999999996,7.965672839093521,59.836],[476.63399999999996,7.965672839093521,59.836],[456.21000000000004,7.5866828530091635,60.133],[482.51700000000005,7.953271028037385,60.669],[482.51700000000005,7.953271028037385,60.669],[467.64300000000003,7.705691405220143,60.688],[461.76,7.5248105597653385,61.365],[494.061,7.993221161624332,61.81],[494.061,7.993221161624332,61.81],[494.061,4.423502551705614,111.69],[494.061,4.423502551705614,111.69],[490.17600000000004,7.912190082644629,61.952],[490.17600000000004,7.912190082644629,61.952],[490.17600000000004,4.485669314396574,109.276],[490.17600000000004,4.485669314396574,109.276],[476.63399999999996,7.691739151483854,61.967],[468.08699999999993,7.532417166857087,62.143],[481.629,7.739125544325359,62.233],[481.629,7.739125544325359,62.233],[485.73600000000005,7.629560983271814,63.665],[498.83399999999995,7.808311810284104,63.885],[516.1500000000001,8.005055988088962,64.478],[516.1500000000001,8.005055988088962,64.478],[516.1500000000001,4.46786409867994,115.525],[516.1500000000001,4.46786409867994,115.525],[517.149,7.967169927592051,64.91],[517.149,7.967169927592051,64.91],[504.60600000000005,7.739711949936347,65.197],[504.60600000000005,7.739711949936347,65.197],[504.60600000000005,4.27882405813569,117.931],[504.60600000000005,4.27882405813569,117.931],[513.597,7.825524523472139,65.631],[512.376,7.7924353261448145,65.753],[501.276,7.587618254749112,66.065],[501.276,7.587618254749112,66.065],[520.479,7.851190925135383,66.293],[506.604,7.636248530342769,66.342],[506.271,7.630999035331003,66.344],[511.044,7.640636914106301,66.885],[513.264,7.653231939163499,67.065],[512.043,7.626042535446205,67.144],[510.711,7.591619223165312,67.273],[514.707,7.621111390793194,67.537],[517.038,7.597578358044466,68.053],[530.6909999999999,7.792247265252183,68.105],[517.26,7.589465189641259,68.155],[527.916,7.676321758855348,68.772],[527.916,7.676321758855348,68.772],[536.13,7.787833008918974,68.842],[536.13,7.787833008918974,68.842],[536.13,4.434454636438078,120.901],[536.13,4.434454636438078,120.901],[548.784,7.961930185996576,68.926],[548.784,7.961930185996576,68.926],[521.4780000000001,7.549227673465843,69.077],[545.898,7.8758385872779995,69.313],[539.016,7.76120950323974,69.45],[539.016,7.76120950323974,69.45],[546.8969999999999,7.858280048854083,69.595],[546.8969999999999,7.858280048854083,69.595],[546.8969999999999,4.425126831675958,123.589],[546.8969999999999,4.425126831675958,123.589],[530.913,7.612638189873962,69.741],[564.6569999999999,8.06111610775622,70.047],[564.6569999999999,8.06111610775622,70.047],[551.7810000000001,7.792856537581562,70.806],[551.7810000000001,7.792856537581562,70.806],[551.7810000000001,4.337423554011352,127.214],[551.7810000000001,4.337423554011352,127.214],[570.096,8.029521126760564,71.0],[570.096,8.029521126760564,71.0],[570.096,4.457705840957073,127.89],[570.096,4.457705840957073,127.89],[535.242,7.532996495573727,71.053],[547.563,7.704233675235322,71.073],[547.563,7.704233675235322,71.073],[557.109,7.791189427312776,71.505],[558.108,7.764980869565217,71.875],[558.108,7.764980869565217,71.875],[568.986,7.8643538355217695,72.35],[562.992,7.700720841483265,73.109],[558.2189999999999,7.624380249948779,73.215],[592.629,7.983793396112032,74.229],[592.629,7.983793396112032,74.229],[592.629,4.522573604603244,131.038],[592.629,4.522573604603244,131.038],[587.967,7.882334803533843,74.593],[576.201,7.629679162087367,75.521],[592.185,7.786477850972348,76.053],[591.7410000000001,7.754131013064616,76.313],[617.271,8.054162317327766,76.64],[617.271,8.054162317327766,76.64],[617.271,4.547819552195919,135.729],[617.271,4.547819552195919,135.729],[599.178,7.7256469435383,77.557],[642.801,8.124175324182907,79.122],[642.801,8.124175324182907,79.122],[642.801,4.607826411090881,139.502],[642.801,4.607826411090881,139.502],[635.0310000000001,8.021005166033017,79.171],[635.0310000000001,8.021005166033017,79.171],[616.494,7.776847098003104,79.273],[621.045,7.75511350865363,80.082],[626.484,7.820004244005343,80.113],[628.482,7.837117952938535,80.193],[629.925,7.851195891964652,80.233],[627.261,7.725555158695946,81.193],[630.0360000000001,7.7368634337430775,81.433],[637.695,7.744374142307179,82.343],[642.135,7.779588325801723,82.541],[670.107,8.07571886524139,82.978],[670.107,8.07571886524139,82.978],[670.107,4.605039995601858,145.516],[670.107,4.605039995601858,145.516],[645.798,7.780042647005674,83.007],[643.8,7.741702741702741,83.16],[654.3449999999999,7.865668950595023,83.19],[662.337,7.941404985432178,83.403],[659.784,7.907665755788868,83.436],[659.784,7.907665755788868,83.436],[659.784,4.585367887746805,143.889],[659.784,4.585367887746805,143.889],[651.126,7.782537500747026,83.665],[653.013,7.798194389710887,83.739],[653.79,7.788870489283885,83.939],[657.342,7.7870283717348805,84.415],[666.7769999999999,7.832180235631306,85.133],[666.0,7.750765184400712,85.927],[666.222,7.732291872192755,86.161],[681.207,7.906210466452339,86.161],[675.435,7.776134008749712,86.86],[690.42,7.9292088247792085,87.073],[681.8729999999999,7.78100715483893,87.633],[681.8729999999999,7.767534316796719,87.785],[694.083,7.828062617012158,88.666],[696.081,7.839632841536209,88.79],[377.844,4.252557652699463,88.851],[377.844,4.252557652699463,88.851],[733.4879999999999,8.08866245409733,90.681],[733.4879999999999,8.08866245409733,90.681],[733.4879999999999,4.578033816214057,160.219],[733.4879999999999,4.578033816214057,160.219],[723.609,7.9471187110803605,91.053],[716.0609999999999,7.863185636633173,91.065],[745.92,8.17634743338193,91.229],[745.92,8.17634743338193,91.229],[745.92,4.618156377887431,161.519],[745.92,4.618156377887431,161.519],[711.8430000000001,7.750481789972237,91.845],[718.17,7.792220474149622,92.165],[726.051,7.849794038467777,92.493],[728.271,7.83887842419676,92.905],[741.702,7.945132989834286,93.353],[720.168,7.6910622937514015,93.637],[734.709,7.843337994939843,93.673],[735.153,7.795482742166374,94.305],[769.785,7.998181723725907,96.245],[765.234,7.908414460221988,96.762],[752.358,7.754988867815617,97.016],[781.773,8.04185654182054,97.213],[764.346,7.855963821368005,97.295],[758.796,7.792673533731117,97.373],[784.881,8.029637435037033,97.748],[769.008,7.85961182711078,97.843],[779.9970000000001,7.9055085389955915,98.665],[773.7810000000001,7.824822020872098,98.888],[779.7750000000001,7.868408306593207,99.102],[780.885,7.872618207480593,99.19],[775.224,7.8008392283928885,99.377],[779.7750000000001,7.843793065293273,99.413],[773.337,7.777702906567434,99.43],[784.104,7.851010783695293,99.873],[786.879,7.876272458835894,99.905],[785.658,7.861296778066841,99.94],[805.305,8.032727200183535,100.253],[783.438,7.801069433518874,100.427],[793.206,7.893382426112051,100.49],[791.6519999999999,7.868678435114503,100.608],[796.203,7.894296932320688,100.858],[807.303,8.000624349635796,100.905],[796.425,7.837054603780639,101.623],[790.986,7.779705526540969,101.673],[792.8729999999999,7.793665772168322,101.733],[799.0889999999999,7.827912854371975,102.082],[802.308,7.848221622256133,102.228],[810.3,7.9223699648025026,102.28],[810.3,7.9223699648025026,102.28],[818.736,8.004066868706618,102.29],[798.423,7.800679999609196,102.353],[801.3090000000001,7.816962413056415,102.509],[805.416,7.833338196247776,102.819],[804.972,7.798982706002034,103.215],[806.082,7.809207339520645,103.222],[809.856,7.845085294146139,103.231],[808.1909999999999,7.824787483298801,103.286],[810.966,7.850894516728624,103.296],[821.178,7.926352062238782,103.601],[810.078,7.794007850985221,103.936],[841.38,8.050327704157297,104.515],[824.508,7.884747059386058,104.57],[464.979,4.410686675330342,105.421],[464.979,4.410686675330342,105.421],[843.3779999999999,7.95242001640689,106.053],[851.925,7.939137241745645,107.307],[858.918,7.996257505934925,107.415],[852.1469999999999,7.8978553421813595,107.896],[853.59,7.88666937689408,108.232],[844.1550000000001,7.794382427079583,108.303],[869.9069999999999,8.031418204647641,108.313],[872.46,8.043997381547285,108.461],[846.486,7.8022176545952275,108.493],[861.36,7.910150331058929,108.893],[858.474,7.878727251034775,108.961],[864.579,7.908192852634756,109.327],[860.139,7.848699698877635,109.59],[866.688,7.896929384965832,109.75],[866.577,7.820033388981636,110.815],[875.124,7.889899654696755,110.917],[873.237,7.854899209326172,111.171],[873.3480000000001,7.8335605625717575,111.488],[870.6840000000001,7.800779465125657,111.615],[885.2249999999999,7.839052468452512,112.925],[898.5450000000001,7.94462471596184,113.101],[898.5450000000001,7.935713781043559,113.228],[889.887,7.824695765334834,113.728],[901.764,7.9115291145015405,113.981],[917.748,8.047456200347241,114.042],[904.5389999999999,7.845431284964655,115.295],[914.307,7.917791729811648,115.475],[910.422,7.870992841581077,115.668],[910.422,7.870992841581077,115.668],[924.0749999999999,7.987854950944374,115.685],[945.7199999999999,8.062885253169412,117.293],[924.63,7.8262304794955355,118.145],[945.387,7.921263867010758,119.348],[962.5920000000001,7.990768949802015,120.463],[951.1590000000001,7.894877072992581,120.478],[953.2679999999999,7.907787769187377,120.548],[958.041,7.9421112842789405,120.628],[959.262,7.937822204936821,120.847],[968.9189999999999,8.00991195800438,120.965],[951.6030000000001,7.830512240279778,121.525],[976.8000000000001,7.9651646362346495,122.634],[973.692,7.938655708834752,122.652],[969.141,7.892863250995626,122.787],[984.5699999999999,7.982633230365091,123.339],[969.5849999999999,7.851590020163738,123.489],[999.8879999999999,8.06706092120019,123.947],[978.687,7.849779831083519,124.677],[1010.988,8.098140049021964,124.842],[1010.988,8.098140049021964,124.842],[992.3399999999999,7.9140913477258765,125.389],[991.563,7.886760787432889,125.725],[990.564,7.843255869195138,126.295],[996.003,7.872856905723614,126.511],[1021.1999999999999,8.036135855708395,127.076],[1011.876,7.883355667051014,128.356],[1018.869,7.895087988469676,129.051],[1033.299,8.000394871318406,129.156],[1020.756,7.897226412904724,129.255],[1048.173,8.099816856893368,129.407],[1026.528,7.917869291229262,129.647],[1026.528,7.908962732967109,129.793],[1035.741,7.917056503393872,130.824],[1034.298,7.891729805205209,131.061],[1034.298,7.891729805205209,131.061],[1044.51,7.967945441646515,131.089],[1058.2740000000001,7.965032175516502,132.865],[1058.2740000000001,7.965032175516502,132.865],[1073.9250000000002,8.052947704674636,133.358],[1056.8310000000001,7.898292291020516,133.805],[1085.691,8.062760387657347,134.655],[1068.153,7.931456193891871,134.673],[1064.823,7.873231001286545,135.246],[1091.019,7.921605785357991,137.727],[1091.019,7.921605785357991,137.727],[1089.2430000000002,7.891692749087117,138.024],[1089.2430000000002,7.891692749087117,138.024],[1109.778,7.947080474915143,139.646],[1110.555,7.950708762886598,139.68]],\"geo\":\"geo\",\"hovertemplate\":\"<b>%{hovertext}</b><br><br>latitude=%{lat}<br>longitude=%{lon}<br>distance=%{customdata[0]}<br>velocity=%{customdata[1]}<br>travel_time=%{customdata[2]}<extra></extra>\",\"hovertext\":[\"ACH\",\"ACH\",\"KVT\",\"ET19\",\"ET19\",\"ANCK\",\"ANCK\",\"KAWH\",\"KEL\",\"KCE\",\"ET20\",\"ET20\",\"Q17K\",\"Q17K\",\"ET18\",\"ET18\",\"KJL\",\"KAHC\",\"KARR\",\"KAHG\",\"KAHG\",\"KAHG\",\"KAHG\",\"EP22\",\"EP22\",\"ET17\",\"ET17\",\"EP15\",\"EP15\",\"Q16K\",\"Q16K\",\"Q16K\",\"Q16K\",\"R18K\",\"R18K\",\"R18K\",\"R18K\",\"PLK1\",\"PLK1\",\"KT06\",\"KT06\",\"P18K\",\"P18K\",\"P18K\",\"P18K\",\"PLBL\",\"KT07\",\"KT07\",\"KD05\",\"KD05\",\"P17K\",\"Q19K\",\"Q19K\",\"EP14\",\"EP14\",\"EP21\",\"EP16\",\"EP16\",\"KT08\",\"KT08\",\"KT09\",\"KT09\",\"AUSB\",\"AUSB\",\"R16K\",\"R16K\",\"KD02\",\"KD02\",\"AUWS\",\"AUWS\",\"AUCH\",\"AUCH\",\"AUW\",\"AUJK\",\"KS13\",\"KS13\",\"KS13\",\"KS13\",\"AUH\",\"AUL\",\"AUL\",\"AUL\",\"AUL\",\"AUNO\",\"AU22\",\"AU22\",\"OHAK\",\"O18K\",\"O18K\",\"Q20K\",\"Q20K\",\"P16K\",\"KD01\",\"KD01\",\"KD04\",\"KD04\",\"KS11\",\"KS11\",\"KS11\",\"KS11\",\"O17K\",\"KS03\",\"KS03\",\"KS03\",\"KS03\",\"OPT\",\"P19K\",\"P19K\",\"P19K\",\"P19K\",\"LT07\",\"LT07\",\"LT07\",\"LT07\",\"SII\",\"O16K\",\"O16K\",\"O19K\",\"O19K\",\"O19K\",\"O19K\",\"ILSW\",\"ILSW\",\"ILS\",\"ANNE\",\"IVE\",\"IVE\",\"IVE\",\"IVE\",\"ANNW\",\"ILNE\",\"AZAC\",\"LT01\",\"LT01\",\"LT01\",\"LT01\",\"ANPB\",\"LT04\",\"LT04\",\"LT04\",\"LT04\",\"O20K\",\"WP24\",\"N18K\",\"N18K\",\"HOM\",\"N17K\",\"CNP\",\"CHI\",\"RED\",\"WS71\",\"WS71\",\"WS71\",\"WS71\",\"O15K\",\"RDWB\",\"LD40\",\"LD40\",\"LD40\",\"LD40\",\"WD48\",\"WD48\",\"WD48\",\"WD48\",\"N19K\",\"RDJH\",\"CHGN\",\"RDDF\",\"BRLK\",\"WD55\",\"WD55\",\"WD55\",\"WD55\",\"LA39\",\"LA39\",\"LA39\",\"LA39\",\"WD51\",\"WD51\",\"WD51\",\"WD51\",\"RDT\",\"WS72\",\"WS72\",\"BRSE\",\"WD70\",\"WD70\",\"N16K\",\"LT08\",\"LT08\",\"LT08\",\"LT08\",\"LT10\",\"LT10\",\"LT10\",\"LT10\",\"VNHG\",\"LD36\",\"LD36\",\"LD36\",\"LD36\",\"VNSG\",\"WD50\",\"WD50\",\"WD50\",\"WD50\",\"N15K\",\"LT14\",\"LT14\",\"LT14\",\"LT14\",\"WP25\",\"VNSS\",\"VNFG\",\"WS26\",\"WS26\",\"M18K\",\"VNWF\",\"VNKR\",\"O14K\",\"VNSW\",\"M17K\",\"M16K\",\"SPCR\",\"SPBG\",\"LT12\",\"LT12\",\"LT12\",\"LT12\",\"LA25\",\"LA25\",\"LA25\",\"LA25\",\"CAPN\",\"SLK\",\"LT16\",\"LT16\",\"WD57\",\"WD57\",\"WD57\",\"WD57\",\"SPCG\",\"SWD\",\"LA28\",\"LA28\",\"LA28\",\"LA28\",\"SPBL\",\"LD38\",\"LD38\",\"LD38\",\"LD38\",\"O22K\",\"LT15\",\"LT15\",\"LT15\",\"LT15\",\"M15K\",\"STLK\",\"N14K\",\"WD61\",\"WD61\",\"WD61\",\"WD61\",\"LT13\",\"LT13\",\"WD54\",\"WD54\",\"LA30\",\"LA30\",\"LA30\",\"LA30\",\"LD41\",\"LD41\",\"M20K\",\"LA21\",\"LA21\",\"SSN\",\"L19K\",\"L19K\",\"FIRE\",\"FIRE\",\"RC01\",\"WD46\",\"WD46\",\"WS27\",\"WS27\",\"WS27\",\"WS27\",\"L16K\",\"LA32\",\"LA32\",\"LA32\",\"LA32\",\"L18K\",\"L17K\",\"WD47\",\"WD47\",\"SKN\",\"WD49\",\"WD49\",\"CHN\",\"M14K\",\"LA33\",\"LA33\",\"LA33\",\"LA33\",\"WD58\",\"WD58\",\"WD58\",\"WD58\",\"M22K\",\"L20K\",\"PWL\",\"PWL\",\"P23K\",\"PMR\",\"LA34\",\"LA34\",\"LA34\",\"LA34\",\"WD53\",\"WD53\",\"WS74\",\"WS74\",\"WS74\",\"WS74\",\"LT17\",\"KNK\",\"S12K\",\"S12K\",\"GHO\",\"L15K\",\"PS1A\",\"M13K\",\"TTA\",\"PVV\",\"PV6A\",\"K17K\",\"PS4A\",\"CUT\",\"PN7A\",\"Q23K\",\"Q23K\",\"WD52\",\"WD52\",\"WD52\",\"WD52\",\"WD59\",\"WD59\",\"HAG\",\"SAW\",\"LT20\",\"LT20\",\"LD45\",\"LD45\",\"LD45\",\"LD45\",\"L14K\",\"WD62\",\"WD62\",\"WS75\",\"WS75\",\"WS75\",\"WS75\",\"LD44\",\"LD44\",\"LD44\",\"LD44\",\"PPLA\",\"HIN\",\"HIN\",\"FID\",\"WS28\",\"WS28\",\"M23K\",\"K20K\",\"K15K\",\"WD69\",\"WD69\",\"WD69\",\"WD69\",\"SCM\",\"J18K\",\"EYAK\",\"CAST\",\"WD66\",\"WD66\",\"WD66\",\"WD66\",\"J17K\",\"WD65\",\"WD65\",\"WD65\",\"WD65\",\"WD60\",\"WD60\",\"DIV\",\"J16K\",\"KTH\",\"KLU\",\"TRF\",\"FALS\",\"J19K\",\"CHUM\",\"RAG\",\"WD68\",\"WD68\",\"WD68\",\"WD68\",\"GOAT\",\"KAI\",\"M24K\",\"RND\",\"WD63\",\"WD63\",\"WD63\",\"WD63\",\"ISLZ\",\"J20K\",\"K13K\",\"M11K\",\"BMR\",\"SSLS\",\"J14K\",\"BPAW\",\"NICH\",\"MCK\",\"I17K\",\"SUCK\",\"BERG\",\"N25K\",\"LA23\",\"LA23\",\"WD64\",\"WD64\",\"WD64\",\"WD64\",\"BWN\",\"HARP\",\"WD67\",\"WD67\",\"WD67\",\"WD67\",\"WESE\",\"GCSA\",\"GLB\",\"WACK\",\"PAX\",\"I20K\",\"VRDI\",\"SSP\",\"NEA2\",\"FAPT\",\"CYK\",\"WRH\",\"FNN1\",\"BARK\",\"FTGH\",\"F8KN\",\"F7TV\",\"F1TN\",\"F2TN\",\"I21K\",\"H18K\",\"KIAG\",\"H17K\",\"BAL\",\"F6TP\",\"F3TN\",\"CCB\",\"MESA\",\"K24K\",\"F4TN\",\"F5MN\",\"HDA\",\"H20K\",\"H16K\",\"AKSA\",\"AKHS\",\"H19K\",\"MENT\",\"MENT\",\"I23K\",\"AHB\",\"AKGG\",\"AKBB\",\"AKV\",\"LVA\",\"AKMO\",\"ZRO\",\"M26K\",\"RIDG\",\"AKRB\",\"IL31\",\"H21K\",\"LA29\",\"LA29\",\"DOT\",\"UNV\",\"POKR\",\"MTBL\",\"IM05\",\"G17K\",\"SCRK\",\"J25K\",\"SAMH\",\"MSW\",\"G18K\",\"H22K\",\"M27K\",\"MREP\",\"G16K\",\"PIN\",\"G19K\",\"ANM\",\"G15K\",\"YUK2\",\"L27K\",\"BC01\",\"O28M\",\"BC05\",\"H24K\",\"YUK3\",\"G21K\",\"BVCY\",\"BVCY\",\"J26L\",\"PPD\",\"YUK8\",\"F18K\",\"OKTU\",\"F17K\",\"F19K\",\"OKER\",\"OKRE\",\"G23K\",\"F15K\",\"OKAK\",\"G22K\",\"F20K\",\"OKSP\",\"O29M\",\"I26K\",\"F14K\",\"G24K\",\"G24K\",\"F21K\",\"YUK4\",\"YUK6\",\"YUK7\",\"COLD\",\"P29M\",\"E19K\",\"NIKH\",\"YUK5\",\"FYU\",\"E17K\",\"M29M\",\"TNA\",\"HYT\",\"HYT\",\"E18K\",\"DAWY\",\"DAWY\",\"I27K\",\"P30M\",\"F24K\",\"L29M\",\"GAMB\",\"CLCO\",\"CLCO\",\"PLBC\",\"PLBC\",\"O30N\",\"D17K\"],\"lat\":[58.21,58.21,58.381,58.3686,58.3686,58.1981,58.1981,58.383,58.4393,58.2426,58.1304,58.1304,58.2637,58.2637,58.5458,58.5458,58.0533,58.6483,58.4971,58.4933,58.4933,58.4933,58.4933,57.9007,57.9007,58.6097,58.6097,58.9664,58.9664,58.6774,58.6774,58.6774,58.6774,57.5665,57.5665,57.5665,57.5665,57.8012,57.8012,57.6517,57.6517,59.3922,59.3922,59.3922,59.3922,57.6991,57.5375,57.5375,57.8717,57.8717,59.1953,58.9287,58.9287,59.3257,59.3257,58.212,59.1126,59.1126,57.443,57.443,57.348,57.348,59.333,59.333,57.5673,57.5673,57.8618,57.8618,59.35851,59.35851,59.3626,59.3626,59.3694,59.3493,56.9472,56.9472,56.9472,56.9472,59.3632,59.38218,59.3816,59.38218,59.3816,59.4041,59.370595,59.370595,57.2225,59.8542,59.8542,58.6097,58.6097,59.0314,57.6401,57.6401,57.3042,57.3042,57.1277,57.1277,57.1277,57.1277,59.7733,57.6133,57.6133,57.6133,57.6133,59.6526,59.6524,59.6524,59.6524,59.6524,56.6712,56.6712,56.6712,56.6712,56.5593,59.5938,59.5938,60.1952,60.1952,60.1952,60.1952,59.9832,59.9832,59.957,56.9119,60.0163,60.0163,60.0163,60.0163,56.9656,60.0573,56.8947,56.7756,56.7756,56.7756,56.7756,56.8016,56.1118,56.1118,56.1118,56.1118,60.0815,56.9241,60.6801,60.6801,59.6572,60.5269,59.5251,55.8218,60.4196,56.15695,56.15695,56.15695,56.15695,59.1767,60.486807,56.3037,56.3037,56.3037,56.3037,56.627365,56.627365,56.627365,56.627365,60.8132,60.5905,56.301399,60.5912,59.7511,55.761625,55.761625,55.761625,55.761625,56.8827,56.8827,56.8827,56.8827,55.905087,55.905087,55.905087,55.905087,60.5726,56.257748,56.257748,59.741699,56.541073,56.541073,60.4742,55.5883,55.5883,55.5883,55.5883,55.6251,55.6251,55.6251,55.6251,56.2203,55.2524,55.2524,55.2524,55.2524,56.125,55.449527,55.449527,55.449527,55.449527,60.1686,55.6998,55.6998,55.6998,55.6998,56.453,56.2259,56.2849,55.9123,55.9123,61.4907,56.1509,56.0304,59.2533,56.0712,61.4009,61.0224,61.2003,61.2591,55.207,55.207,55.207,55.207,54.8901,54.8901,54.8901,54.8901,60.768299,60.5117,55.4916,55.4916,54.736387,54.736387,54.736387,54.736387,61.2913,60.1043,54.8983,54.8983,54.8983,54.8983,61.3764,55.1649,55.1649,55.1649,55.1649,60.4814,55.2002,55.2002,55.2002,55.2002,60.6947,61.4982,59.9237,54.647613,54.647613,54.647613,54.647613,54.8439,54.8439,56.331433,56.331433,54.6727,54.6727,54.6727,54.6727,54.5219,54.5219,61.8823,54.3691,54.3691,61.4636,62.1816,62.1816,61.142601,61.142601,61.0889,55.521393,55.521393,55.2236,55.2236,55.2236,55.2236,61.7105,54.4982,54.4982,54.4982,54.4982,62.2195,62.1344,54.951352,54.951352,61.98,54.399083,54.399083,54.831001,60.7515,54.1528,54.1528,54.1528,54.1528,53.906227,53.906227,53.906227,53.906227,61.7531,62.4787,60.858398,60.858398,59.9979,61.592201,54.0449,54.0449,54.0449,54.0449,53.779448,53.779448,54.369193,54.369193,54.369193,54.369193,54.5677,61.4131,55.703,55.703,61.771,61.678,55.42005,60.4135,62.930099,55.37312,55.507,62.7161,55.34604,62.4058,55.4329,59.4296,59.4296,54.046622,54.046622,54.046622,54.046622,53.383713,53.383713,55.31686,61.806999,54.8002,54.8002,54.1025,54.1025,54.1025,54.1025,61.3416,53.361962,53.361962,54.17963,54.17963,54.17963,54.17963,53.8302,53.8302,53.8302,53.8302,62.896198,60.396,60.396,60.7277,55.0746,55.0746,61.7929,63.3569,62.2938,53.782065,53.782065,53.782065,53.782065,61.832001,63.465,60.548698,63.4188,53.31452,53.31452,53.31452,53.31452,63.3965,52.899057,52.899057,52.899057,52.899057,52.64488,52.64488,61.1292,63.2842,63.5527,61.4924,63.4501,54.8564,63.994,63.8827,60.3863,52.917603,52.917603,52.917603,52.917603,60.580502,59.9268,62.1067,63.405602,52.590072,52.590072,52.590072,52.590072,54.72492,64.1767,61.9331,60.3849,60.9677,54.70938,62.7492,64.099701,60.2357,63.7318,63.8864,60.071999,60.3932,61.6061,54.9163,54.9163,52.001077,52.001077,52.001077,52.001077,64.173203,62.3987,52.162563,52.162563,52.162563,52.162563,54.4723,64.7461,61.4417,61.9858,62.9699,64.7962,61.227501,60.1791,64.5928,64.5498,60.082298,64.4716,64.5716,60.403,64.6917,64.7653,64.8537,64.6544,64.7094,65.18,65.1527,60.9231,64.937,61.035999,64.87,64.7716,64.6453,60.1782,63.8036,64.8339,64.8857,64.4091,65.4924,64.6379,54.1095,54.1533,65.5276,62.938049,62.938049,65.1479,54.1144,54.1979,54.0975,54.1253,54.16,54.0903,54.09163,62.4013,63.7399,54.1292,64.7714,65.6571,54.292,54.2918,63.6487,53.8452,65.1171,53.968,65.97509,65.5011,63.976101,64.613,60.129398,53.9148,65.895,65.8937,62.3579,53.8096,65.3936,60.095901,66.1434,64.5646,64.9941,61.7668,63.0618,63.061771,60.7718,63.061001,65.8371,61.7755,66.5156,62.4141,62.4141,64.5012,65.517403,61.2844,66.6001,53.3829,66.442,66.8332,53.4536,53.5192,66.7108,65.7077,53.4113,66.9214,67.0486,53.2516,60.3024,65.3064,65.4742,66.7004,66.7004,67.2221,61.4348,60.9432,60.5307,67.2278,59.6304,67.4572,52.972099,61.1315,66.565697,67.082,62.4435,65.5598,60.8267,60.8267,67.4213,64.0647,64.0647,65.6035,60.1218,67.5187,63.109,63.775799,52.7866,52.7866,59.455,59.455,60.7704,67.6988],\"legendgroup\":\"\",\"lon\":[-155.3281,-155.3281,-155.2971,-155.4394,-155.4394,-155.4961,-155.4961,-154.8013,-155.7428,-155.1854,-154.9716,-154.9716,-155.8865,-155.8865,-155.788,-155.788,-155.5753,-155.0081,-154.7054,-154.5484,-154.5484,-154.5484,-154.5484,-155.7865,-155.7865,-156.265,-156.265,-155.0867,-155.0867,-156.6556,-156.6556,-156.6556,-156.6556,-154.4524,-154.4524,-154.4524,-154.4524,-156.6093,-156.6093,-154.0041,-154.0041,-155.2292,-155.2292,-155.2292,-155.2292,-156.8211,-153.9814,-153.9814,-153.4099,-153.4099,-156.4394,-153.6446,-153.6446,-155.9036,-155.9036,-157.3769,-156.8567,-156.8567,-153.8149,-153.8149,-153.7945,-153.7945,-153.4284,-153.4284,-157.5742,-157.5742,-152.6575,-152.6575,-153.46115,-153.46115,-153.4447,-153.4447,-153.473,-153.4106,-154.1729,-154.1729,-154.1729,-154.1729,-153.4454,-153.43765,-153.4379,-153.43765,-153.4379,-153.4513,-153.355058,-153.355058,-153.287506,-155.208,-155.208,-152.3942,-152.3942,-157.9906,-152.4375,-152.4375,-152.8497,-152.8497,-153.0879,-153.0879,-153.0879,-153.0879,-157.0946,-152.2353,-152.2353,-152.2353,-152.2353,-153.2321,-153.2319,-153.2319,-153.2319,-153.2319,-156.1199,-156.1199,-156.1199,-156.1199,-154.1842,-158.0932,-158.0932,-154.3201,-154.3201,-154.3201,-154.3201,-153.1425,-153.1425,-153.0703,-158.061,-153.0185,-153.0185,-153.0185,-153.0185,-158.217,-153.06354,-158.2328,-152.5228,-152.5228,-152.5228,-152.5228,-158.2829,-154.4446,-154.4446,-154.4446,-154.4446,-152.624,-158.6603,-155.8897,-155.8897,-151.6515,-157.1867,-151.2373,-155.6225,-152.7742,-153.078922,-153.078922,-153.078922,-153.078922,-159.8246,-152.843634,-152.4102,-152.4102,-152.4102,-152.4102,-151.731343,-151.731343,-151.731343,-151.731343,-154.4838,-152.8058,-158.414154,-152.6883,-150.9063,-153.662817,-153.662817,-153.662817,-153.662817,-151.0011,-151.0011,-151.0011,-151.0011,-152.771768,-152.771768,-152.771768,-152.771768,-152.4075,-151.81063,-151.81063,-150.741394,-151.234407,-151.234407,-158.769,-156.5975,-156.5975,-156.5975,-156.5975,-157.3251,-157.3251,-157.3251,-157.3251,-159.1663,-155.7525,-155.7525,-155.7525,-155.7525,-159.0875,-152.391763,-152.391763,-152.391763,-152.391763,-160.0921,-158.0302,-158.0302,-158.0302,-158.0302,-159.7563,-159.4569,-159.5532,-159.1431,-159.1431,-155.8242,-159.5643,-159.3699,-161.2638,-159.5606,-157.4375,-158.9593,-152.2091,-152.3722,-157.778,-157.778,-157.778,-157.778,-155.9408,-155.9408,-155.9408,-155.9408,-151.1539,-150.223099,-158.6013,-158.6013,-154.434305,-154.434305,-154.434305,-154.434305,-152.0228,-149.4526,-156.603,-156.603,-156.603,-156.603,-151.8947,-151.6756,-151.6756,-151.6756,-151.6756,-149.7241,-158.3598,-158.3598,-158.3598,-158.3598,-160.6884,-151.8349,-161.6852,-156.868282,-156.868282,-156.868282,-156.868282,-158.3466,-158.3466,-149.066665,-149.066665,-157.4203,-157.4203,-157.4203,-157.4203,-153.4074,-153.4074,-153.1318,-155.0735,-155.0735,-150.7467,-154.8543,-154.8543,-150.2164,-150.2164,-149.739,-149.703732,-149.703732,-159.9136,-159.9136,-159.9136,-159.9136,-159.4747,-157.8522,-157.8522,-157.8522,-157.8522,-156.6886,-158.2972,-150.444793,-150.444793,-151.5317,-151.89947,-151.89947,-159.589493,-161.96,-158.1143,-158.1143,-158.1143,-158.1143,-155.035345,-155.035345,-155.035345,-155.035345,-150.1205,-153.8798,-148.333405,-148.333405,-147.4031,-149.130798,-158.5881,-158.5881,-158.5881,-158.5881,-153.422908,-153.422908,-159.361628,-159.361628,-159.361628,-159.361628,-160.2016,-148.4585,-162.061,-162.061,-148.926,-161.4869,-161.74373,-163.35,-156.011597,-161.79192,-161.9714,-158.3014,-161.85648,-150.2625,-161.9973,-146.3399,-146.3399,-159.346215,-159.346215,-159.346215,-159.346215,-155.799387,-155.799387,-161.90439,-148.331604,-161.3746,-161.3746,-159.8829,-159.8829,-159.8829,-159.8829,-162.6829,-157.331882,-157.331882,-160.256908,-160.256908,-160.256908,-160.256908,-159.7736,-159.7736,-159.7736,-159.7736,-152.189407,-146.503494,-146.503494,-146.5987,-162.2992,-162.2992,-147.7262,-154.07,-161.5308,-160.34289,-160.34289,-160.34289,-160.34289,-147.328995,-156.7154,-145.75,-152.084396,-159.617565,-159.617565,-159.617565,-159.617565,-159.0777,-158.91238,-158.91238,-158.91238,-158.91238,-156.579823,-156.579823,-145.7749,-160.6021,-150.923294,-145.9227,-150.2892,-163.417603,-155.6214,-152.3152,-144.6773,-160.081145,-160.081145,-160.081145,-160.081145,-144.729202,-144.418793,-146.175,-148.860199,-158.093575,-158.093575,-158.093575,-158.093575,-163.71274,-154.1467,-164.6555,-166.2011,-144.6051,-163.99723,-163.554,-150.987305,-143.9713,-148.9373,-160.695,-143.779007,-143.700394,-144.5982,-155.2376,-155.2376,-158.691562,-158.691562,-158.691562,-158.691562,-149.299103,-145.1568,-160.035832,-160.035832,-160.035832,-160.035832,-164.586,-156.8792,-143.8123,-144.3305,-145.4699,-154.4783,-143.454498,-142.8388,-149.0694,-149.0831,-142.487198,-148.0918,-149.2178,-142.493103,-148.8279,-149.9307,-149.8256,-149.1595,-149.1336,-151.9822,-158.3633,-142.360504,-159.9126,-142.346207,-149.5598,-149.1465,-147.8053,-141.949799,-145.7784,-149.1526,-149.1814,-146.9482,-154.8808,-162.239,-165.6987,-165.8868,-156.4494,-143.719421,-143.719421,-149.3603,-165.8177,-165.9936,-165.9338,-165.9647,-166.0358,-166.0126,-165.97798,-142.9963,-144.8462,-166.0708,-146.886597,-152.805,-157.367,-157.3705,-144.0674,-166.5045,-147.4335,-166.6813,-153.725143,-160.6514,-143.990494,-145.3697,-140.782806,-166.788,-158.654,-151.3773,-141.878,-166.7476,-162.3547,-140.252502,-157.087,-165.3732,-164.0386,-140.8426,-141.8275,-141.827713,-140.1906,-141.753143,-147.8781,-140.4595,-153.5058,-140.8606,-140.8606,-143.5636,-145.524597,-139.7646,-159.6514,-168.0431,-161.2502,-157.7728,-168.0513,-168.1661,-150.0239,-164.6483,-168.36,-151.5073,-155.7251,-168.2925,-138.5755,-143.1541,-166.3288,-147.4754,-147.4754,-153.483,-138.5463,-138.3626,-138.1399,-150.207,-137.7381,-157.2316,-168.854996,-137.8593,-145.234207,-161.8262,-138.4624,-167.9267,-137.5072,-137.5072,-160.6027,-139.3937,-139.3937,-141.6153,-136.9598,-147.8871,-138.129,-171.703598,-169.7229,-169.7229,-136.3659,-136.3659,-136.0906,-163.0831],\"marker\":{\"color\":\"#636efa\",\"symbol\":\"circle\"},\"mode\":\"markers\",\"name\":\"\",\"showlegend\":false,\"type\":\"scattergeo\"}],                        {\"template\":{\"data\":{\"histogram2dcontour\":[{\"type\":\"histogram2dcontour\",\"colorbar\":{\"outlinewidth\":0,\"ticks\":\"\"},\"colorscale\":[[0.0,\"#0d0887\"],[0.1111111111111111,\"#46039f\"],[0.2222222222222222,\"#7201a8\"],[0.3333333333333333,\"#9c179e\"],[0.4444444444444444,\"#bd3786\"],[0.5555555555555556,\"#d8576b\"],[0.6666666666666666,\"#ed7953\"],[0.7777777777777778,\"#fb9f3a\"],[0.8888888888888888,\"#fdca26\"],[1.0,\"#f0f921\"]]}],\"choropleth\":[{\"type\":\"choropleth\",\"colorbar\":{\"outlinewidth\":0,\"ticks\":\"\"}}],\"histogram2d\":[{\"type\":\"histogram2d\",\"colorbar\":{\"outlinewidth\":0,\"ticks\":\"\"},\"colorscale\":[[0.0,\"#0d0887\"],[0.1111111111111111,\"#46039f\"],[0.2222222222222222,\"#7201a8\"],[0.3333333333333333,\"#9c179e\"],[0.4444444444444444,\"#bd3786\"],[0.5555555555555556,\"#d8576b\"],[0.6666666666666666,\"#ed7953\"],[0.7777777777777778,\"#fb9f3a\"],[0.8888888888888888,\"#fdca26\"],[1.0,\"#f0f921\"]]}],\"heatmap\":[{\"type\":\"heatmap\",\"colorbar\":{\"outlinewidth\":0,\"ticks\":\"\"},\"colorscale\":[[0.0,\"#0d0887\"],[0.1111111111111111,\"#46039f\"],[0.2222222222222222,\"#7201a8\"],[0.3333333333333333,\"#9c179e\"],[0.4444444444444444,\"#bd3786\"],[0.5555555555555556,\"#d8576b\"],[0.6666666666666666,\"#ed7953\"],[0.7777777777777778,\"#fb9f3a\"],[0.8888888888888888,\"#fdca26\"],[1.0,\"#f0f921\"]]}],\"heatmapgl\":[{\"type\":\"heatmapgl\",\"colorbar\":{\"outlinewidth\":0,\"ticks\":\"\"},\"colorscale\":[[0.0,\"#0d0887\"],[0.1111111111111111,\"#46039f\"],[0.2222222222222222,\"#7201a8\"],[0.3333333333333333,\"#9c179e\"],[0.4444444444444444,\"#bd3786\"],[0.5555555555555556,\"#d8576b\"],[0.6666666666666666,\"#ed7953\"],[0.7777777777777778,\"#fb9f3a\"],[0.8888888888888888,\"#fdca26\"],[1.0,\"#f0f921\"]]}],\"contourcarpet\":[{\"type\":\"contourcarpet\",\"colorbar\":{\"outlinewidth\":0,\"ticks\":\"\"}}],\"contour\":[{\"type\":\"contour\",\"colorbar\":{\"outlinewidth\":0,\"ticks\":\"\"},\"colorscale\":[[0.0,\"#0d0887\"],[0.1111111111111111,\"#46039f\"],[0.2222222222222222,\"#7201a8\"],[0.3333333333333333,\"#9c179e\"],[0.4444444444444444,\"#bd3786\"],[0.5555555555555556,\"#d8576b\"],[0.6666666666666666,\"#ed7953\"],[0.7777777777777778,\"#fb9f3a\"],[0.8888888888888888,\"#fdca26\"],[1.0,\"#f0f921\"]]}],\"surface\":[{\"type\":\"surface\",\"colorbar\":{\"outlinewidth\":0,\"ticks\":\"\"},\"colorscale\":[[0.0,\"#0d0887\"],[0.1111111111111111,\"#46039f\"],[0.2222222222222222,\"#7201a8\"],[0.3333333333333333,\"#9c179e\"],[0.4444444444444444,\"#bd3786\"],[0.5555555555555556,\"#d8576b\"],[0.6666666666666666,\"#ed7953\"],[0.7777777777777778,\"#fb9f3a\"],[0.8888888888888888,\"#fdca26\"],[1.0,\"#f0f921\"]]}],\"mesh3d\":[{\"type\":\"mesh3d\",\"colorbar\":{\"outlinewidth\":0,\"ticks\":\"\"}}],\"scatter\":[{\"fillpattern\":{\"fillmode\":\"overlay\",\"size\":10,\"solidity\":0.2},\"type\":\"scatter\"}],\"parcoords\":[{\"type\":\"parcoords\",\"line\":{\"colorbar\":{\"outlinewidth\":0,\"ticks\":\"\"}}}],\"scatterpolargl\":[{\"type\":\"scatterpolargl\",\"marker\":{\"colorbar\":{\"outlinewidth\":0,\"ticks\":\"\"}}}],\"bar\":[{\"error_x\":{\"color\":\"#2a3f5f\"},\"error_y\":{\"color\":\"#2a3f5f\"},\"marker\":{\"line\":{\"color\":\"#E5ECF6\",\"width\":0.5},\"pattern\":{\"fillmode\":\"overlay\",\"size\":10,\"solidity\":0.2}},\"type\":\"bar\"}],\"scattergeo\":[{\"type\":\"scattergeo\",\"marker\":{\"colorbar\":{\"outlinewidth\":0,\"ticks\":\"\"}}}],\"scatterpolar\":[{\"type\":\"scatterpolar\",\"marker\":{\"colorbar\":{\"outlinewidth\":0,\"ticks\":\"\"}}}],\"histogram\":[{\"marker\":{\"pattern\":{\"fillmode\":\"overlay\",\"size\":10,\"solidity\":0.2}},\"type\":\"histogram\"}],\"scattergl\":[{\"type\":\"scattergl\",\"marker\":{\"colorbar\":{\"outlinewidth\":0,\"ticks\":\"\"}}}],\"scatter3d\":[{\"type\":\"scatter3d\",\"line\":{\"colorbar\":{\"outlinewidth\":0,\"ticks\":\"\"}},\"marker\":{\"colorbar\":{\"outlinewidth\":0,\"ticks\":\"\"}}}],\"scattermapbox\":[{\"type\":\"scattermapbox\",\"marker\":{\"colorbar\":{\"outlinewidth\":0,\"ticks\":\"\"}}}],\"scatterternary\":[{\"type\":\"scatterternary\",\"marker\":{\"colorbar\":{\"outlinewidth\":0,\"ticks\":\"\"}}}],\"scattercarpet\":[{\"type\":\"scattercarpet\",\"marker\":{\"colorbar\":{\"outlinewidth\":0,\"ticks\":\"\"}}}],\"carpet\":[{\"aaxis\":{\"endlinecolor\":\"#2a3f5f\",\"gridcolor\":\"white\",\"linecolor\":\"white\",\"minorgridcolor\":\"white\",\"startlinecolor\":\"#2a3f5f\"},\"baxis\":{\"endlinecolor\":\"#2a3f5f\",\"gridcolor\":\"white\",\"linecolor\":\"white\",\"minorgridcolor\":\"white\",\"startlinecolor\":\"#2a3f5f\"},\"type\":\"carpet\"}],\"table\":[{\"cells\":{\"fill\":{\"color\":\"#EBF0F8\"},\"line\":{\"color\":\"white\"}},\"header\":{\"fill\":{\"color\":\"#C8D4E3\"},\"line\":{\"color\":\"white\"}},\"type\":\"table\"}],\"barpolar\":[{\"marker\":{\"line\":{\"color\":\"#E5ECF6\",\"width\":0.5},\"pattern\":{\"fillmode\":\"overlay\",\"size\":10,\"solidity\":0.2}},\"type\":\"barpolar\"}],\"pie\":[{\"automargin\":true,\"type\":\"pie\"}]},\"layout\":{\"autotypenumbers\":\"strict\",\"colorway\":[\"#636efa\",\"#EF553B\",\"#00cc96\",\"#ab63fa\",\"#FFA15A\",\"#19d3f3\",\"#FF6692\",\"#B6E880\",\"#FF97FF\",\"#FECB52\"],\"font\":{\"color\":\"#2a3f5f\"},\"hovermode\":\"closest\",\"hoverlabel\":{\"align\":\"left\"},\"paper_bgcolor\":\"white\",\"plot_bgcolor\":\"#E5ECF6\",\"polar\":{\"bgcolor\":\"#E5ECF6\",\"angularaxis\":{\"gridcolor\":\"white\",\"linecolor\":\"white\",\"ticks\":\"\"},\"radialaxis\":{\"gridcolor\":\"white\",\"linecolor\":\"white\",\"ticks\":\"\"}},\"ternary\":{\"bgcolor\":\"#E5ECF6\",\"aaxis\":{\"gridcolor\":\"white\",\"linecolor\":\"white\",\"ticks\":\"\"},\"baxis\":{\"gridcolor\":\"white\",\"linecolor\":\"white\",\"ticks\":\"\"},\"caxis\":{\"gridcolor\":\"white\",\"linecolor\":\"white\",\"ticks\":\"\"}},\"coloraxis\":{\"colorbar\":{\"outlinewidth\":0,\"ticks\":\"\"}},\"colorscale\":{\"sequential\":[[0.0,\"#0d0887\"],[0.1111111111111111,\"#46039f\"],[0.2222222222222222,\"#7201a8\"],[0.3333333333333333,\"#9c179e\"],[0.4444444444444444,\"#bd3786\"],[0.5555555555555556,\"#d8576b\"],[0.6666666666666666,\"#ed7953\"],[0.7777777777777778,\"#fb9f3a\"],[0.8888888888888888,\"#fdca26\"],[1.0,\"#f0f921\"]],\"sequentialminus\":[[0.0,\"#0d0887\"],[0.1111111111111111,\"#46039f\"],[0.2222222222222222,\"#7201a8\"],[0.3333333333333333,\"#9c179e\"],[0.4444444444444444,\"#bd3786\"],[0.5555555555555556,\"#d8576b\"],[0.6666666666666666,\"#ed7953\"],[0.7777777777777778,\"#fb9f3a\"],[0.8888888888888888,\"#fdca26\"],[1.0,\"#f0f921\"]],\"diverging\":[[0,\"#8e0152\"],[0.1,\"#c51b7d\"],[0.2,\"#de77ae\"],[0.3,\"#f1b6da\"],[0.4,\"#fde0ef\"],[0.5,\"#f7f7f7\"],[0.6,\"#e6f5d0\"],[0.7,\"#b8e186\"],[0.8,\"#7fbc41\"],[0.9,\"#4d9221\"],[1,\"#276419\"]]},\"xaxis\":{\"gridcolor\":\"white\",\"linecolor\":\"white\",\"ticks\":\"\",\"title\":{\"standoff\":15},\"zerolinecolor\":\"white\",\"automargin\":true,\"zerolinewidth\":2},\"yaxis\":{\"gridcolor\":\"white\",\"linecolor\":\"white\",\"ticks\":\"\",\"title\":{\"standoff\":15},\"zerolinecolor\":\"white\",\"automargin\":true,\"zerolinewidth\":2},\"scene\":{\"xaxis\":{\"backgroundcolor\":\"#E5ECF6\",\"gridcolor\":\"white\",\"linecolor\":\"white\",\"showbackground\":true,\"ticks\":\"\",\"zerolinecolor\":\"white\",\"gridwidth\":2},\"yaxis\":{\"backgroundcolor\":\"#E5ECF6\",\"gridcolor\":\"white\",\"linecolor\":\"white\",\"showbackground\":true,\"ticks\":\"\",\"zerolinecolor\":\"white\",\"gridwidth\":2},\"zaxis\":{\"backgroundcolor\":\"#E5ECF6\",\"gridcolor\":\"white\",\"linecolor\":\"white\",\"showbackground\":true,\"ticks\":\"\",\"zerolinecolor\":\"white\",\"gridwidth\":2}},\"shapedefaults\":{\"line\":{\"color\":\"#2a3f5f\"}},\"annotationdefaults\":{\"arrowcolor\":\"#2a3f5f\",\"arrowhead\":0,\"arrowwidth\":1},\"geo\":{\"bgcolor\":\"white\",\"landcolor\":\"#E5ECF6\",\"subunitcolor\":\"white\",\"showland\":true,\"showlakes\":true,\"lakecolor\":\"white\"},\"title\":{\"x\":0.05},\"mapbox\":{\"style\":\"light\"}}},\"geo\":{\"domain\":{\"x\":[0.0,1.0],\"y\":[0.0,1.0]},\"center\":{\"lat\":63,\"lon\":-175},\"scope\":\"north america\",\"projection\":{\"scale\":3},\"resolution\":110,\"showcountries\":true},\"legend\":{\"tracegroupgap\":0},\"margin\":{\"t\":60},\"height\":600,\"width\":1000},                        {\"responsive\": true}                    ).then(function(){\n",
       "                            \n",
       "var gd = document.getElementById('69d0bb57-0090-43d1-8576-abe4553b9dfc');\n",
       "var x = new MutationObserver(function (mutations, observer) {{\n",
       "        var display = window.getComputedStyle(gd).display;\n",
       "        if (!display || display === 'none') {{\n",
       "            console.log([gd, 'removed!']);\n",
       "            Plotly.purge(gd);\n",
       "            observer.disconnect();\n",
       "        }}\n",
       "}});\n",
       "\n",
       "// Listen for the removal of the full notebook cells\n",
       "var notebookContainer = gd.closest('#notebook-container');\n",
       "if (notebookContainer) {{\n",
       "    x.observe(notebookContainer, {childList: true});\n",
       "}}\n",
       "\n",
       "// Listen for the clearing of the current output cell\n",
       "var outputEl = gd.closest('.output');\n",
       "if (outputEl) {{\n",
       "    x.observe(outputEl, {childList: true});\n",
       "}}\n",
       "\n",
       "                        })                };                });            </script>        </div>"
      ]
     },
     "metadata": {},
     "output_type": "display_data"
    }
   ],
   "source": [
    "fig = px.scatter_geo(log,\n",
    "                     lat='latitude',lon='longitude', \n",
    "                     # size='marker_size', color='magnitudes',\n",
    "                     hover_name='station', \n",
    "                     hover_data=['distance','velocity', 'travel_time'],\n",
    "                     scope='north america',\n",
    "                     # range_color=(min(df['magnitudes']),max(df['magnitudes'])),\n",
    "                     height=600, width=1000,\n",
    "                     #animation_frame=\"year\"\n",
    "                    );\n",
    "\n",
    "# focus point\n",
    "# lat_foc = 55\n",
    "# lon_foc = -165\n",
    "lat_foc = 63\n",
    "lon_foc = -175\n",
    "fig.update_layout(\n",
    "        geo = dict(\n",
    "            projection_scale=3, #this is kind of like zoom\n",
    "            center=dict(lat=lat_foc, lon=lon_foc), # this will center on the point\n",
    "        ))\n",
    "\n",
    "fig.update_geos(resolution=110, showcountries=True)"
   ]
  },
  {
   "cell_type": "code",
   "execution_count": null,
   "id": "a2caf2c8-4856-48ea-a8df-48f9a4182d08",
   "metadata": {},
   "outputs": [],
   "source": []
  }
 ],
 "metadata": {
  "kernelspec": {
   "display_name": "Python 3 (ipykernel)",
   "language": "python",
   "name": "python3"
  },
  "language_info": {
   "codemirror_mode": {
    "name": "ipython",
    "version": 3
   },
   "file_extension": ".py",
   "mimetype": "text/x-python",
   "name": "python",
   "nbconvert_exporter": "python",
   "pygments_lexer": "ipython3",
   "version": "3.9.13"
  }
 },
 "nbformat": 4,
 "nbformat_minor": 5
}
